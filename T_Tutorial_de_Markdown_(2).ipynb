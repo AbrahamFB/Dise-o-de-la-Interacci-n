{
  "cells": [
    {
      "metadata": {
        "id": "rfJm1hu-Ynl8",
        "colab_type": "text"
      },
      "cell_type": "markdown",
      "source": "<h1>Tutorial de Markdown</h1>"
    },
    {
      "metadata": {
        "id": "9fV58vb_YnmF",
        "colab_type": "text"
      },
      "cell_type": "markdown",
      "source": "<h3 style=\"color:gray\">Markdown:</h3>\n<p>Es una forma sencilla de dar otro aspecto a tus textos utilizando lenguaje de texto plano. Es decir, que con sencillos símbolos de texto plano, podremos definir un texto en negrita, en cursiva, como encabezado, crear un enlace, etc. Sin necesidad de utilizar un editor de texto más complejo.</p>\n<h3 style=\"color:gray\">Sintaxis:</h3>"
    },
    {
      "metadata": {
        "id": "ZIbaP-ziYnmP",
        "colab_type": "text"
      },
      "cell_type": "markdown",
      "source": "> <p>## Título</p>\n> <p>### Subtítulo</p>\n> <p>Este es un ejemplo de texto que da entrada a una lista genérica de elementos:</p>\n> <br>\n> <p>- Elemento 1</p>\n> <p>- Elemento 2</p>\n> <p>- Elemento 3</p>\n> <br>\n> <p>Este es un ejemplo de texto que da entrada a una lista numerada:</p>\n> <br>\n> <p>1. Elemento 1</p>\n> <p>2. Elemento 2</p>\n> <p>3. Elemento 3</p>\n<p>Corresponde a</p>"
    },
    {
      "metadata": {
        "id": "fjBCNc5ZYnmW",
        "colab_type": "text"
      },
      "cell_type": "markdown",
      "source": "## Título\n### Subtítulo\nEste es un ejemplo de texto que da entrada a una lista genérica de elementos:\n\n- Elemento 1\n- Elemento 2\n- Elemento 3\n\nEste es un ejemplo de texto que da entrada a una lista numerada:\n\n1. Elemento 1\n2. Elemento 2\n3. Elemento 3"
    },
    {
      "metadata": {
        "id": "ka9BNMDcYnmf",
        "colab_type": "text"
      },
      "cell_type": "markdown",
      "source": "<hr>\n<h2 style=\"color:#30B2FA\">Definiciones</h2>"
    },
    {
      "metadata": {
        "id": "oFObD0UAYnml",
        "colab_type": "text"
      },
      "cell_type": "markdown",
      "source": "#### Markdown\n> <p>Herramienta de conversión de texto plano a HTML.\n> <p>Lenguaje de marcado que facilita la escritura de documentos y artículos web.</p>\n\n#### Multimarkdown\n> <p>Lenguaje de marcado que añade características a las carencias de su hermano Markdown (tablas, notas al pie de página, listas de definiciones como esta…)</p>"
    },
    {
      "metadata": {
        "id": "iaDKbRfSYnms",
        "colab_type": "text"
      },
      "cell_type": "markdown",
      "source": "<hr>\n<h2 style=\"color:#30B2FA\">Elementos de bloque</h2>\n\n<ul>\n  <li>Elementos de bloque\n  \t<ul>\n        <li>Párrafos y saltos de línea</li>\n        <li>Encabezados</li>\n        <li>Citas</li>\n        <li>Listas</li>\n        <li>Códigos de bloque</li>\n        <li>Reglas horizontales</li>\n  \t</ul>\n  </li>\n  <li>Elementos de línea\n  \t<ul>\n        <li>Énfasis</li>\n        <li>Links o enlaces</li>\n        <li>Código</li>\n        <li>Imágenes</li>\n  \t</ul>\n  </li>\n</ul>"
    },
    {
      "metadata": {
        "id": "iYfVPO9rYnnQ",
        "colab_type": "text"
      },
      "cell_type": "markdown",
      "source": "<h2 style=\"color:#30B2FA\">Párrafos y saltos de línea</h2>\n"
    },
    {
      "metadata": {
        "id": "aRqFf-1UYnnW",
        "colab_type": "text"
      },
      "cell_type": "markdown",
      "source": "> <p>Para generar un nuevo párrafo en Markdown simplemente separa el texto mediante una línea en blanco (pulsando dos veces enter).</p>\n> <p>Para realizar un salto de línea y empezar una frase en una línea siguiente dentro del mismo párrafo, tendrás que pulsar dos veces la barra espaciadora antes de pulsar una vez enter.</p>\n<hr>"
    },
    {
      "metadata": {
        "id": "EZx7vF0YYnnc",
        "colab_type": "text"
      },
      "cell_type": "markdown",
      "source": "<h2 style=\"color:#30B2FA\">Encabezados</h2>\n<p>Las `#` almohadillas son uno de los métodos utilizados en Markdown para crear encabezados. Debemos usarlos añadiendo uno por cada nivel.</p>"
    },
    {
      "metadata": {
        "id": "M9dbNWq9Ynng",
        "colab_type": "text"
      },
      "cell_type": "markdown",
      "source": "> <li># Encabezado 1</li>\n> <li>## Encabezado 2</li>\n> <li>### Encabezado 3</li>\n> <li>#### Encabezado 4</li>\n> <li>##### Encabezado 5</li>\n> <li>###### Encabezado 6</li>\n<p>Se corresponde con:</p>"
    },
    {
      "metadata": {
        "id": "nGig0CSHYnnk",
        "colab_type": "text"
      },
      "cell_type": "markdown",
      "source": "# Encabezado 1\n## Encabezado 2\n### Encabezado 3\n#### Encabezado 4\n##### Encabezado 5\n###### Encabezado 6"
    },
    {
      "metadata": {
        "id": "YMVpybZiYnnp",
        "colab_type": "text"
      },
      "cell_type": "markdown",
      "source": "<p>Existe otra manera de generar encabezados, aunque este método está limitado a dos niveles.</p>\n\n<p>Consiste en subrayar los encabezados con el símbolo = (para el encabezado 1), o con guiones - para el encabezado 2.</p>"
    },
    {
      "metadata": {
        "id": "coUhd67NYnnv",
        "colab_type": "text"
      },
      "cell_type": "markdown",
      "source": "Esto sería un encabezado 1\n===\n Esto sería un encabezado 2"
    },
    {
      "metadata": {
        "id": "LnRZZMwdYnn1",
        "colab_type": "text"
      },
      "cell_type": "markdown",
      "source": "<hr>\n<h2 style=\"color:#30B2FA\">Citas</h2>\n<p>Las citas se generar utilizando el carácter mayor que `>` al comienzo del bloque de texto.</p>\n<p>> La naturaleza nos ha dado las semillas del conocimiento, no el conocimiento mismo..  — Séneca</p>"
    },
    {
      "metadata": {
        "id": "IpdYwHJhYnn3",
        "colab_type": "text"
      },
      "cell_type": "markdown",
      "source": "> La naturaleza nos ha dado las semillas del conocimiento, no el conocimiento mismo..  — Séneca"
    },
    {
      "metadata": {
        "id": "NXZDkY3UYnn9",
        "colab_type": "text"
      },
      "cell_type": "markdown",
      "source": "<p>Incluso puedes concatenar varios `>>` para crear citas anidadas.</p>\n<p> \\> Esto sería una cita como la que acabas de ver.</p>\n<p> \\> \\> Dentro de ella puedes anidar otra cita.</p>\n<p> \\> La cita principal llegaría hasta aquí. </p>"
    },
    {
      "metadata": {
        "id": "7BHuko1gYnoB",
        "colab_type": "text"
      },
      "cell_type": "markdown",
      "source": "> Esto sería una cita como la que acabas de ver.\n> \n> > Dentro de ella puedes anidar otra cita.\n> \n> La cita principal llegaría hasta aquí. "
    },
    {
      "metadata": {
        "id": "tHawGwPFYnoE",
        "colab_type": "text"
      },
      "cell_type": "markdown",
      "source": "<hr>\n<h2 style=\"color:#30B2FA\">Listas</h2>\n<p>A diferencia de lo que ocurre en HTML, generar listas en Markdown es tremendamente sencillo. Podemos encontrarnos con 2 tipos.</p>\n*<h3>Listas desordenadas</h3>*\n\n<p>Para crear listas desordenadas utiliza * asteriscos, - guiones, o + símbolo de suma.</p>\n>No importa qué elemento incluyas, incluso puedes intercambiarlos. Todos se verán igual al procesarse."
    },
    {
      "metadata": {
        "id": "RF8chGNmYnoK",
        "colab_type": "raw"
      },
      "cell_type": "markdown",
      "source": "- Elemento de lista 1\n- Elemento de lista 2\n* Elemento de lista 3\n* Elemento de lista 4\n+ Elemento de lista 5\n+ Elemento de lista 6\n"
    },
    {
      "metadata": {
        "id": "UB-Q5hQdYnoR",
        "colab_type": "text"
      },
      "cell_type": "markdown",
      "source": "- Elemento de lista 1\n- Elemento de lista 2\n* Elemento de lista 3\n* Elemento de lista 4\n+ Elemento de lista 5\n+ Elemento de lista 6\n"
    },
    {
      "metadata": {
        "id": "PTI-3FtpYnos",
        "colab_type": "text"
      },
      "cell_type": "markdown",
      "source": "<p>Para listas anidadas dentro de otras, simplemente tendremos que añadir **cuatro espacios en blanco antes del siguiente *, - o +.</p>"
    },
    {
      "metadata": {
        "id": "_BQI4MIOYnox",
        "colab_type": "raw"
      },
      "cell_type": "markdown",
      "source": " - Elemento de lista 2\n    - Elemento de lista 3\n    - Elemento de lista 4\n        - Elemento de lista 5\n        - Elemento de lista 6"
    },
    {
      "metadata": {
        "id": "4VRW1AsJYno1",
        "colab_type": "text"
      },
      "cell_type": "markdown",
      "source": "- Elemento de lista 2\n    - Elemento de lista 3\n    - Elemento de lista 4\n        - Elemento de lista 5\n        - Elemento de lista 6"
    },
    {
      "metadata": {
        "id": "708OdiyEYno4",
        "colab_type": "text"
      },
      "cell_type": "markdown",
      "source": "*<h3>Listas ordenadas</h3>*\n<p>Para crear listas ordenadas debes utilizar la sintaxis de tipo: “número.” 1.. Al igual que ocurre con las listas desordenadas, también podrás anidarlas o combinarlas.</p>"
    },
    {
      "metadata": {
        "id": "WALHufL-Yno9",
        "colab_type": "raw"
      },
      "cell_type": "markdown",
      "source": "1. Elemento de lista 1\n2.  Elemento de lista 2\n    - Elemento de lista 3\n    - Elemento de lista 4\n        1. Elemento de lista 5\n        2. Elemento de lista 6"
    },
    {
      "metadata": {
        "id": "MEOl4eL8YnpC",
        "colab_type": "text"
      },
      "cell_type": "markdown",
      "source": "1. Elemento de lista 1\n2.  Elemento de lista 2\n    - Elemento de lista 3\n    - Elemento de lista 4\n        1. Elemento de lista 5\n        2. Elemento de lista 6"
    },
    {
      "metadata": {
        "id": "v78b2qQ6YnpF",
        "colab_type": "text"
      },
      "cell_type": "markdown",
      "source": "<hr>\n<h2 style=\"color:#30B2FA\">Códigos de bloque</h2>\n<p>Si queremos crear un bloque entero que contenga código. Lo único que tenemos que hacer es encerrar dicho párrafo entre dos líneas formadas por tres ~ virgulillas.</p>"
    },
    {
      "metadata": {
        "id": "yfGLkSghYnpJ",
        "colab_type": "text"
      },
      "cell_type": "markdown",
      "source": "<p>\\~\\~\\~</p>\n<p>Creando códigos de bloque.</p>\n<p>Puedes añadir tantas líneas y párrafos como quieras.  </p>\n<p>\\~\\~\\~</p>"
    },
    {
      "metadata": {
        "id": "We3R2UDfYnpP",
        "colab_type": "text"
      },
      "cell_type": "markdown",
      "source": "~~~\nCreando códigos de bloque.\nPuedes añadir tantas líneas y párrafos como quieras.  \n~~~"
    },
    {
      "metadata": {
        "id": "rMM7nNKgYnpU",
        "colab_type": "text"
      },
      "cell_type": "markdown",
      "source": "<hr>\n<h2 style=\"color:#30B2FA\">Reglas horizontales</h2>\n"
    },
    {
      "metadata": {
        "id": "G26g60spYnpZ",
        "colab_type": "text"
      },
      "cell_type": "markdown",
      "source": "<p>Las reglas horizontales se utilizan para separar secciones de una manera visual.</p>"
    },
    {
      "metadata": {
        "id": "-ZCzYT9vYnpd",
        "colab_type": "text"
      },
      "cell_type": "markdown",
      "source": "> <p>\\*\\*\\*</p>\n> <p>\\-\\-\\-</p>\n> <p>\\_\\_\\_</p>\n> <br>\n> <p> \\* &nbsp;\\* &nbsp;\\* </p>\n> <p> \\- &nbsp;\\- &nbsp;\\- </p>\n> <p> \\_ &nbsp;\\_ &nbsp;\\_ </p>"
    },
    {
      "metadata": {
        "id": "qU8pAt5HYnpg",
        "colab_type": "text"
      },
      "cell_type": "markdown",
      "source": "<hr>\n<h2 style=\"color:#30B2FA\">Elementos de línea</h2>\n*<h3>Énfasis (negritas y cursivas)</h3>*\n<p>Markdown utiliza asteriscos o guiones bajos para enfatizar.</p>"
    },
    {
      "metadata": {
        "id": "2vA-HjyQYnpj",
        "colab_type": "text"
      },
      "cell_type": "markdown",
      "source": "| MARKDOWN\t | RESULTADO |\n| -- | -- | -- |\n| \\*cursiva\\* | *cursiva* |\n| \\_cursiva\\_ | _cursiva_\t |\n| \\*\\*negrita\\*\\* | **negrita** |\n| \\_\\_negrita\\_\\_ | __negrita__ |\n"
    },
    {
      "metadata": {
        "id": "D6e1Kwb1Ynpn",
        "colab_type": "text"
      },
      "cell_type": "markdown",
      "source": "<p>Por supuesto si quieremos utilizar los 2 tipos de énfasis no tienes más que combinar la sintaxis, envolviendo la palabra entre tres asteriscos o tres guiones bajos.</p>"
    },
    {
      "metadata": {
        "id": "JimYCSh9Ynpr",
        "colab_type": "text"
      },
      "cell_type": "markdown",
      "source": "| MARKDOWN\t | RESULTADO |\n| -- | -- | -- |\n| \\*\\*\\*cursiva y negrita\\*\\*\\*\t| \\*\\*\\*cursiva y negrita\\*\\*\\*\t |\n| \\_\\_\\_cursiva y negrita\\_\\_\\_ | \\_\\_\\_cursiva y negrita\\_\\_\\_\t |"
    },
    {
      "metadata": {
        "id": "Y2ribtecYnpt",
        "colab_type": "text"
      },
      "cell_type": "markdown",
      "source": "<hr>\n<h2 style=\"color:#30B2FA\">Links o enlaces</h2>\n<p>Añadir enlaces a una publicación, más que común, hoy en día es algo casi obligatorio. Con Markdown tendremos varias formas de hacerlo.</p>\n*<h3>Links o enlaces en línea</h3>*\n<p>Se crean escribiendo la palabra o texto enlazada entre [] corchetes, y el link en cuestión entre () paréntesis.</p>"
    },
    {
      "metadata": {
        "id": "0f0BBjNuYnpx",
        "colab_type": "text"
      },
      "cell_type": "markdown",
      "source": "| MARKDOWN\t | RESULTADO |\n| -- | -- | -- |\n| \\[enlace en línea\\]\\(https://twl-pue.web.app/\\)\t | [enlace en línea](http://www.limni.net)\t |"
    },
    {
      "metadata": {
        "id": "RyVIKOz2Ynpz",
        "colab_type": "text"
      },
      "cell_type": "markdown",
      "source": "*<h3>Links o enlaces como referencia</h3>*\n<p>La desventaja del método anterior, es que si utilizamos links demasiado complejos o largos pueden dificultarnos la lectura de nuestro texto.</p>\n\n<p>Para solucionarlo y crear nuestro contenido de una manera más ordenada podemos generar enlaces de referencia.</p>\n\n<p>Esto quiere decir que en nuestro texto enlazaremos palabras o códigos concretos (formados por letras y/o números), que en otro lugar más apartado de tu documento tendrás definidos como determinadas URL.</p>"
    },
    {
      "metadata": {
        "id": "GHh8v32mYnp4",
        "colab_type": "text"
      },
      "cell_type": "markdown",
      "source": ">\\[nombre de tu enlace\\]\\[nombre de tu referencia\\]\n\n>\\[nombre de tu referencia\\]\\: https://twl-pue.web.app/"
    },
    {
      "metadata": {
        "id": "-FfMacVBYnp9",
        "colab_type": "text"
      },
      "cell_type": "markdown",
      "source": "<hr>\n<h2 style=\"color:#30B2FA\">Código\n</h2>\n<p>En según que tipo de publicaciones, necesitaremos añadir pequeñas secciones donde mostrar código de otro lenguaje, atajos de teclado, o demás contenido que no debería ser tratado como tal.</p>"
    },
    {
      "metadata": {
        "id": "AJHb-AXZYnqA",
        "colab_type": "text"
      },
      "cell_type": "markdown",
      "source": "[nombre de tu enlace][nombre de tu referencia]\n\n[nombre de tu referencia]: https://twl-pue.web.app/"
    },
    {
      "metadata": {
        "id": "6sJ41UA9YnqC",
        "colab_type": "text"
      },
      "cell_type": "markdown",
      "source": "*<h3>Código puro `<code>`</h3>*\n<p>La forma más sencilla de escribir código en Markdown es envolver el texto entre dos comillas sencillas ```. Esto se corresponde con la etiqueta HTML `<code>`</p>"
    },
    {
      "metadata": {
        "id": "hin4QBhtYnqG",
        "colab_type": "text"
      },
      "cell_type": "markdown",
      "source": "`Esto es una línea de código`\n"
    },
    {
      "metadata": {
        "id": "puXS1QS8YnqK",
        "colab_type": "text"
      },
      "cell_type": "markdown",
      "source": "*<h3>Texto preformateado `<pre>`</h3>*\n<p> La otra manera de añadir código en Markdown es comenzar el párrafo con cuatro espacios en blanco. Esto se corresponde con la etiqueta HTML `<pre>`</p>"
    },
    {
      "metadata": {
        "id": "ielprVVtYnqN",
        "colab_type": "text"
      },
      "cell_type": "markdown",
      "source": "Esto es una línea de código"
    },
    {
      "metadata": {
        "id": "oslNAdbjYnqR",
        "colab_type": "text"
      },
      "cell_type": "markdown",
      "source": "<hr>\n<h2 style=\"color:#30B2FA\">Imágenes</h2>\n<p>Insertar una imagen con Markdown se realiza de una manera prácticamente idéntica a insertar links.</p>\n> \\!\\[Texto alternativo\\]\\(/ruta/a/la/imagen.jpg\\)"
    },
    {
      "metadata": {
        "id": "xZIVBZCcYnqU",
        "colab_type": "text"
      },
      "cell_type": "markdown",
      "source": "![Texto alternativo](https://desdepuebla.com/wp-content/uploads/2020/05/downloadfile-24.jpg)\n"
    },
    {
      "metadata": {
        "id": "PY5GsXYkYnqX",
        "colab_type": "text"
      },
      "cell_type": "markdown",
      "source": "> \\!\\[Texto alternativo\\]\\(/ruta/a/la/imagen.jpg \"Título alternativo\"\\)\n"
    },
    {
      "metadata": {
        "id": "Yjfg0dgrYnqa",
        "colab_type": "text"
      },
      "cell_type": "markdown",
      "source": "![Texto alternativo](https://desdepuebla.com/wp-content/uploads/2020/05/downloadfile-24.jpg \"BUAP\")\n"
    },
    {
      "metadata": {
        "id": "vuUwA-xPYnqd",
        "colab_type": "text"
      },
      "cell_type": "markdown",
      "source": "<hr>\n<h2 style=\"color:#30B2FA\">Omitir Markdown</h2>\n<p>Si has llegado hasta aquí es probable que te estés preguntando cómo he conseguido escribir ciertos símbolos como * asteriscos o _ guiones bajos, sin que Markdown los interprete para convertirlos en negritas, cursivas…</p>\n<br>\n<p>Se trata de la barra invertida `\\` .</p>\n\nEscribiéndola justo delante de cualquiera de los elementos que verás a continuación, los mismos no tendrán efecto a la hora de convertirse en negritas, cursivas, links…</p>"
    },
    {
      "metadata": {
        "id": "lrnD_11jYnqe",
        "colab_type": "text"
      },
      "cell_type": "markdown",
      "source": "> <p> `\\ ` barra invertida</p>\n> <p> `` ` acento invertido</p>\n> <p> `* ` asterisco</p>\n> <p> `_ ` guión bajo</p>\n> <p> `{}` llaves</p>\n> <p> `[]` corchetes</p>\n> <p> `()` paréntesis</p>\n> <p> `# ` almohadilla</p>\n> <p> `+ ` símbolo de suma</p>\n> <p> `- ` guión</p>\n> <p> `. ` punto</p>\n> <p> `! ` exclamación<> /p>"
    },
    {
      "metadata": {
        "id": "7r5GL4dWYnqh",
        "colab_type": "text"
      },
      "cell_type": "markdown",
      "source": "### Referencias\n- https://markdown.es/sintaxis-markdown/\n- https://victorhckinthefreeworld.com/2019/09/23/tutorial-de-markdown-en-espanol/\n"
    },
    {
      "metadata": {
        "id": "bRutcQqPYnqj",
        "colab_type": "text"
      },
      "cell_type": "markdown",
      "source": "<hr>\n<h1 style=\"color:#30B2FA\">Una introducción informal a Python </h1>"
    },
    {
      "metadata": {
        "id": "tBSRsGa6Ynqn",
        "colab_type": "text"
      },
      "cell_type": "markdown",
      "source": "<p># este es el primer comentario</p>\n<p> SPAM = 1 # y este es el segundo comentario</p>\n<p>  # ... y ahora un tercero!</p>\n<p> STRING = \"# Este no es un comentario\".</p>"
    },
    {
      "metadata": {
        "id": "EQH5nMBmYnqq",
        "colab_type": "text"
      },
      "cell_type": "markdown",
      "source": "<hr>\n<h2 style=\"color:#30B2FA\">Números</h2>\n<p>El intérprete actúa como una simple calculadora; podés ingresar una expresión y este escribirá los valores. La sintaxis es\nsencilla: los operadores +, -, * y / funcionan como en la mayoría de los lenguajes (por ejemplo, Pascal o C); los paréntesis\n(()) pueden ser usados para agrupar. </p>"
    },
    {
      "metadata": {
        "trusted": false,
        "id": "ApJ7EZVhYnqs",
        "colab_type": "code",
        "colab": {
          "base_uri": "https://localhost:8080/",
          "height": 35
        },
        "outputId": "6811a3b2-7513-4ae1-8e85-bff2c23e6eeb"
      },
      "cell_type": "code",
      "source": "425+24",
      "execution_count": 61,
      "outputs": [
        {
          "output_type": "execute_result",
          "data": {
            "text/plain": "449"
          },
          "metadata": {
            "tags": []
          },
          "execution_count": 61
        }
      ]
    },
    {
      "metadata": {
        "trusted": false,
        "id": "YvzfC4QWYnq_",
        "colab_type": "code",
        "colab": {
          "base_uri": "https://localhost:8080/",
          "height": 35
        },
        "outputId": "5816026c-2708-4c34-c1fb-b937434a379b"
      },
      "cell_type": "code",
      "source": "# Este es un comentario\n432+32",
      "execution_count": 62,
      "outputs": [
        {
          "output_type": "execute_result",
          "data": {
            "text/plain": "464"
          },
          "metadata": {
            "tags": []
          },
          "execution_count": 62
        }
      ]
    },
    {
      "metadata": {
        "trusted": false,
        "id": "LoLVmViHYnrJ",
        "colab_type": "code",
        "colab": {
          "base_uri": "https://localhost:8080/",
          "height": 35
        },
        "outputId": "8fce6f6b-9624-4f07-eecc-44ee3feb4f8f"
      },
      "cell_type": "code",
      "source": "(50-5*6)/4",
      "execution_count": 63,
      "outputs": [
        {
          "output_type": "execute_result",
          "data": {
            "text/plain": "5.0"
          },
          "metadata": {
            "tags": []
          },
          "execution_count": 63
        }
      ]
    },
    {
      "metadata": {
        "trusted": false,
        "id": "9DWPKdRvYnrS",
        "colab_type": "code",
        "colab": {
          "base_uri": "https://localhost:8080/",
          "height": 35
        },
        "outputId": "3c19fba6-cad8-4e73-8c6c-eb746f40b048"
      },
      "cell_type": "code",
      "source": "9 / 3 # las fracciones no se pierden al dividir enteros",
      "execution_count": 64,
      "outputs": [
        {
          "output_type": "execute_result",
          "data": {
            "text/plain": "3.0"
          },
          "metadata": {
            "tags": []
          },
          "execution_count": 64
        }
      ]
    },
    {
      "metadata": {},
      "cell_type": "markdown",
      "source": "<p>Los números enteros (por ejemplo 2, 4, 20) son de tipo int, aquellos con una parte fraccional (por ejemplo 5.0, 1.6) son\nde tipo float.</p>"
    },
    {
      "metadata": {
        "trusted": true
      },
      "cell_type": "code",
      "source": "17/3 # la división clásica retorna un punto flotante",
      "execution_count": 1,
      "outputs": [
        {
          "output_type": "execute_result",
          "execution_count": 1,
          "data": {
            "text/plain": "5.666666666666667"
          },
          "metadata": {}
        }
      ]
    },
    {
      "metadata": {
        "trusted": true,
        "id": "DaQRK0RTYnrZ",
        "colab_type": "code",
        "colab": {
          "base_uri": "https://localhost:8080/",
          "height": 35
        },
        "outputId": "41108ac3-bf5e-43e7-e072-551fd2d415a9"
      },
      "cell_type": "code",
      "source": "17 // 3 # la división entera descarta la parte fraccional",
      "execution_count": 2,
      "outputs": [
        {
          "output_type": "execute_result",
          "execution_count": 2,
          "data": {
            "text/plain": "5"
          },
          "metadata": {}
        }
      ]
    },
    {
      "metadata": {
        "trusted": true,
        "id": "6VWDETfzYnrj",
        "colab_type": "code",
        "colab": {
          "base_uri": "https://localhost:8080/",
          "height": 35
        },
        "outputId": "65cb0589-02f2-4363-ade2-55a40939a14e"
      },
      "cell_type": "code",
      "source": "17 % 3 # el operado % retorna el resto de la división",
      "execution_count": 3,
      "outputs": [
        {
          "output_type": "execute_result",
          "execution_count": 3,
          "data": {
            "text/plain": "2"
          },
          "metadata": {}
        }
      ]
    },
    {
      "metadata": {
        "trusted": true
      },
      "cell_type": "code",
      "source": "5 * 3 + 2 # resultado * divisor + resto",
      "execution_count": 4,
      "outputs": [
        {
          "output_type": "execute_result",
          "execution_count": 4,
          "data": {
            "text/plain": "17"
          },
          "metadata": {}
        }
      ]
    },
    {
      "metadata": {},
      "cell_type": "markdown",
      "source": "<p>Ees posible usar el operador ** para calcular potencias 2:</h2>"
    },
    {
      "metadata": {
        "trusted": true
      },
      "cell_type": "code",
      "source": "5 ** 2 # 5 al cuadrado",
      "execution_count": 7,
      "outputs": [
        {
          "output_type": "execute_result",
          "execution_count": 7,
          "data": {
            "text/plain": "25"
          },
          "metadata": {}
        }
      ]
    },
    {
      "metadata": {
        "trusted": true
      },
      "cell_type": "code",
      "source": "2 ** 7 # 2 a la potencia de 7",
      "execution_count": 6,
      "outputs": [
        {
          "output_type": "execute_result",
          "execution_count": 6,
          "data": {
            "text/plain": "128"
          },
          "metadata": {}
        }
      ]
    },
    {
      "metadata": {
        "id": "xsbsooOwYnrt",
        "colab_type": "text"
      },
      "cell_type": "markdown",
      "source": "<p>El signo igual (=) es usado para asignar un valor a una variable. Luego, ningún resultado es mostrado antes del próximo\nprompt:</p>"
    },
    {
      "metadata": {
        "trusted": false,
        "id": "5RZMhIjmYnrw",
        "colab_type": "code",
        "colab": {
          "base_uri": "https://localhost:8080/",
          "height": 35
        },
        "outputId": "720b564b-9779-4efe-d87d-00ddf3d062cb"
      },
      "cell_type": "code",
      "source": "ancho = 201\nlargo = 6*8\nancho * largo\n",
      "execution_count": 67,
      "outputs": [
        {
          "output_type": "execute_result",
          "data": {
            "text/plain": "9648"
          },
          "metadata": {
            "tags": []
          },
          "execution_count": 67
        }
      ]
    },
    {
      "metadata": {
        "id": "hyOFSpB4Ynr3",
        "colab_type": "text"
      },
      "cell_type": "markdown",
      "source": "<p>Un valor puede ser asignado a varias variables simultáneamente:</p>"
    },
    {
      "metadata": {
        "trusted": false,
        "id": "YK4Fy4plYnr4",
        "colab_type": "code",
        "colab": {}
      },
      "cell_type": "code",
      "source": " x = y = z = 0 # Cero a x, y, y z",
      "execution_count": 68,
      "outputs": []
    },
    {
      "metadata": {
        "trusted": false,
        "id": "0JvC7AC0YnsD",
        "colab_type": "code",
        "colab": {
          "base_uri": "https://localhost:8080/",
          "height": 35
        },
        "outputId": "7b427752-eab9-4da5-9fab-895f61000294"
      },
      "cell_type": "code",
      "source": "x",
      "execution_count": 69,
      "outputs": [
        {
          "output_type": "execute_result",
          "data": {
            "text/plain": "0"
          },
          "metadata": {
            "tags": []
          },
          "execution_count": 69
        }
      ]
    },
    {
      "metadata": {
        "trusted": false,
        "id": "qVCLN7EQYnsL",
        "colab_type": "code",
        "colab": {
          "base_uri": "https://localhost:8080/",
          "height": 35
        },
        "outputId": "6a020544-a202-4d97-b779-03ad3bb5b63a"
      },
      "cell_type": "code",
      "source": "y",
      "execution_count": 70,
      "outputs": [
        {
          "output_type": "execute_result",
          "data": {
            "text/plain": "0"
          },
          "metadata": {
            "tags": []
          },
          "execution_count": 70
        }
      ]
    },
    {
      "metadata": {
        "trusted": false,
        "id": "aVgBI6wAYnsS",
        "colab_type": "code",
        "colab": {
          "base_uri": "https://localhost:8080/",
          "height": 35
        },
        "outputId": "4e05fa00-820b-4826-c876-48ecbd3d85fe"
      },
      "cell_type": "code",
      "source": "z",
      "execution_count": 71,
      "outputs": [
        {
          "output_type": "execute_result",
          "data": {
            "text/plain": "0"
          },
          "metadata": {
            "tags": []
          },
          "execution_count": 71
        }
      ]
    },
    {
      "metadata": {
        "id": "Fl4qoVMoYnsZ",
        "colab_type": "text"
      },
      "cell_type": "markdown",
      "source": "<p>Las variables deben estar \"definidas\" (con un valor asignado) antes de que puedan usarse, o un error ocurrirá:\n</p>"
    },
    {
      "metadata": {
        "trusted": false,
        "id": "30RwA6yUYnsb",
        "colab_type": "code",
        "colab": {
          "base_uri": "https://localhost:8080/",
          "height": 35
        },
        "outputId": "e54b2613-0fe7-4f76-fe65-ad6e26c859b9"
      },
      "cell_type": "code",
      "source": " 4 * 4.85 / 2.5",
      "execution_count": 72,
      "outputs": [
        {
          "output_type": "execute_result",
          "data": {
            "text/plain": "7.76"
          },
          "metadata": {
            "tags": []
          },
          "execution_count": 72
        }
      ]
    },
    {
      "metadata": {
        "trusted": false,
        "id": "FakErHrpYnsh",
        "colab_type": "code",
        "colab": {
          "base_uri": "https://localhost:8080/",
          "height": 35
        },
        "outputId": "25de207a-c12b-4999-a519-44431b05e636"
      },
      "cell_type": "code",
      "source": "14.0 / 3\n",
      "execution_count": 73,
      "outputs": [
        {
          "output_type": "execute_result",
          "data": {
            "text/plain": "4.666666666666667"
          },
          "metadata": {
            "tags": []
          },
          "execution_count": 73
        }
      ]
    },
    {
      "metadata": {
        "id": "BrxaVIaqYntv",
        "colab_type": "text"
      },
      "cell_type": "markdown",
      "source": "<p>En el modo interactivo, la última expresión impresa es asignada a la variable _. </p>"
    },
    {
      "metadata": {
        "trusted": false,
        "id": "U7pXmqtWYntw",
        "colab_type": "code",
        "colab": {}
      },
      "cell_type": "code",
      "source": "impuesto = 16.4 / 110\nprecio = 110.30\nprecio * impuesto",
      "execution_count": null,
      "outputs": []
    },
    {
      "metadata": {
        "trusted": false,
        "id": "a7E3LUokYnt2",
        "colab_type": "code",
        "colab": {}
      },
      "cell_type": "code",
      "source": " precio + _\n",
      "execution_count": null,
      "outputs": []
    },
    {
      "metadata": {
        "trusted": false,
        "id": "Qxdg_CcDYnt6",
        "colab_type": "code",
        "colab": {}
      },
      "cell_type": "code",
      "source": "round(_, 2)",
      "execution_count": null,
      "outputs": []
    },
    {
      "metadata": {
        "id": "0fbLarxTYnsp",
        "colab_type": "text"
      },
      "cell_type": "markdown",
      "source": "<p>Los números complejos también están soportados; los números imaginarios son escritos con el sufijo de j o J.</p>"
    },
    {
      "metadata": {
        "trusted": false,
        "id": "OwIGZoPyYnss",
        "colab_type": "code",
        "colab": {
          "base_uri": "https://localhost:8080/",
          "height": 35
        },
        "outputId": "f8a9cee5-6916-4ebd-d30c-fe45c1f15ce2"
      },
      "cell_type": "code",
      "source": "1j * 1J",
      "execution_count": 74,
      "outputs": [
        {
          "output_type": "execute_result",
          "data": {
            "text/plain": "(-1+0j)"
          },
          "metadata": {
            "tags": []
          },
          "execution_count": 74
        }
      ]
    },
    {
      "metadata": {
        "trusted": false,
        "id": "_szOX9WbYnsy",
        "colab_type": "code",
        "colab": {
          "base_uri": "https://localhost:8080/",
          "height": 35
        },
        "outputId": "5ffeec40-1bfe-4656-e601-10181850757c"
      },
      "cell_type": "code",
      "source": "1j * complex(0, 1)",
      "execution_count": 75,
      "outputs": [
        {
          "output_type": "execute_result",
          "data": {
            "text/plain": "(-1+0j)"
          },
          "metadata": {
            "tags": []
          },
          "execution_count": 75
        }
      ]
    },
    {
      "metadata": {
        "trusted": false,
        "id": "6ptv06wTYns5",
        "colab_type": "code",
        "colab": {
          "base_uri": "https://localhost:8080/",
          "height": 35
        },
        "outputId": "ab5a920b-54db-49fc-b68d-0a5886c4d41a"
      },
      "cell_type": "code",
      "source": "3+1j*3\n",
      "execution_count": 76,
      "outputs": [
        {
          "output_type": "execute_result",
          "data": {
            "text/plain": "(3+3j)"
          },
          "metadata": {
            "tags": []
          },
          "execution_count": 76
        }
      ]
    },
    {
      "metadata": {
        "trusted": false,
        "id": "BcCD91n1Yns_",
        "colab_type": "code",
        "colab": {
          "base_uri": "https://localhost:8080/",
          "height": 35
        },
        "outputId": "a6e4cbc0-c559-4690-d7d4-a96048837520"
      },
      "cell_type": "code",
      "source": " (3+1j)*3",
      "execution_count": 77,
      "outputs": [
        {
          "output_type": "execute_result",
          "data": {
            "text/plain": "(9+3j)"
          },
          "metadata": {
            "tags": []
          },
          "execution_count": 77
        }
      ]
    },
    {
      "metadata": {
        "trusted": false,
        "id": "ieyM75E4YntF",
        "colab_type": "code",
        "colab": {
          "base_uri": "https://localhost:8080/",
          "height": 35
        },
        "outputId": "29f95503-0bbf-4600-b049-ce8f72a5233d"
      },
      "cell_type": "code",
      "source": "(1+2j)/(1+1j)",
      "execution_count": 78,
      "outputs": [
        {
          "output_type": "execute_result",
          "data": {
            "text/plain": "(1.5+0.5j)"
          },
          "metadata": {
            "tags": []
          },
          "execution_count": 78
        }
      ]
    },
    {
      "metadata": {
        "id": "OsvVBZfTYntK",
        "colab_type": "text"
      },
      "cell_type": "markdown",
      "source": "<p>Los números complejos son siempre representados como dos números de punto flotante, la parte real y la imaginaria. Para\nextraer estas partes desde un número complejo z, usá z.real y z.imag.</p>"
    },
    {
      "metadata": {
        "trusted": false,
        "id": "_1eZXsdDYntL",
        "colab_type": "code",
        "colab": {
          "base_uri": "https://localhost:8080/",
          "height": 35
        },
        "outputId": "e0702153-298f-4467-c4f0-5d5630c0ff5e"
      },
      "cell_type": "code",
      "source": "a=6.2+0.2j\na.real\n",
      "execution_count": 79,
      "outputs": [
        {
          "output_type": "execute_result",
          "data": {
            "text/plain": "6.2"
          },
          "metadata": {
            "tags": []
          },
          "execution_count": 79
        }
      ]
    },
    {
      "metadata": {
        "trusted": false,
        "id": "KjdDgKt7YntQ",
        "colab_type": "code",
        "colab": {
          "base_uri": "https://localhost:8080/",
          "height": 35
        },
        "outputId": "a8ec5606-6de8-4ae9-d9b9-3aa4db9979cd"
      },
      "cell_type": "code",
      "source": "a.imag",
      "execution_count": 80,
      "outputs": [
        {
          "output_type": "execute_result",
          "data": {
            "text/plain": "0.2"
          },
          "metadata": {
            "tags": []
          },
          "execution_count": 80
        }
      ]
    },
    {
      "metadata": {
        "id": "VzgL7CnVYntV",
        "colab_type": "text"
      },
      "cell_type": "markdown",
      "source": "<p>La función de conversión de los punto flotante y enteros (float() y int()) no funcionan para números complejos; no hay\nuna forma correcta de convertir un número complejo a un número real. Usá abs(z) para obtener esta magnitud o z.real para obtener la parte real.</p>"
    },
    {
      "metadata": {
        "trusted": false,
        "id": "dqN8GT0sYntX",
        "colab_type": "code",
        "colab": {
          "base_uri": "https://localhost:8080/",
          "height": 191
        },
        "outputId": "96ff2e2f-cc7b-40ef-b8b0-33fd512b3831"
      },
      "cell_type": "code",
      "source": "a=3.0+4.0j\nfloat(a)",
      "execution_count": 81,
      "outputs": [
        {
          "output_type": "error",
          "ename": "TypeError",
          "evalue": "ignored",
          "traceback": [
            "\u001b[0;31m---------------------------------------------------------------------------\u001b[0m",
            "\u001b[0;31mTypeError\u001b[0m                                 Traceback (most recent call last)",
            "\u001b[0;32m<ipython-input-81-0c60b2954c02>\u001b[0m in \u001b[0;36m<module>\u001b[0;34m()\u001b[0m\n\u001b[1;32m      1\u001b[0m \u001b[0ma\u001b[0m\u001b[0;34m=\u001b[0m\u001b[0;36m3.0\u001b[0m\u001b[0;34m+\u001b[0m\u001b[0;36m4.0j\u001b[0m\u001b[0;34m\u001b[0m\u001b[0;34m\u001b[0m\u001b[0m\n\u001b[0;32m----> 2\u001b[0;31m \u001b[0mfloat\u001b[0m\u001b[0;34m(\u001b[0m\u001b[0ma\u001b[0m\u001b[0;34m)\u001b[0m\u001b[0;34m\u001b[0m\u001b[0;34m\u001b[0m\u001b[0m\n\u001b[0m",
            "\u001b[0;31mTypeError\u001b[0m: can't convert complex to float"
          ]
        }
      ]
    },
    {
      "metadata": {
        "trusted": false,
        "id": "cR1akSNwYntd",
        "colab_type": "code",
        "colab": {}
      },
      "cell_type": "code",
      "source": "a.real",
      "execution_count": null,
      "outputs": []
    },
    {
      "metadata": {
        "trusted": false,
        "id": "6sq7roxYYntk",
        "colab_type": "code",
        "colab": {}
      },
      "cell_type": "code",
      "source": "a.imag",
      "execution_count": null,
      "outputs": []
    },
    {
      "metadata": {
        "trusted": false,
        "id": "3pDLNivbYntr",
        "colab_type": "code",
        "colab": {}
      },
      "cell_type": "code",
      "source": "abs(a) # sqrt(a.real**2 + a.imag**2)",
      "execution_count": null,
      "outputs": []
    },
    {
      "metadata": {
        "id": "Z3UdP_GUYnt-",
        "colab_type": "text"
      },
      "cell_type": "markdown",
      "source": "<hr>\n<h2 style=\"color:#30B2FA\">Cadenas de caracteres</h2>"
    },
    {
      "metadata": {
        "id": "xr1mjyuXYnt_",
        "colab_type": "text"
      },
      "cell_type": "markdown",
      "source": "<p>Puede manipular cadenas de texto, las cuales pueden ser expresadas de distintas formas.\nPueden estar encerradas en comillas simples o dobles:</p>"
    },
    {
      "metadata": {
        "trusted": false,
        "id": "4tQKjIbCYnuA",
        "colab_type": "code",
        "colab": {}
      },
      "cell_type": "code",
      "source": "'huevos y pan'\n",
      "execution_count": null,
      "outputs": []
    },
    {
      "metadata": {
        "trusted": false,
        "id": "-KMzJac7YnuG",
        "colab_type": "code",
        "colab": {}
      },
      "cell_type": "code",
      "source": "'doesn\\'t'",
      "execution_count": null,
      "outputs": []
    },
    {
      "metadata": {
        "trusted": false,
        "id": "Tv-fIYutYnuL",
        "colab_type": "code",
        "colab": {}
      },
      "cell_type": "code",
      "source": "'\"Si,\" le dijo.'",
      "execution_count": null,
      "outputs": []
    },
    {
      "metadata": {
        "trusted": false,
        "id": "9Onoh-seYnuQ",
        "colab_type": "code",
        "colab": {}
      },
      "cell_type": "code",
      "source": "\"\\\"Si,\\\" le dijo.\"\n",
      "execution_count": null,
      "outputs": []
    },
    {
      "metadata": {
        "trusted": false,
        "id": "8uQw3tfJYnuV",
        "colab_type": "code",
        "colab": {}
      },
      "cell_type": "code",
      "source": "saludo = \"Esta es una larga cadena que contiene\\n\\\nvarias líneas de texto, tal y como se hace en C.\\n\\\n    Notar que los espacios en blanco al principio de la linea\\\n    son significantes.\"",
      "execution_count": null,
      "outputs": []
    },
    {
      "metadata": {
        "trusted": false,
        "id": "xI5xgN90Ynua",
        "colab_type": "code",
        "colab": {}
      },
      "cell_type": "code",
      "source": "print(saludo)",
      "execution_count": null,
      "outputs": []
    },
    {
      "metadata": {
        "id": "KU7xY7dfYnug",
        "colab_type": "text"
      },
      "cell_type": "markdown",
      "source": "<p>O, las cadenas de texto pueden ser rodeadas en un par de comillas triples: \"\"\" o '''. No se necesita escapar los finales\nde línea cuando se utilizan comillas triples, pero serán incluidos en la cadena. </p>"
    },
    {
      "metadata": {
        "trusted": false,
        "id": "7AfgrfdvYnuh",
        "colab_type": "code",
        "colab": {}
      },
      "cell_type": "code",
      "source": "print(\"\"\"\\\nUso: algo [OPTIONS]\n -h Muestra el mensaje de uso\n -H nombrehost Nombre del host al cual conectarse\n\"\"\")",
      "execution_count": null,
      "outputs": []
    },
    {
      "metadata": {
        "id": "1zWl6HfCYnul",
        "colab_type": "text"
      },
      "cell_type": "markdown",
      "source": "<p>Si se hace de la cadena de texto una cadena \"cruda\", la secuencia \\n no es convertida a salto de línea, pero la barra\ninvertida al final de la línea y el carácter de nueva línea en la fuente, ambos son incluidos en la cadena como datos. </p>"
    },
    {
      "metadata": {
        "trusted": false,
        "id": "-HGg9lnuYnum",
        "colab_type": "code",
        "colab": {}
      },
      "cell_type": "code",
      "source": "hola = r\"Esta es una larga cadena que contiene\\n\\\nvarias líneas de texto, tal y como se hace en C.\"\nprint(hola)",
      "execution_count": null,
      "outputs": []
    },
    {
      "metadata": {
        "id": "4g9DxdxaYnur",
        "colab_type": "text"
      },
      "cell_type": "markdown",
      "source": "<p>Las cadenas de texto pueden ser concatenadas (pegadas juntas) con el operador + y repetidas con *:\n</p>"
    },
    {
      "metadata": {
        "trusted": true,
        "id": "u2H1jl6lYnus",
        "colab_type": "code",
        "colab": {}
      },
      "cell_type": "code",
      "source": " palabra = 'Ayuda' + 'A'",
      "execution_count": null,
      "outputs": []
    },
    {
      "metadata": {
        "trusted": true,
        "id": "GXKU1odTYnuy",
        "colab_type": "code",
        "colab": {}
      },
      "cell_type": "code",
      "source": "palabra",
      "execution_count": null,
      "outputs": []
    },
    {
      "metadata": {
        "trusted": true,
        "id": "tl_knuEdYnu1",
        "colab_type": "code",
        "colab": {}
      },
      "cell_type": "code",
      "source": "'<' + palabra*5 + '>'",
      "execution_count": null,
      "outputs": []
    },
    {
      "metadata": {
        "trusted": true,
        "id": "L0GWCL7bYnu7",
        "colab_type": "code",
        "colab": {}
      },
      "cell_type": "code",
      "source": "'cad' 'ena' # <- Esto es correcto",
      "execution_count": null,
      "outputs": []
    },
    {
      "metadata": {
        "trusted": true,
        "id": "ofn6TXbOYnvC",
        "colab_type": "code",
        "colab": {}
      },
      "cell_type": "code",
      "source": "'cad'.strip() + 'ena' # <- Esto es correcto",
      "execution_count": null,
      "outputs": []
    },
    {
      "metadata": {
        "trusted": true,
        "id": "LN7XrqL4YnvX",
        "colab_type": "code",
        "colab": {}
      },
      "cell_type": "markdown",
      "source": "<p>Las cadenas de texto se pueden indexar; como en C, el primer carácter de la cadena tiene el índice 0. No hay un tipo de\ndato para los caracteres; un carácter es simplemente una cadena de longitud uno.</p>"
    },
    {
      "metadata": {
        "trusted": true,
        "id": "4CKDQbj_Ynvc",
        "colab_type": "code",
        "colab": {}
      },
      "cell_type": "code",
      "source": " palabra[4]",
      "execution_count": null,
      "outputs": []
    },
    {
      "metadata": {
        "trusted": true,
        "id": "DUNWYs5YYnvf",
        "colab_type": "code",
        "colab": {}
      },
      "cell_type": "code",
      "source": "palabra[0:2]",
      "execution_count": null,
      "outputs": []
    },
    {
      "metadata": {
        "trusted": true,
        "id": "672R8zECYnvk",
        "colab_type": "code",
        "colab": {}
      },
      "cell_type": "code",
      "source": " palabra[2:4]",
      "execution_count": null,
      "outputs": []
    },
    {
      "metadata": {
        "trusted": false,
        "id": "KM_1mhjMYnvo",
        "colab_type": "code",
        "colab": {}
      },
      "cell_type": "markdown",
      "source": "<p>Los índices de las rebanadas tienen valores por defecto útiles; el valor por defecto para el primer índice es cero, el valor por\ndefecto para el segundo índice es la longitud de la cadena a rebanar.</p>"
    },
    {
      "metadata": {
        "trusted": false,
        "id": "QQSb_4sYYnvs",
        "colab_type": "code",
        "colab": {}
      },
      "cell_type": "code",
      "source": "palabra[:2] # Los primeros dos caracteres",
      "execution_count": null,
      "outputs": []
    },
    {
      "metadata": {
        "trusted": false,
        "id": "9mZqVOVNYnvw",
        "colab_type": "code",
        "colab": {}
      },
      "cell_type": "code",
      "source": " palabra[2:] # Todo menos los primeros dos caracteres",
      "execution_count": null,
      "outputs": []
    },
    {
      "metadata": {
        "trusted": false,
        "id": "alYTyp8SYnvz",
        "colab_type": "code",
        "colab": {}
      },
      "cell_type": "markdown",
      "source": "<p>Pero notá que -0 es en realidad lo mismo que 0, ¡por lo que no cuenta desde la derecha!</p>"
    },
    {
      "metadata": {
        "trusted": false,
        "id": "ncksytZkYnv4",
        "colab_type": "code",
        "colab": {}
      },
      "cell_type": "code",
      "source": " palabra[-0] # (ya que -0 es igual a 0)",
      "execution_count": null,
      "outputs": []
    },
    {
      "metadata": {
        "trusted": false,
        "id": "ofsfnrzmYnv-",
        "colab_type": "code",
        "colab": {}
      },
      "cell_type": "markdown",
      "source": "<p>Los índices negativos fuera de rango son truncados, pero esto no funciona para índices de un solo elemento (no rebanada):\n</p>"
    },
    {
      "metadata": {
        "id": "TlvnS032YnwC",
        "colab_type": "text"
      },
      "cell_type": "markdown",
      "source": "<p>Las cadenas de texto literales pueden contener múltiples líneas. Una forma es usar triple comillas: \"\"\"...\"\"\" o\n'''...'''. </p>"
    },
    {
      "metadata": {
        "trusted": false,
        "id": "s95mvvHIYnwD",
        "colab_type": "code",
        "colab": {}
      },
      "cell_type": "code",
      "source": " palabra[-100:]",
      "execution_count": null,
      "outputs": []
    },
    {
      "metadata": {
        "id": "tvbjtiI2YnwG",
        "colab_type": "text"
      },
      "cell_type": "markdown",
      "source": "<p>La función incorporada len() devuelve la longitud de una cadena de texto:</p>"
    },
    {
      "metadata": {
        "colab_type": "text",
        "id": "c7nzpEwlcp7N"
      },
      "cell_type": "markdown",
      "source": "<hr>\n<h2 style=\"color:#30B2FA\">Cadenas de caracteres</h2>\n<p>Python tiene varios tipos de datos compuestos, usados para agrupar otros valores. El más versátil es la lista, la cual puede\nser escrita como una lista de valores separados por coma (ítems) entre corchetes. No es necesario que los ítems de una\nlista tengan todos el mismo tipo.\n</p>"
    },
    {
      "metadata": {
        "id": "RXyUssZuYnwK",
        "colab_type": "text"
      },
      "cell_type": "markdown",
      "source": "<p>Dos o más cadenas literales (aquellas encerradas entre comillas) una al lado de la otra son automáticamente concatenadas:</p>"
    },
    {
      "metadata": {
        "trusted": false,
        "id": "MwxJ1p6VYnwM",
        "colab_type": "code",
        "colab": {}
      },
      "cell_type": "code",
      "source": "'Py' 'thon'",
      "execution_count": null,
      "outputs": []
    },
    {
      "metadata": {
        "id": "wm6K9bbcYnwP",
        "colab_type": "text"
      },
      "cell_type": "markdown",
      "source": "<p>Para concatenar variables o una variable usa \"+\"</p>"
    },
    {
      "metadata": {
        "trusted": false,
        "id": "Zm4faSfLYnwR",
        "colab_type": "code",
        "colab": {}
      },
      "cell_type": "code",
      "source": "prefix = 'Py'",
      "execution_count": null,
      "outputs": []
    },
    {
      "metadata": {
        "trusted": false,
        "id": "UfdjcbhbYnwU",
        "colab_type": "code",
        "colab": {}
      },
      "cell_type": "code",
      "source": "prefix + 'thon'",
      "execution_count": null,
      "outputs": []
    },
    {
      "metadata": {
        "id": "s-HiY8gjYnwe",
        "colab_type": "text"
      },
      "cell_type": "markdown",
      "source": "<p>Las cadenas de texto se pueden indexar (subíndices), el primer carácter de la cadena tiene el índice 0. No hay un tipo de\ndato para los caracteres; un carácter es simplemente una cadena de longitud uno:</p>"
    },
    {
      "metadata": {
        "trusted": false,
        "id": "vGvlLBS7Ynwe",
        "colab_type": "code",
        "colab": {}
      },
      "cell_type": "code",
      "source": "palabra = 'Python'",
      "execution_count": null,
      "outputs": []
    },
    {
      "metadata": {
        "trusted": false,
        "id": "pRhKkFaqYnwi",
        "colab_type": "code",
        "colab": {}
      },
      "cell_type": "code",
      "source": "palabra[0] # caracter en la posición 0",
      "execution_count": null,
      "outputs": []
    },
    {
      "metadata": {
        "trusted": false,
        "id": "l5hEi3eVYnwl",
        "colab_type": "code",
        "colab": {}
      },
      "cell_type": "code",
      "source": "palabra[4] # caracter en la posición 4",
      "execution_count": null,
      "outputs": []
    },
    {
      "metadata": {
        "id": "jMBU-eZjYnwn",
        "colab_type": "text"
      },
      "cell_type": "markdown",
      "source": "<p>Los índices quizás sean números negativos, para empezar a contar desde la derecha:\n</p>"
    },
    {
      "metadata": {
        "trusted": false,
        "id": "4uNkA3s3Ynwo",
        "colab_type": "code",
        "colab": {}
      },
      "cell_type": "code",
      "source": "palabra[-1] # último caracter",
      "execution_count": null,
      "outputs": []
    },
    {
      "metadata": {
        "trusted": false,
        "id": "mYzNzcoiYnwt",
        "colab_type": "code",
        "colab": {}
      },
      "cell_type": "code",
      "source": "palabra[-2] # ante último caracter",
      "execution_count": null,
      "outputs": []
    },
    {
      "metadata": {
        "id": "oewaxba6Ynww",
        "colab_type": "text"
      },
      "cell_type": "markdown",
      "source": "<p>Además de los índices, las rebanadas también están soportadas. Mientras que los índices son usados para obtener\ncaracteres individuales, las rebanadas te permiten obtener sub-cadenas:</p>"
    },
    {
      "metadata": {
        "trusted": false,
        "id": "g_aKxeRcYnwx",
        "colab_type": "code",
        "colab": {}
      },
      "cell_type": "code",
      "source": "palabra[0:2] # caracteres desde la posición 0 (incluída) hasta la 2 (excluída)",
      "execution_count": null,
      "outputs": []
    },
    {
      "metadata": {
        "trusted": false,
        "id": "Dfvzg2IUYnw0",
        "colab_type": "code",
        "colab": {}
      },
      "cell_type": "code",
      "source": "palabra[2:5] # caracteres desde la posición 2 (incluída) hasta la 5 (excluída)",
      "execution_count": null,
      "outputs": []
    },
    {
      "metadata": {
        "id": "yEgOuC8GYnw4",
        "colab_type": "text"
      },
      "cell_type": "markdown",
      "source": "<p>Nota como el primero es siempre incluído, y que el último es siempre excluído. Esto asegura que s[:i] + s[i:] siempre\nsea igual a s:\n</p>"
    },
    {
      "metadata": {
        "trusted": false,
        "id": "Kaw9x6fAYnw4",
        "colab_type": "code",
        "colab": {}
      },
      "cell_type": "code",
      "source": "palabra[:2] + palabra[2:]",
      "execution_count": null,
      "outputs": []
    },
    {
      "metadata": {
        "trusted": false,
        "id": "rizP35BCYnw7",
        "colab_type": "code",
        "colab": {}
      },
      "cell_type": "code",
      "source": "palabra[:4] + palabra[4:]",
      "execution_count": null,
      "outputs": []
    },
    {
      "metadata": {
        "id": "BcDeyPjHYnw-",
        "colab_type": "text"
      },
      "cell_type": "markdown",
      "source": "<p>Los índices de las rebanadas tienen valores por defecto útiles; el valor por defecto para el primer índice es cero, el valor por\ndefecto para el segundo índice es la longitud de la cadena a rebanar.</p>"
    },
    {
      "metadata": {
        "trusted": false,
        "id": "rTh4APh6Ynw-",
        "colab_type": "code",
        "colab": {}
      },
      "cell_type": "code",
      "source": "palabra[:2] # caracteres desde el principio hasta la posición 2 (excluída)",
      "execution_count": null,
      "outputs": []
    },
    {
      "metadata": {
        "trusted": false,
        "id": "1yMk_2U3YnwH",
        "colab_type": "code",
        "colab": {}
      },
      "cell_type": "code",
      "source": "a = ['pan', 'huevos', 100, 1234]",
      "execution_count": null,
      "outputs": []
    },
    {
      "metadata": {
        "id": "_uQ_w0krc14C",
        "colab_type": "code",
        "colab": {},
        "trusted": false
      },
      "cell_type": "code",
      "source": "a",
      "execution_count": null,
      "outputs": []
    },
    {
      "metadata": {
        "id": "kwUbCSd0c5f_",
        "colab_type": "code",
        "colab": {},
        "trusted": false
      },
      "cell_type": "code",
      "source": "a[0]",
      "execution_count": null,
      "outputs": []
    },
    {
      "metadata": {
        "id": "uMBI5xAUc7_H",
        "colab_type": "code",
        "colab": {},
        "trusted": false
      },
      "cell_type": "code",
      "source": "a[2]",
      "execution_count": null,
      "outputs": []
    },
    {
      "metadata": {
        "id": "YPfj6QqYc8XR",
        "colab_type": "code",
        "colab": {},
        "trusted": false
      },
      "cell_type": "code",
      "source": "a[-3]",
      "execution_count": null,
      "outputs": []
    },
    {
      "metadata": {
        "id": "zR6eWEaNc8TL",
        "colab_type": "code",
        "colab": {},
        "trusted": false
      },
      "cell_type": "code",
      "source": "a[1:-1]",
      "execution_count": null,
      "outputs": []
    },
    {
      "metadata": {
        "id": "rv7ba2qGc8Qk",
        "colab_type": "code",
        "colab": {},
        "trusted": false
      },
      "cell_type": "code",
      "source": "a[:2] + ['carne', 2*2]",
      "execution_count": null,
      "outputs": []
    },
    {
      "metadata": {
        "id": "_XL7khwXdLrX",
        "colab_type": "code",
        "colab": {},
        "trusted": false
      },
      "cell_type": "code",
      "source": " 3*a[:3] + ['Boo!']",
      "execution_count": null,
      "outputs": []
    },
    {
      "metadata": {
        "id": "7SBvNFFWdMLV",
        "colab_type": "code",
        "colab": {},
        "trusted": false
      },
      "cell_type": "markdown",
      "source": "<p>Todas las operaciones de rebanado devuelven una nueva lista conteniendo los elementos pedidos. Esto significa que la\nsiguiente rebanada devuelve una copia superficial de la lista a:</p>\n</p>"
    },
    {
      "metadata": {
        "id": "NDV0hBS0dMk6",
        "colab_type": "code",
        "colab": {},
        "trusted": false
      },
      "cell_type": "code",
      "source": "a[:]",
      "execution_count": null,
      "outputs": []
    },
    {
      "metadata": {
        "id": "oITg9XKmdMqz",
        "colab_type": "code",
        "colab": {},
        "trusted": false
      },
      "cell_type": "markdown",
      "source": "<p>A diferencia de las cadenas de texto, que son inmutables, es posible cambiar un elemento individual de una lista:\n</p>"
    },
    {
      "metadata": {
        "id": "YkaPOFzvdMh3",
        "colab_type": "code",
        "colab": {},
        "trusted": false
      },
      "cell_type": "code",
      "source": "a",
      "execution_count": null,
      "outputs": []
    },
    {
      "metadata": {
        "id": "16ePC_fvdMep",
        "colab_type": "code",
        "colab": {},
        "trusted": false
      },
      "cell_type": "code",
      "source": "a[2] = a[2] + 23",
      "execution_count": null,
      "outputs": []
    },
    {
      "metadata": {
        "id": "Bw57yLl3dMbe",
        "colab_type": "code",
        "colab": {},
        "trusted": false
      },
      "cell_type": "code",
      "source": "a",
      "execution_count": null,
      "outputs": []
    },
    {
      "metadata": {
        "id": "-21y3SzsdMZJ",
        "colab_type": "code",
        "colab": {},
        "trusted": false
      },
      "cell_type": "code",
      "source": "# Reemplazar algunos elementos:\na[0:2] = [1, 12]\n",
      "execution_count": null,
      "outputs": []
    },
    {
      "metadata": {
        "id": "YHtfoo53dMWN",
        "colab_type": "code",
        "colab": {
          "base_uri": "https://localhost:8080/",
          "height": 35
        },
        "outputId": "4b55c26f-a151-42ef-874b-ea529f6d627d",
        "trusted": false
      },
      "cell_type": "code",
      "source": "a",
      "execution_count": 82,
      "outputs": [
        {
          "output_type": "execute_result",
          "data": {
            "text/plain": "(3+4j)"
          },
          "metadata": {
            "tags": []
          },
          "execution_count": 82
        }
      ]
    },
    {
      "metadata": {
        "id": "wEdw4PEXdMTx",
        "colab_type": "code",
        "colab": {},
        "trusted": false
      },
      "cell_type": "code",
      "source": "# Borrar algunos:\na[0:2] = []",
      "execution_count": null,
      "outputs": []
    },
    {
      "metadata": {
        "id": "yKvIeN4QdMRO",
        "colab_type": "code",
        "colab": {},
        "trusted": false
      },
      "cell_type": "code",
      "source": "a",
      "execution_count": null,
      "outputs": []
    },
    {
      "metadata": {
        "id": "IuWcDSz1dMI7",
        "colab_type": "code",
        "colab": {},
        "trusted": false
      },
      "cell_type": "code",
      "source": " # Insertar algunos:\na[1:1] = ['bruja', 'xyzzy']",
      "execution_count": null,
      "outputs": []
    },
    {
      "metadata": {
        "id": "RXxMF2d7dMGZ",
        "colab_type": "code",
        "colab": {},
        "trusted": false
      },
      "cell_type": "code",
      "source": " # Insertar (una copia de) la misma lista al principio\na[:0] = a",
      "execution_count": null,
      "outputs": []
    },
    {
      "metadata": {
        "id": "XMCrYpiFdMDh",
        "colab_type": "code",
        "colab": {},
        "trusted": false
      },
      "cell_type": "code",
      "source": "a ",
      "execution_count": null,
      "outputs": []
    },
    {
      "metadata": {
        "id": "oLu3HXZSdL-I",
        "colab_type": "code",
        "colab": {},
        "trusted": false
      },
      "cell_type": "markdown",
      "source": "<p>La función predefinida len() también sirve para las listas:</p>"
    },
    {
      "metadata": {
        "id": "9GsSreXYdL7U",
        "colab_type": "code",
        "colab": {},
        "trusted": false
      },
      "cell_type": "code",
      "source": " a = ['a', 'b', 'c', 'd']",
      "execution_count": 86,
      "outputs": []
    },
    {
      "metadata": {
        "id": "fqAC6taIehVF",
        "colab_type": "code",
        "colab": {
          "base_uri": "https://localhost:8080/",
          "height": 35
        },
        "outputId": "75044922-d705-46de-e635-ad9623af6906",
        "trusted": false
      },
      "cell_type": "code",
      "source": "len(a)",
      "execution_count": 87,
      "outputs": [
        {
          "output_type": "execute_result",
          "data": {
            "text/plain": "4"
          },
          "metadata": {
            "tags": []
          },
          "execution_count": 87
        }
      ]
    },
    {
      "metadata": {
        "id": "T29199ORehxE",
        "colab_type": "code",
        "colab": {},
        "trusted": false
      },
      "cell_type": "markdown",
      "source": "<p>Es posible anidar listas (crear listas que contengan otras listas), por ejemplo:\n</p>"
    },
    {
      "metadata": {
        "id": "mPkjs-hBehtP",
        "colab_type": "code",
        "colab": {},
        "trusted": false
      },
      "cell_type": "code",
      "source": "q = [2, 3]",
      "execution_count": 88,
      "outputs": []
    },
    {
      "metadata": {
        "id": "Rm97520ZehRd",
        "colab_type": "code",
        "colab": {},
        "trusted": false
      },
      "cell_type": "code",
      "source": "p = [1, q, 4]",
      "execution_count": 90,
      "outputs": []
    },
    {
      "metadata": {
        "id": "NCeuvU8gehPM",
        "colab_type": "code",
        "colab": {
          "base_uri": "https://localhost:8080/",
          "height": 35
        },
        "outputId": "f4abc3f3-f23c-4e2c-e301-63eea0a7bec9",
        "trusted": false
      },
      "cell_type": "code",
      "source": "len(p)",
      "execution_count": 91,
      "outputs": [
        {
          "output_type": "execute_result",
          "data": {
            "text/plain": "3"
          },
          "metadata": {
            "tags": []
          },
          "execution_count": 91
        }
      ]
    },
    {
      "metadata": {
        "id": "8XYWow3EehMS",
        "colab_type": "code",
        "colab": {
          "base_uri": "https://localhost:8080/",
          "height": 35
        },
        "outputId": "7fea66ed-b332-4538-c95a-71cbecb8e54d",
        "trusted": false
      },
      "cell_type": "code",
      "source": "p[1]",
      "execution_count": 92,
      "outputs": [
        {
          "output_type": "execute_result",
          "data": {
            "text/plain": "[2, 3]"
          },
          "metadata": {
            "tags": []
          },
          "execution_count": 92
        }
      ]
    },
    {
      "metadata": {
        "id": "zezqlMyoehJp",
        "colab_type": "code",
        "colab": {
          "base_uri": "https://localhost:8080/",
          "height": 35
        },
        "outputId": "0d10cd06-c461-4261-a6fe-518ec706c6dd",
        "trusted": false
      },
      "cell_type": "code",
      "source": "p[1][0]",
      "execution_count": 93,
      "outputs": [
        {
          "output_type": "execute_result",
          "data": {
            "text/plain": "2"
          },
          "metadata": {
            "tags": []
          },
          "execution_count": 93
        }
      ]
    },
    {
      "metadata": {
        "id": "qMvwDjKRehGt",
        "colab_type": "code",
        "colab": {},
        "trusted": false
      },
      "cell_type": "markdown",
      "source": "<p>Podés agregar algo al final de la lista:\n</p>"
    },
    {
      "metadata": {
        "id": "rzW6Ia1jehFn",
        "colab_type": "code",
        "colab": {},
        "trusted": false
      },
      "cell_type": "code",
      "source": " p[1].append('extra')",
      "execution_count": 94,
      "outputs": []
    },
    {
      "metadata": {
        "id": "LOBLaMcWehEf",
        "colab_type": "code",
        "colab": {
          "base_uri": "https://localhost:8080/",
          "height": 35
        },
        "outputId": "e57da9c6-8ccb-46bb-9878-06894c82ad56",
        "trusted": false
      },
      "cell_type": "code",
      "source": "p",
      "execution_count": 95,
      "outputs": [
        {
          "output_type": "execute_result",
          "data": {
            "text/plain": "[1, [2, 3, 'extra'], 4]"
          },
          "metadata": {
            "tags": []
          },
          "execution_count": 95
        }
      ]
    },
    {
      "metadata": {
        "id": "6zz5YZizehDK",
        "colab_type": "code",
        "colab": {
          "base_uri": "https://localhost:8080/",
          "height": 35
        },
        "outputId": "d2e6baa7-a239-428f-be57-68eee34936cf",
        "trusted": false
      },
      "cell_type": "code",
      "source": "q",
      "execution_count": 96,
      "outputs": [
        {
          "output_type": "execute_result",
          "data": {
            "text/plain": "[2, 3, 'extra']"
          },
          "metadata": {
            "tags": []
          },
          "execution_count": 96
        }
      ]
    },
    {
      "metadata": {
        "id": "TRoNux1XehBr",
        "colab_type": "code",
        "colab": {},
        "trusted": false
      },
      "cell_type": "code",
      "source": "Primeros pasos hacia la programación ",
      "execution_count": null,
      "outputs": []
    },
    {
      "metadata": {
        "id": "7XH4dO6Deg_j",
        "colab_type": "code",
        "colab": {},
        "trusted": false
      },
      "cell_type": "code",
      "source": " # Series de Fibonacci:\n # la suma de dos elementos define el siguiente\n a, b = 0, 1",
      "execution_count": 97,
      "outputs": []
    },
    {
      "metadata": {
        "id": "kE_f-rAXeg8o",
        "colab_type": "code",
        "colab": {
          "base_uri": "https://localhost:8080/",
          "height": 128
        },
        "outputId": "445a6831-6320-469f-a3c9-bf57afd5d50d",
        "trusted": false
      },
      "cell_type": "code",
      "source": "while b < 10:\n  print(b)\n  a, b = b, a+b",
      "execution_count": 98,
      "outputs": [
        {
          "output_type": "stream",
          "text": "1\n1\n2\n3\n5\n8\n",
          "name": "stdout"
        }
      ]
    },
    {
      "metadata": {
        "id": "wWh78E0Peg6H",
        "colab_type": "code",
        "colab": {},
        "trusted": false
      },
      "cell_type": "markdown",
      "source": "<p>Este ejemplo introduce varias características nuevas.</p>\n* La primer línea contiene una asignación múltiple: las variables``a`` y b toman en forma simultanea los nuevos valores\n0 y 1. En la última linea esto es vuelto a usar, demostrando que las expresiones a la derecha son evaluadas antes de\nque suceda cualquier asignación. Las expresiones a la derecha son evaluadas de izquierda a derecha.\n* El bucle while se ejecuta mientras la condición (aquí: b < 10) sea verdadera. En Python, como en C, cualquier\nentero distinto de cero es verdadero; cero es falso. La condición también puede ser una cadena de texto o una lista,\nde hecho cualquier secuencia; cualquier cosa con longitud distinta de cero es verdadero, las secuencias vacías son\nfalsas. La prueba usada en el ejemplo es una comparación simple. Los operadores estándar de comparación se\nescriben igual que en C: < (menor qué), > (mayor qué), == (igual a), <= (menor o igual qué), >= (mayor o igual\nqué) y != (distinto a).\n* El cuerpo del bucle está sangrado: la sangría es la forma que usa Python para agrupar declaraciones. En el intérprete\ninteractivo debés teclear un tab o espacio(s) para cada línea sangrada. En la práctica vas a preparar entradas más\ncomplicadas para Python con un editor de texto; todos los editores de texto decentes tienen la facilidad de agregar la\nsangría automáticamente. Al ingresar una declaración compuesta en forma interactiva, debés finalizar con una línea\nen blanco para indicar que está completa (ya que el analizador no puede adivinar cuando tecleaste la última línea).\nNotá que cada línea de un bloque básico debe estar sangrada de la misma forma.\n* La función print() escribe el valor de el o los argumentos que se le pasan. Difiere de simplemente escribir la\nexpresión que se quiere mostrar (como hicimos antes en los ejemplos de la calculadora) en la forma en que maneja\nmúltiples argumentos, cantidades en punto flotante, y cadenas. Las cadenas de texto son impresas sin comillas, y un\nespacio en blanco es insertado entre los elementos, así podés formatear cosas de una forma agradable:"
    },
    {
      "metadata": {
        "id": "J93pITBxeg4H",
        "colab_type": "code",
        "colab": {},
        "trusted": false
      },
      "cell_type": "code",
      "source": "i = 3231 * 53243",
      "execution_count": 100,
      "outputs": []
    },
    {
      "metadata": {
        "id": "IrG7nfbheg1g",
        "colab_type": "code",
        "colab": {
          "base_uri": "https://localhost:8080/",
          "height": 35
        },
        "outputId": "2db4a4d6-03db-4ef3-8f04-94ed174e60b1",
        "trusted": false
      },
      "cell_type": "code",
      "source": "print('El valor de i es', i)",
      "execution_count": 101,
      "outputs": [
        {
          "output_type": "stream",
          "text": "El valor de i es 172028133\n",
          "name": "stdout"
        }
      ]
    },
    {
      "metadata": {
        "id": "P5LcvX_Pegyp",
        "colab_type": "code",
        "colab": {},
        "trusted": false
      },
      "cell_type": "markdown",
      "source": "<p>El parámetro nombrado end puede usarse para evitar el salto de linea al final de la salida, o terminar la salida con una\ncadena diferente:</p>"
    },
    {
      "metadata": {
        "id": "f-2fuk3wegwD",
        "colab_type": "code",
        "colab": {},
        "trusted": false
      },
      "cell_type": "code",
      "source": " a, b = 0, 1",
      "execution_count": 102,
      "outputs": []
    },
    {
      "metadata": {
        "id": "npvaeCT2egsb",
        "colab_type": "code",
        "colab": {
          "base_uri": "https://localhost:8080/",
          "height": 35
        },
        "outputId": "ecadfb29-28dc-4b54-d030-8bc81554ed67",
        "trusted": false
      },
      "cell_type": "code",
      "source": "while b < 1000:\n print(b, end=',')\n a, b = b, a+b",
      "execution_count": 103,
      "outputs": [
        {
          "output_type": "stream",
          "text": "1,1,2,3,5,8,13,21,34,55,89,144,233,377,610,987,",
          "name": "stdout"
        }
      ]
    },
    {
      "metadata": {
        "id": "4fQUbqBvegmO",
        "colab_type": "code",
        "colab": {},
        "trusted": false
      },
      "cell_type": "markdown",
      "source": "<hr>\n<h2 style=\"color:#30B2FA\">Más herramientas para control de\nflujo</h2>\n<p>Además de la sentencia while que acabamos de introducir, Python soporta las sentencias de control de flujo que podemos\nencontrar en otros lenguajes, con algunos cambios.\n</p>\n<h4>La sentencia if</h4>\n<p>Tal vez el tipo más conocido de sentencia sea el if. Por ejemplo:</p>"
    },
    {
      "metadata": {
        "id": "TGcPYwM-f-H9",
        "colab_type": "code",
        "colab": {
          "base_uri": "https://localhost:8080/",
          "height": 35
        },
        "outputId": "f173e2d5-7609-4e86-dd30-3d05a95d26da",
        "trusted": false
      },
      "cell_type": "code",
      "source": " x = int(input(\"Ingresa un entero, por favor: \"))",
      "execution_count": 104,
      "outputs": [
        {
          "output_type": "stream",
          "text": "Ingresa un entero, por favor: 6\n",
          "name": "stdout"
        }
      ]
    },
    {
      "metadata": {
        "id": "cmAeCYEKf-Fi",
        "colab_type": "code",
        "colab": {
          "base_uri": "https://localhost:8080/",
          "height": 35
        },
        "outputId": "eb9b893a-bf40-49d7-b5fc-fa25f0617268",
        "trusted": false
      },
      "cell_type": "code",
      "source": "if x < 0:\n  x = 0\n  print('Negativo cambiado a cero')\nelif x == 0:\n   print('Cero')\nelif x == 1:\n  print('Simple')\nelse:\n  print('Más')",
      "execution_count": 107,
      "outputs": [
        {
          "output_type": "stream",
          "text": "Más\n",
          "name": "stdout"
        }
      ]
    },
    {
      "metadata": {
        "id": "4GiLqC8of-DF",
        "colab_type": "code",
        "colab": {},
        "trusted": false
      },
      "cell_type": "markdown",
      "source": "<p>Puede haber cero o más bloques elif, y el bloque else es opcional. La palabra reservada 'elif' es una abreviación de\n'else if', y es útil para evitar un sangrado excesivo. Una secuencia if ... elif ... elif ... sustituye las sentencias switch\no case encontradas en otros lenguajes.</p>"
    },
    {
      "metadata": {
        "id": "R6ACtvUKf-AG",
        "colab_type": "code",
        "colab": {},
        "trusted": false
      },
      "cell_type": "markdown",
      "source": "<hr>\n<h2 style=\"color:#30B2FA\">La sentencia for</h2>\n<p>La sentencia for en Python difiere un poco de lo que uno puede estar acostumbrado en lenguajes como C o Pascal. En\nlugar de siempre iterar sobre una progresión aritmética de números (como en Pascal) o darle al usuario la posibilidad de\ndefinir tanto el paso de la iteración como la condición de fin (como en C), la sentencia for de Python itera sobre los ítems\nde cualquier secuencia (una lista o una cadena de texto), en el orden que aparecen en la secuencia. </p>"
    },
    {
      "metadata": {
        "id": "tpNTv_YWf98e",
        "colab_type": "code",
        "colab": {},
        "trusted": false
      },
      "cell_type": "code",
      "source": "# Midiendo cadenas de texto\npalabras = ['gato', 'ventana', 'defenestrado']\n",
      "execution_count": 109,
      "outputs": []
    },
    {
      "metadata": {
        "id": "aSKcwB85f95O",
        "colab_type": "code",
        "colab": {
          "base_uri": "https://localhost:8080/",
          "height": 72
        },
        "outputId": "44a472c9-165e-48b6-a61f-71f8d6ad808e",
        "trusted": false
      },
      "cell_type": "code",
      "source": "for p in palabras:\n   print(p, len(p))",
      "execution_count": 110,
      "outputs": [
        {
          "output_type": "stream",
          "text": "gato 4\nventana 7\ndefenestrado 12\n",
          "name": "stdout"
        }
      ]
    },
    {
      "metadata": {
        "id": "GXoD4-Dpf91p",
        "colab_type": "code",
        "colab": {},
        "trusted": false
      },
      "cell_type": "markdown",
      "source": "<p>Si necesitás modificar la secuencia sobre la que estás iterando mientras estás adentro del ciclo (por ejemplo para borrar\nalgunos ítems), se recomienda que hagas primero una copia. Iterar sobre una secuencia no hace implícitamente una copia.</p>"
    },
    {
      "metadata": {
        "id": "70Xz-0Cbf9xK",
        "colab_type": "code",
        "colab": {},
        "trusted": false
      },
      "cell_type": "code",
      "source": "for p in palabras[:]: # hace una copia por rebanada de toda la lista\n  if len(p) > 6:\n    palabras.insert(0, p)",
      "execution_count": 112,
      "outputs": []
    },
    {
      "metadata": {
        "id": "IvKA2ZhQf9td",
        "colab_type": "code",
        "colab": {
          "base_uri": "https://localhost:8080/",
          "height": 35
        },
        "outputId": "76628234-6aac-4062-d507-d245e00a9cb7",
        "trusted": false
      },
      "cell_type": "code",
      "source": "palabras",
      "execution_count": 113,
      "outputs": [
        {
          "output_type": "execute_result",
          "data": {
            "text/plain": "['defenestrado', 'ventana', 'gato', 'ventana', 'defenestrado']"
          },
          "metadata": {
            "tags": []
          },
          "execution_count": 113
        }
      ]
    },
    {
      "metadata": {
        "id": "NultOl2Zhbk5",
        "colab_type": "code",
        "colab": {},
        "trusted": false
      },
      "cell_type": "markdown",
      "source": "<hr>\n<h2 style=\"color:#30B2FA\">La función range()\n</h2>\n<p>Si se necesita iterar sobre una secuencia de números, es apropiado utilizar la función integrada range(), la cual genera\nprogresiones aritméticas:</p>"
    },
    {
      "metadata": {
        "id": "Ft9cPjlYhcN9",
        "colab_type": "code",
        "colab": {
          "base_uri": "https://localhost:8080/",
          "height": 109
        },
        "outputId": "9e311554-0de5-433a-fa57-18dba636816f",
        "trusted": false
      },
      "cell_type": "code",
      "source": "for i in range(5):\n print(i)\n",
      "execution_count": 114,
      "outputs": [
        {
          "output_type": "stream",
          "text": "0\n1\n2\n3\n4\n",
          "name": "stdout"
        }
      ]
    },
    {
      "metadata": {
        "id": "JgBNp4zihcxV",
        "colab_type": "code",
        "colab": {},
        "trusted": false
      },
      "cell_type": "markdown",
      "source": "<p>Para iterar sobre los índices de una secuencia, podés combinar range() y len() así:</p>"
    },
    {
      "metadata": {
        "id": "Yz5wNny8hcuW",
        "colab_type": "code",
        "colab": {
          "base_uri": "https://localhost:8080/",
          "height": 91
        },
        "outputId": "bad87582-80e5-441e-8aa0-ca59fbab679c",
        "trusted": false
      },
      "cell_type": "code",
      "source": "a = ['Mary', 'tenia', 'un', 'corderito']\nfor i in range(len(a)):\n print(i, a[i])",
      "execution_count": 119,
      "outputs": [
        {
          "output_type": "stream",
          "text": "0 Mary\n1 tenia\n2 un\n3 corderito\n",
          "name": "stdout"
        }
      ]
    },
    {
      "metadata": {
        "id": "CIK-HlJshcqn",
        "colab_type": "code",
        "colab": {},
        "trusted": false
      },
      "cell_type": "markdown",
      "source": "<p>En la mayoría de los casos, sin embargo, conviene usar la función enumerate(), mirá Técnicas de iteración.\nAlgo extraño sucede si mostrás un range:</p>"
    },
    {
      "metadata": {
        "id": "lPORl4AvhcnT",
        "colab_type": "code",
        "colab": {
          "base_uri": "https://localhost:8080/",
          "height": 35
        },
        "outputId": "106742b6-fba0-494e-e609-b59f30657f52",
        "trusted": false
      },
      "cell_type": "code",
      "source": "print(range(10))",
      "execution_count": 120,
      "outputs": [
        {
          "output_type": "stream",
          "text": "range(0, 10)\n",
          "name": "stdout"
        }
      ]
    },
    {
      "metadata": {
        "id": "g-NT3kQQhckE",
        "colab_type": "code",
        "colab": {},
        "trusted": false
      },
      "cell_type": "markdown",
      "source": "<p>Decimos que tal objeto es iterable; esto es, que se lo puede usar en funciones y construcciones que esperan algo de lo cual\nobtener ítems sucesivos hasta que se termine. Hemos visto que la declaración for es un iterador en ese sentido. La\nfunción list() es otra; crea listas a partir de iterables:</p>"
    },
    {
      "metadata": {
        "id": "rXtqLNrwhcg-",
        "colab_type": "code",
        "colab": {
          "base_uri": "https://localhost:8080/",
          "height": 35
        },
        "outputId": "0bc5f943-65e5-4e85-a090-b17dd462e474",
        "trusted": false
      },
      "cell_type": "code",
      "source": "list(range(5))",
      "execution_count": 121,
      "outputs": [
        {
          "output_type": "execute_result",
          "data": {
            "text/plain": "[0, 1, 2, 3, 4]"
          },
          "metadata": {
            "tags": []
          },
          "execution_count": 121
        }
      ]
    },
    {
      "metadata": {
        "id": "elUkq09ChceS",
        "colab_type": "code",
        "colab": {},
        "trusted": false
      },
      "cell_type": "markdown",
      "source": "<hr>\n<h2 style=\"color:#30B2FA\">Las sentencias break, continue, y else en lazos</p>"
    },
    {
      "metadata": {
        "id": "xHH5YkEnhcba",
        "colab_type": "code",
        "colab": {
          "base_uri": "https://localhost:8080/",
          "height": 165
        },
        "outputId": "94ef3c62-786d-4b87-a170-5c5c586a580b",
        "trusted": false
      },
      "cell_type": "code",
      "source": " for n in range(2, 10):\n  for x in range(2, n):\n    if n % x == 0:\n      print(n, 'es igual a', x, '*', n/x)\n      break\n  else:\n    # sigue el bucle sin encontrar un factor\n    print(n, 'es un numero primo')\n",
      "execution_count": 122,
      "outputs": [
        {
          "output_type": "stream",
          "text": "2 es un numero primo\n3 es un numero primo\n4 es igual a 2 * 2.0\n5 es un numero primo\n6 es igual a 2 * 3.0\n7 es un numero primo\n8 es igual a 2 * 4.0\n9 es igual a 3 * 3.0\n",
          "name": "stdout"
        }
      ]
    },
    {
      "metadata": {
        "id": "swBsmdHbhcXs",
        "colab_type": "code",
        "colab": {},
        "trusted": false
      },
      "cell_type": "markdown",
      "source": "<p>La declaración continue, también tomada de C, continua con la siguiente iteración del ciclo:</p>"
    },
    {
      "metadata": {
        "id": "Ygq25mfGhcUz",
        "colab_type": "code",
        "colab": {
          "base_uri": "https://localhost:8080/",
          "height": 165
        },
        "outputId": "8df74fc6-93ad-4d6d-fc16-2dda18c95829",
        "trusted": false
      },
      "cell_type": "code",
      "source": " for num in range(2, 10):\n    if num % 2 == 0:\n      print(\"Encontré un número par\", num)\n      continue\n    print(\"Encontré un número\", num)\n",
      "execution_count": 124,
      "outputs": [
        {
          "output_type": "stream",
          "text": "Encontré un número par 2\nEncontré un número 3\nEncontré un número par 4\nEncontré un número 5\nEncontré un número par 6\nEncontré un número 7\nEncontré un número par 8\nEncontré un número 9\n",
          "name": "stdout"
        }
      ]
    },
    {
      "metadata": {
        "id": "poI8TuEfhcSo",
        "colab_type": "code",
        "colab": {},
        "trusted": false
      },
      "cell_type": "markdown",
      "source": "<hr>\n<h2 style=\"color:#30B2FA\">La sentencia pass</h2>\n<p>La sentencia pass no hace nada. Se puede usar cuando una sentencia es requerida por la sintáxis pero el programa no\nrequiere ninguna acción. Por ejemplo:</p>"
    },
    {
      "metadata": {
        "id": "AyWUFgXghcK1",
        "colab_type": "code",
        "colab": {
          "base_uri": "https://localhost:8080/",
          "height": 191
        },
        "outputId": "74ba0a3a-95fc-4efe-f528-c5d43ed2a14d",
        "trusted": true
      },
      "cell_type": "code",
      "source": "while True:\n  pass # Espera ocupada hasta una interrupción de teclado (Ctrl+C)",
      "execution_count": 13,
      "outputs": [
        {
          "output_type": "error",
          "ename": "KeyboardInterrupt",
          "evalue": "",
          "traceback": [
            "\u001b[0;31m---------------------------------------------------------------------------\u001b[0m",
            "\u001b[0;31mKeyboardInterrupt\u001b[0m                         Traceback (most recent call last)",
            "\u001b[0;32m<ipython-input-13-67fc8011846c>\u001b[0m in \u001b[0;36m<module>\u001b[0;34m\u001b[0m\n\u001b[1;32m      1\u001b[0m \u001b[0;32mwhile\u001b[0m \u001b[0;32mTrue\u001b[0m\u001b[0;34m:\u001b[0m\u001b[0;34m\u001b[0m\u001b[0m\n\u001b[0;32m----> 2\u001b[0;31m   \u001b[0;32mpass\u001b[0m \u001b[0;31m# Espera ocupada hasta una interrupción de teclado (Ctrl+C)\u001b[0m\u001b[0;34m\u001b[0m\u001b[0m\n\u001b[0m",
            "\u001b[0;31mKeyboardInterrupt\u001b[0m: "
          ]
        }
      ]
    },
    {
      "metadata": {
        "id": "zAM7bFCshcHu",
        "colab_type": "code",
        "colab": {},
        "trusted": false
      },
      "cell_type": "markdown",
      "source": "<p>Se usa normalmente para crear clases en su mínima expresión:</p>"
    },
    {
      "metadata": {
        "id": "HlxhL4zXhcFW",
        "colab_type": "code",
        "colab": {},
        "trusted": false
      },
      "cell_type": "code",
      "source": "class MyEmptyClass:\n  pass\n",
      "execution_count": 128,
      "outputs": []
    },
    {
      "metadata": {
        "id": "51s71-zohcCF",
        "colab_type": "code",
        "colab": {},
        "trusted": false
      },
      "cell_type": "markdown",
      "source": "<p>Otro lugar donde se puede usar pass es como una marca de lugar para una función o un cuerpo condicional cuando estás\ntrabajando en código nuevo, lo cual te permite pensar a un nivel de abstracción mayor. El pass se ignora silenciosamente:</p>"
    },
    {
      "metadata": {
        "id": "e8Nv6K4khb-M",
        "colab_type": "code",
        "colab": {},
        "trusted": false
      },
      "cell_type": "code",
      "source": "def initlog(*args):\n  pass # Acordate de implementar esto!",
      "execution_count": 130,
      "outputs": []
    },
    {
      "metadata": {
        "id": "HbjFYrXcf9o2",
        "colab_type": "code",
        "colab": {},
        "trusted": false
      },
      "cell_type": "markdown",
      "source": "<hr>\n<h2 style=\"color:#30B2FA\">Definiendo funciones </h2>\n<p>Podemos crear una función que escriba la serie de Fibonacci hasta un límite determinado:</p>"
    },
    {
      "metadata": {
        "id": "X2NSOmDKjckh",
        "colab_type": "code",
        "colab": {
          "base_uri": "https://localhost:8080/",
          "height": 35
        },
        "outputId": "ad4243ef-ca3a-490c-c9eb-1d1c62ee3e6b",
        "trusted": false
      },
      "cell_type": "code",
      "source": "def fib(n): # escribe la serie de Fibonacci hasta n\n  \"\"\"Escribe la serie de Fibonacci hasta n.\"\"\"\n  a, b = 0, 1\n  while a < n:\n    print(a, end=' ')\n    a, b = b, a+b\n  print()\n# Ahora llamamos a la funcion que acabamos de definir:\nfib(2000)",
      "execution_count": 131,
      "outputs": [
        {
          "output_type": "stream",
          "text": "0 1 1 2 3 5 8 13 21 34 55 89 144 233 377 610 987 1597 \n",
          "name": "stdout"
        }
      ]
    },
    {
      "metadata": {
        "id": "pkTYQsUxjciL",
        "colab_type": "code",
        "colab": {
          "base_uri": "https://localhost:8080/",
          "height": 35
        },
        "outputId": "ff141801-5fd6-4546-86bd-ee71bf13f13c",
        "trusted": false
      },
      "cell_type": "code",
      "source": "fib\nf = fib\nf(100)",
      "execution_count": 133,
      "outputs": [
        {
          "output_type": "stream",
          "text": "0 1 1 2 3 5 8 13 21 34 55 89 \n",
          "name": "stdout"
        }
      ]
    },
    {
      "metadata": {
        "id": "-xYKT_Fkjcf0",
        "colab_type": "code",
        "colab": {},
        "trusted": false
      },
      "cell_type": "markdown",
      "source": "<p>Viniendo de otros lenguajes, podés objetar que fib no es una función, sino un procedimiento, porque no devuelve un valor.\nDe hecho, técnicamente hablando, los procedimientos sí retornan un valor, aunque uno aburrido. Este valor se llama None\n(es un nombre predefinido). </p>"
    },
    {
      "metadata": {
        "id": "uJq44P4Ojcdh",
        "colab_type": "code",
        "colab": {
          "base_uri": "https://localhost:8080/",
          "height": 72
        },
        "outputId": "00fa30f5-3af2-409d-df54-b8e8884ac1a5",
        "trusted": false
      },
      "cell_type": "code",
      "source": "fib(0)\nprint(fib(0))\n",
      "execution_count": 134,
      "outputs": [
        {
          "output_type": "stream",
          "text": "\n\nNone\n",
          "name": "stdout"
        }
      ]
    },
    {
      "metadata": {
        "id": "Ga13aIM8jcax",
        "colab_type": "code",
        "colab": {
          "base_uri": "https://localhost:8080/",
          "height": 136
        },
        "outputId": "2c5bddc3-5ff9-45a9-8bc5-88f959d00b86",
        "trusted": false
      },
      "cell_type": "markdown",
      "source": "<p>Es simple escribir una función que retorne una lista con los números de la serie de Fibonacci en lugar de imprimirlos:</p>"
    },
    {
      "metadata": {
        "id": "Ubh9i23RjcXv",
        "colab_type": "code",
        "colab": {
          "base_uri": "https://localhost:8080/",
          "height": 35
        },
        "outputId": "d25cbb2c-dea4-43c0-8026-ea92b6dfaf24",
        "trusted": false
      },
      "cell_type": "code",
      "source": "def fib2(n): # devuelve la serie de Fibonacci hasta n\n  \"\"\"Devuelve una lista conteniendo la serie de Fibonacci hasta n.\"\"\"\n  result = []\n  a, b = 0, 1\n  while a < n:\n    result.append(a) # ver abajo\n    a, b = b, a+b\n  return result\nf100 = fib2(100) # llamarla\nf100 # escribir el resultado\n",
      "execution_count": 136,
      "outputs": [
        {
          "output_type": "execute_result",
          "data": {
            "text/plain": "[0, 1, 1, 2, 3, 5, 8, 13, 21, 34, 55, 89]"
          },
          "metadata": {
            "tags": []
          },
          "execution_count": 136
        }
      ]
    },
    {
      "metadata": {
        "id": "D9EfLe1FjcUd",
        "colab_type": "code",
        "colab": {},
        "trusted": false
      },
      "cell_type": "markdown",
      "source": "<p>Este ejemplo, como es usual, demuestra algunas características más de Python:</p>"
    },
    {
      "metadata": {},
      "cell_type": "markdown",
      "source": "* La sentencia return devuelve un valor en una función. return sin una expresión como argumento retorna None. Si\nse alcanza el final de una función, también se retorna None.\n* La sentencia result.append(a) llama a un método del objeto lista result. Un método es una función que\n'pertenece' a un objeto y se nombra obj.methodname, dónde obj es algún objeto (puede ser una expresión), y\nmethodname es el nombre del método que está definido por el tipo del objeto. Distintos tipos definen distintos\nmétodos. Métodos de diferentes tipos pueden tener el mismo nombre sin causar ambigüedad. (Es posible definir tipos\nde objetos propios, y métodos, usando clases, mirá Clases). El método append() mostrado en el ejemplo está\ndefinido para objetos lista; añade un nuevo elemento al final de la lista. En este ejemplo es equivalente a\nresult = result + [a], pero más eficiente."
    },
    {
      "metadata": {
        "id": "jDB31vcYjcRg",
        "colab_type": "code",
        "colab": {},
        "trusted": false
      },
      "cell_type": "markdown",
      "source": "<hr>\n<h2 style=\"color:#30B2FA\">Más sobre definición de funciones</h2>\n<p>También es posible definir funciones con un número variable de argumentos. Hay tres formas que pueden ser combinadas.</p>\n<h2>Argumentos con valores por omisión</h2>\n<p>La forma más útil es especificar un valor por omisión para uno o más argumentos. Esto crea una función que puede ser\nllamada con menos argumentos que los que permite. Por ejemplo:\n</p>"
    },
    {
      "metadata": {
        "id": "TjJjZl1EjcOv",
        "colab_type": "code",
        "colab": {},
        "trusted": false
      },
      "cell_type": "code",
      "source": "def pedir_confirmacion(prompt, reintentos=4, queja='Si o no, por favor!'):\n  while True:\n    ok = input(prompt)\n    if ok in ('s', 'S', 'si', 'Si', 'SI'):\n      return True\n    if ok in ('n', 'no', 'No', 'NO'):\n      return False\n    reintentos = reintentos - 1\n    if reintentos < 0:\n      raise IOError('usuario duro')\n    print(queja)",
      "execution_count": 137,
      "outputs": []
    },
    {
      "metadata": {
        "id": "YnwOMSgzjcLI",
        "colab_type": "code",
        "colab": {},
        "trusted": false
      },
      "cell_type": "markdown",
      "source": "<p>Esta función puede ser llamada de distintas maneras:</p>"
    },
    {
      "metadata": {},
      "cell_type": "markdown",
      "source": "* pasando sólo el argumento obligatorio: pedir_confirmacion('¿Realmente queres salir?')\n* pasando uno de los argumentos opcionales: pedir_confirmacion('¿Sobreescribir archivo?', 2)\n* o pasando todos los argumentos:\n    pedir_confirmacion('¿Sobreescribir archivo?', 2, \"Vamos, solo si o no!)"
    },
    {
      "metadata": {},
      "cell_type": "markdown",
      "source": "<p>Este ejemplo también introduce la palabra reservada in, la cual prueba si una secuencia contiene o no un determinado\nvalor.\nLos valores por omisión son evaluados en el momento de la definición de la función, en el ámbito de la definición, entonces:\n</p>"
    },
    {
      "metadata": {
        "id": "FgFIVU4UjcFX",
        "colab_type": "code",
        "colab": {
          "base_uri": "https://localhost:8080/",
          "height": 35
        },
        "outputId": "f11d8d88-95fa-4fd9-e54c-16c9a22eee45",
        "trusted": false
      },
      "cell_type": "code",
      "source": "i = 5\ndef f(arg=i):\n print(arg)\ni = 6\nf()\n",
      "execution_count": 138,
      "outputs": [
        {
          "output_type": "stream",
          "text": "5\n",
          "name": "stdout"
        }
      ]
    },
    {
      "metadata": {
        "id": "BAWhPgoYk1wv",
        "colab_type": "code",
        "colab": {},
        "trusted": false
      },
      "cell_type": "markdown",
      "source": "<p>Advertencia importante: El valor por omisión es evaluado solo una vez. Existe una diferencia cuando el valor por omisión\nes un objeto mutable como una lista, diccionario, o instancia de la mayoría de las clases. Por ejemplo, la siguiente función\nacumula los argumentos que se le pasan en subsiguientes llamadas:</p<"
    },
    {
      "metadata": {
        "id": "8JRuio39k1to",
        "colab_type": "code",
        "colab": {
          "base_uri": "https://localhost:8080/",
          "height": 72
        },
        "outputId": "be34c745-4013-40bd-94f4-ca5b95335ca3",
        "trusted": false
      },
      "cell_type": "code",
      "source": "def f(a, L=[]):\n L.append(a)\n return L\nprint(f(1))\nprint(f(2))\nprint(f(3))\n",
      "execution_count": 139,
      "outputs": [
        {
          "output_type": "stream",
          "text": "[1]\n[1, 2]\n[1, 2, 3]\n",
          "name": "stdout"
        }
      ]
    },
    {
      "metadata": {
        "id": "GAhGMEKsk1of",
        "colab_type": "code",
        "colab": {},
        "trusted": false
      },
      "cell_type": "markdown",
      "source": "<hr>\n<h2 style=\"color:#30B2FA\">Palabras claves como argumentos </h2>\n<p>Las funciones también puede ser llamadas usando argumentos de palabras clave (o argumentos nombrados) de la forma\nkeyword = value. Por ejemplo, la siguiente función:</p>"
    },
    {
      "metadata": {
        "id": "mk7gZ9Kbk1ll",
        "colab_type": "code",
        "colab": {},
        "trusted": false
      },
      "cell_type": "code",
      "source": "def loro(tension, estado='muerto', accion='explotar', tipo='Azul Nordico'):\n print(\"-- Este loro no va a\", accion, end=' ')\n print(\"si le aplicás\", tension, \"voltios.\")\n print(\"-- Gran plumaje tiene el\", tipo)\n print(\"-- Está\", estado, \"!\")\n",
      "execution_count": 140,
      "outputs": []
    },
    {
      "metadata": {
        "id": "XUR1KUALk1ik",
        "colab_type": "code",
        "colab": {},
        "trusted": false
      },
      "cell_type": "markdown",
      "source": "<p>...acepta un argumento obligatorio (tension) y tres argumentos opcionales (estado, accion, y tipo). Esta función puede\nllamarse de cualquiera de las siguientes maneras:\n</p>"
    },
    {
      "metadata": {
        "id": "UcYQA8J3k1gF",
        "colab_type": "code",
        "colab": {
          "base_uri": "https://localhost:8080/",
          "height": 294
        },
        "outputId": "10158fd7-f471-416d-9f24-cf689587e953",
        "trusted": false
      },
      "cell_type": "code",
      "source": "loro(1000) # 1 argumento posicional\nloro(tension=1000) # 1 argumento nombrado\nloro(tension=1000000, accion='VOOOOOM') # 2 argumentos nombrados\nloro(accion='VOOOOOM', tension=1000000) # 2 argumentos nombrados\nloro('un millón', 'despojado de vida', 'saltar') # 3 args posicionales",
      "execution_count": 142,
      "outputs": [
        {
          "output_type": "stream",
          "text": "-- Este loro no va a explotar si le aplicás 1000 voltios.\n-- Gran plumaje tiene el Azul Nordico\n-- Está muerto !\n-- Este loro no va a explotar si le aplicás 1000 voltios.\n-- Gran plumaje tiene el Azul Nordico\n-- Está muerto !\n-- Este loro no va a VOOOOOM si le aplicás 1000000 voltios.\n-- Gran plumaje tiene el Azul Nordico\n-- Está muerto !\n-- Este loro no va a VOOOOOM si le aplicás 1000000 voltios.\n-- Gran plumaje tiene el Azul Nordico\n-- Está muerto !\n-- Este loro no va a saltar si le aplicás un millón voltios.\n-- Gran plumaje tiene el Azul Nordico\n-- Está despojado de vida !\n",
          "name": "stdout"
        }
      ]
    },
    {
      "metadata": {
        "id": "KCT57cbUk1ba",
        "colab_type": "code",
        "colab": {},
        "trusted": false
      },
      "cell_type": "markdown",
      "source": "<p>Cuando un parámetro formal de la forma **nombre está presente al final, recibe un diccionario (ver Tipos integrados)\nconteniendo todos los argumentos nombrados excepto aquellos correspondientes a un parámetro formal. Esto puede ser\ncombinado con un parámetro formal de la forma *nombre (descripto en la siguiente sección) que recibe una tupla\nconteniendo los argumentos posicionales además de la lista de parámetros formales. (*nombre debe ocurrir antes de\n**nombre). Por ejemplo, si definimos una función así:</p>"
    },
    {
      "metadata": {
        "id": "dPWGio4UlYdC",
        "colab_type": "code",
        "colab": {},
        "trusted": false
      },
      "cell_type": "code",
      "source": "def ventadequeso(tipo, *argumentos, **palabrasclaves):\n  print(\"-- ¿Tiene\", tipo, \"?\")\n  print(\"-- Lo siento, nos quedamos sin\", tipo)\n  for arg in argumentos:\n    print(arg)\n  print(\"-\" * 40)\n  claves = sorted(palabrasclaves.keys())\n  for c in claves:\n    print(c, \":\", palabrasclaves[c])",
      "execution_count": 145,
      "outputs": []
    },
    {
      "metadata": {
        "id": "aAK5sH48lYYS",
        "colab_type": "code",
        "colab": {
          "base_uri": "https://localhost:8080/",
          "height": 165
        },
        "outputId": "831f6150-d12d-4782-afbb-2c376cecaf5d",
        "trusted": false
      },
      "cell_type": "code",
      "source": "ventadequeso(\"Limburger\", \"Es muy liquido, sr.\",\n \"Realmente es muy muy liquido, sr.\",\n cliente=\"Juan Garau\",\n vendedor=\"Miguel Paez\",\n puesto=\"Venta de Queso Argentino\")",
      "execution_count": 146,
      "outputs": [
        {
          "output_type": "stream",
          "text": "-- ¿Tiene Limburger ?\n-- Lo siento, nos quedamos sin Limburger\nEs muy liquido, sr.\nRealmente es muy muy liquido, sr.\n----------------------------------------\ncliente : Juan Garau\npuesto : Venta de Queso Argentino\nvendedor : Miguel Paez\n",
          "name": "stdout"
        }
      ]
    },
    {
      "metadata": {
        "id": "2YnIsOCNlYV9",
        "colab_type": "code",
        "colab": {},
        "trusted": false
      },
      "cell_type": "markdown",
      "source": "<hr>\n<h2 style=\"color:#30B2FA\">Listas de argumentos arbitrarios </h2>\n<p>Finalmente, la opción menos frecuentemente usada es especificar que una función puede ser llamada con un número\narbitrario de argumentos. Estos argumentos serán organizados en una tupla (mirá Tuplas y secuencias). Antes del número\nvariable de argumentos, cero o más argumentos normales pueden estar presentes.:\n</p>"
    },
    {
      "metadata": {
        "id": "4G6F4SlhlYRK",
        "colab_type": "code",
        "colab": {},
        "trusted": false
      },
      "cell_type": "code",
      "source": "def muchos_items(archivo, separador, *args):\n archivo.write(separador.join(args))\n",
      "execution_count": 147,
      "outputs": []
    },
    {
      "metadata": {
        "id": "CaMb51vXl9Cg",
        "colab_type": "code",
        "colab": {},
        "trusted": false
      },
      "cell_type": "markdown",
      "source": "<p>Normalmente estos argumentos de cantidad variables son los últimos en la lista de parámetros formales, porque toman todo\nel remanente de argumentos que se pasan a la función. Cualquier parámetro que suceda luego del *args será 'sólo\nnombrado', o sea que sólo se pueden usar como nombrados y no posicionales.:</p>"
    },
    {
      "metadata": {
        "id": "-NDmcpMHmAV4",
        "colab_type": "code",
        "colab": {},
        "trusted": false
      },
      "cell_type": "code",
      "source": "def concatenar(*args, sep=\"/\"):\n  return sep.join(args)\n",
      "execution_count": 148,
      "outputs": []
    },
    {
      "metadata": {
        "id": "GtDmh2-jmApV",
        "colab_type": "code",
        "colab": {
          "base_uri": "https://localhost:8080/",
          "height": 36
        },
        "outputId": "dd102a47-7f76-4d8c-e1d7-098f08fbab5c",
        "trusted": false
      },
      "cell_type": "code",
      "source": "concatenar(\"tierra\", \"marte\", \"venus\")",
      "execution_count": 149,
      "outputs": [
        {
          "output_type": "execute_result",
          "data": {
            "application/vnd.google.colaboratory.intrinsic+json": {
              "type": "string"
            },
            "text/plain": "'tierra/marte/venus'"
          },
          "metadata": {
            "tags": []
          },
          "execution_count": 149
        }
      ]
    },
    {
      "metadata": {
        "id": "asqUekwcmAzG",
        "colab_type": "code",
        "colab": {
          "base_uri": "https://localhost:8080/",
          "height": 36
        },
        "outputId": "0785c74c-efdb-4eb9-be37-bfc5899a6d91",
        "trusted": false
      },
      "cell_type": "code",
      "source": "concatenar(\"tierra\", \"marte\", \"venus\", sep=\".\")",
      "execution_count": 150,
      "outputs": [
        {
          "output_type": "execute_result",
          "data": {
            "application/vnd.google.colaboratory.intrinsic+json": {
              "type": "string"
            },
            "text/plain": "'tierra.marte.venus'"
          },
          "metadata": {
            "tags": []
          },
          "execution_count": 150
        }
      ]
    },
    {
      "metadata": {
        "id": "6El9TsF5mR3O",
        "colab_type": "code",
        "colab": {},
        "trusted": false
      },
      "cell_type": "markdown",
      "source": "<hr>\n<h2 style=\"color:#30B2FA\">Desempaquetando una lista de argumentos</h2>\n<p>La situación inversa ocurre cuando los argumentos ya están en una lista o tupla pero necesitan ser desempaquetados para\nllamar a una función que requiere argumentos posicionales separados. </p>"
    },
    {
      "metadata": {
        "id": "bE349DQ7mU2Q",
        "colab_type": "code",
        "colab": {
          "base_uri": "https://localhost:8080/",
          "height": 35
        },
        "outputId": "bdc673e2-e79e-4776-863f-bfd2feed0d81",
        "trusted": false
      },
      "cell_type": "code",
      "source": "list(range(3, 6)) # llamada normal con argumentos separados",
      "execution_count": 151,
      "outputs": [
        {
          "output_type": "execute_result",
          "data": {
            "text/plain": "[3, 4, 5]"
          },
          "metadata": {
            "tags": []
          },
          "execution_count": 151
        }
      ]
    },
    {
      "metadata": {
        "id": "ZdzypkVVmcMR",
        "colab_type": "code",
        "colab": {
          "base_uri": "https://localhost:8080/",
          "height": 35
        },
        "outputId": "4bc1d0ff-c828-4a15-de31-78f3ff6976ff",
        "trusted": false
      },
      "cell_type": "code",
      "source": "args = [3, 6]\nlist(range(*args)) # llamada con argumentos desempaquetados de la lista\n",
      "execution_count": 152,
      "outputs": [
        {
          "output_type": "execute_result",
          "data": {
            "text/plain": "[3, 4, 5]"
          },
          "metadata": {
            "tags": []
          },
          "execution_count": 152
        }
      ]
    },
    {
      "metadata": {
        "id": "z_WZVB4umcH7",
        "colab_type": "code",
        "colab": {},
        "trusted": false
      },
      "cell_type": "markdown",
      "source": "<p>Del mismo modo, los diccionarios pueden entregar argumentos nombrados con el operador **::</p>"
    },
    {
      "metadata": {
        "id": "6OytQT-vmUwT",
        "colab_type": "code",
        "colab": {
          "base_uri": "https://localhost:8080/",
          "height": 35
        },
        "outputId": "0d355762-68fe-4305-e935-4b561bddf074",
        "trusted": false
      },
      "cell_type": "code",
      "source": "def loro(tension, estado='rostizado', accion='explotar'):\n  print(\"-- Este loro no va a\", accion, end=' ')\n  print(\"si le aplicás\", tension, \"voltios.\", end=' ')\n  print(\"Está\", estado, \"!\")\nd = {\"tension\": \"cinco mil\", \"estado\": \"demacrado\",\n\"accion\": \"VOLAR\"}\nloro(**d)",
      "execution_count": 153,
      "outputs": [
        {
          "output_type": "stream",
          "text": "-- Este loro no va a VOLAR si le aplicás cinco mil voltios. Está demacrado !\n",
          "name": "stdout"
        }
      ]
    },
    {
      "metadata": {
        "trusted": false,
        "id": "ZcQo7h-6YnxC",
        "colab_type": "code",
        "colab": {}
      },
      "cell_type": "code",
      "source": "",
      "execution_count": null,
      "outputs": []
    }
  ],
  "metadata": {
    "kernelspec": {
      "name": "python36",
      "display_name": "Python 3.6",
      "language": "python"
    },
    "language_info": {
      "mimetype": "text/x-python",
      "nbconvert_exporter": "python",
      "name": "python",
      "pygments_lexer": "ipython3",
      "version": "3.6.6",
      "file_extension": ".py",
      "codemirror_mode": {
        "version": 3,
        "name": "ipython"
      }
    },
    "colab": {
      "name": "T.Tutorial de Markdown (2).ipynb",
      "provenance": [],
      "collapsed_sections": []
    }
  },
  "nbformat": 4,
  "nbformat_minor": 1
}