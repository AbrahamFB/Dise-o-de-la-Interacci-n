{
 "metadata": {
  "language_info": {
   "codemirror_mode": {
    "name": "ipython",
    "version": 3
   },
   "file_extension": ".py",
   "mimetype": "text/x-python",
   "name": "python",
   "nbconvert_exporter": "python",
   "pygments_lexer": "ipython3",
   "version": "3.8.5-final"
  },
  "orig_nbformat": 2,
  "kernelspec": {
   "name": "Python 3.8.5 32-bit",
   "display_name": "Python 3.8.5 32-bit",
   "metadata": {
    "interpreter": {
     "hash": "4ea11d6aa9caee5b7f8b53fb1af2db5886927b8c4d3381c62ed23dd2d39640d8"
    }
   }
  }
 },
 "nbformat": 4,
 "nbformat_minor": 2,
 "cells": [
  {
   "source": [
    "# Patrón de diseño de fábrica abstracta\n"
   ],
   "cell_type": "markdown",
   "metadata": {}
  },
  {
   "source": [
    "<span>Nombre de los integrantes: </span>\n",
    "<br>\n",
    "<span>Abraham Flores Basilio </span>\n",
    "<br>\n",
    "<span> Ángel Gómez Villegas </span>\n",
    "<br>\n",
    "<span> Gerardo Martínez Hernández </span>\n",
    "<br>\n",
    "<span>Lizbeth Ortega Muñoz</span>\n",
    "<br><br>\n",
    "<h2>Descripción</h2>\n",
    "<p>El patrón de fábrica abstracta agrega una capa abstracta sobre varias implementaciones de métodos de fábrica.</p>\n",
    "\n",
    "<p>La fábrica abstracta contiene o compone uno o más de un método de fábrica</p>\n",
    "<br>\n",
    "<img src=\"img.png\">"
   ],
   "cell_type": "markdown",
   "metadata": {}
  },
  {
   "cell_type": "code",
   "execution_count": 32,
   "metadata": {},
   "outputs": [],
   "source": [
    "from abc import ABCMeta, abstractstaticmethod"
   ]
  },
  {
   "source": [
    "<p>Interfaz</p>"
   ],
   "cell_type": "markdown",
   "metadata": {}
  },
  {
   "cell_type": "code",
   "execution_count": 33,
   "metadata": {},
   "outputs": [],
   "source": [
    "class IChair(metaclass=ABCMeta):  # pylint: disable=too-few-public-methods\n",
    "    \"\"\"The Chair Interface\"\"\"\n",
    "\n",
    "    @abstractstaticmethod\n",
    "    def dimensions():\n",
    "        \"\"\"A static inteface method\"\"\""
   ]
  },
  {
   "source": [
    "<p>Tamaño \"Grande\" de silla que se puede generar la entrega en clase</p>"
   ],
   "cell_type": "markdown",
   "metadata": {}
  },
  {
   "cell_type": "code",
   "execution_count": 34,
   "metadata": {},
   "outputs": [],
   "source": [
    "class BigChair(IChair):  # pylint: disable=too-few-public-methods\n",
    "    \"\"\"The Big Chair Concrete Class which implements the IChair interface\"\"\""
   ]
  },
  {
   "source": [
    "<p>Definición de la función, el cual tienes las caracterisiticas de la misma</p>"
   ],
   "cell_type": "markdown",
   "metadata": {}
  },
  {
   "cell_type": "code",
   "execution_count": 35,
   "metadata": {},
   "outputs": [],
   "source": [
    "    def __init__(self):\n",
    "        self._height = 80\n",
    "        self._width = 80\n",
    "        self._depth = 80"
   ]
  },
  {
   "source": [
    "<p>Definición de las dimensiones</p>"
   ],
   "cell_type": "markdown",
   "metadata": {}
  },
  {
   "cell_type": "code",
   "execution_count": 36,
   "metadata": {},
   "outputs": [],
   "source": [
    "    def dimensions(self):\n",
    "        return {\"width\": self._width, \"depth\": self._depth, \"height\": self._height}"
   ]
  },
  {
   "source": [
    "<p>Tamaño \"Mediano\" de la silla que se puede generar la entrega en clase</p>"
   ],
   "cell_type": "markdown",
   "metadata": {}
  },
  {
   "cell_type": "code",
   "execution_count": 37,
   "metadata": {},
   "outputs": [],
   "source": [
    "class MediumChair(IChair):  # pylint: disable=too-few-public-methods\n",
    "    \"\"\"The Medium Chair Concrete Class which implements the IChair interface\"\"\""
   ]
  },
  {
   "source": [
    "<p>Definición de la función, el cual tienes las caracterisiticas de la misma</p>"
   ],
   "cell_type": "markdown",
   "metadata": {}
  },
  {
   "cell_type": "code",
   "execution_count": 38,
   "metadata": {},
   "outputs": [],
   "source": [
    "    def __init__(self):\n",
    "        self._height = 60\n",
    "        self._width = 60\n",
    "        self._depth = 60"
   ]
  },
  {
   "source": [
    "<p>Definición de las dimensiones</p>"
   ],
   "cell_type": "markdown",
   "metadata": {}
  },
  {
   "cell_type": "code",
   "execution_count": 39,
   "metadata": {},
   "outputs": [],
   "source": [
    "    def dimensions(self):\n",
    "        return {\"width\": self._width, \"depth\": self._depth, \"height\": self._height}"
   ]
  },
  {
   "source": [
    "<p>Tamaño \"Pequeño\" de la silla que se puede generar la entrega en clase</p>"
   ],
   "cell_type": "markdown",
   "metadata": {}
  },
  {
   "cell_type": "code",
   "execution_count": 40,
   "metadata": {},
   "outputs": [],
   "source": [
    "class SmallChair(IChair):  # pylint: disable=too-few-public-methods\n",
    "    \"\"\"The Small Chair Concrete Class which implements the IChair interface\"\"\""
   ]
  },
  {
   "source": [
    "<p>Definición de la función, el cual tienes las caracterisiticas de la misma</p>"
   ],
   "cell_type": "markdown",
   "metadata": {}
  },
  {
   "cell_type": "code",
   "execution_count": 41,
   "metadata": {},
   "outputs": [],
   "source": [
    "    def __init__(self):\n",
    "        self._height = 40\n",
    "        self._width = 40\n",
    "        self._depth = 40"
   ]
  },
  {
   "source": [
    "<p>Definición de las dimensiones</p>"
   ],
   "cell_type": "markdown",
   "metadata": {}
  },
  {
   "cell_type": "code",
   "execution_count": 42,
   "metadata": {},
   "outputs": [],
   "source": [
    "    def dimensions(self):\n",
    "        return {\"width\": self._width, \"depth\": self._depth, \"height\": self._height}"
   ]
  },
  {
   "source": [
    "<p>Las clases \"BigChair\", \"MediumChair\" y \"SmallChair\", son concretas que implementan la IClass Interfaz.</p>"
   ],
   "cell_type": "markdown",
   "metadata": {}
  },
  {
   "cell_type": "code",
   "execution_count": 44,
   "metadata": {},
   "outputs": [
    {
     "output_type": "stream",
     "name": "stdout",
     "text": [
      "{'width': 40, 'depth': 40, 'height': 40}\n"
     ]
    }
   ],
   "source": [
    "class ChairFactory:  # pylint: disable=too-few-public-methods\n",
    "    \"\"\"Tha Factory Class\"\"\"\n",
    "\n",
    "    @staticmethod\n",
    "    def get_chair(chair):\n",
    "        \"\"\"A static method to get a table\"\"\"\n",
    "        try:\n",
    "            if chair == \"BigChair\":\n",
    "                return BigChair()\n",
    "            if chair == \"MediumChair\":\n",
    "                return MediumChair()\n",
    "            if chair == \"SmallChair\":\n",
    "                return SmallChair()\n",
    "            raise AssertionError(\"Chair Not Found\")\n",
    "        except AssertionError as _e:\n",
    "            print(_e)\n",
    "        return None\n",
    "\n",
    "\n",
    "if __name__ == \"__main__\":\n",
    "    CHAIR_FACTORY = ChairFactory().get_chair(\"SmallChair\")\n",
    "    print(CHAIR_FACTORY.dimensions())"
   ]
  },
  {
   "source": [
    "<p>Para que nos devuelva un obejto de tipo fábrica y que se puede entregar, debemos llamar al proceso o método Factory get_new_object().\n",
    "<p></p>"
   ],
   "cell_type": "markdown",
   "metadata": {}
  }
 ]
}