{
 "metadata": {
  "language_info": {
   "codemirror_mode": {
    "name": "ipython",
    "version": 3
   },
   "file_extension": ".py",
   "mimetype": "text/x-python",
   "name": "python",
   "nbconvert_exporter": "python",
   "pygments_lexer": "ipython3",
   "version": "3.8.5-final"
  },
  "orig_nbformat": 2,
  "kernelspec": {
   "name": "Python 3.8.5 32-bit",
   "display_name": "Python 3.8.5 32-bit",
   "metadata": {
    "interpreter": {
     "hash": "4ea11d6aa9caee5b7f8b53fb1af2db5886927b8c4d3381c62ed23dd2d39640d8"
    }
   }
  }
 },
 "nbformat": 4,
 "nbformat_minor": 2,
 "cells": [
  {
   "source": [
    "# DISEÑO DE LA INTERACCIÓN"
   ],
   "cell_type": "markdown",
   "metadata": {}
  },
  {
   "cell_type": "code",
   "execution_count": 1,
   "metadata": {},
   "outputs": [
    {
     "output_type": "error",
     "ename": "IndentationError",
     "evalue": "expected an indented block (<ipython-input-1-85ad4a861651>, line 10)",
     "traceback": [
      "\u001b[1;36m  File \u001b[1;32m\"<ipython-input-1-85ad4a861651>\"\u001b[1;36m, line \u001b[1;32m10\u001b[0m\n\u001b[1;33m    class BigChair(IChair):  # pylint: disable=too-few-public-methods\u001b[0m\n\u001b[1;37m                                                                     ^\u001b[0m\n\u001b[1;31mIndentationError\u001b[0m\u001b[1;31m:\u001b[0m expected an indented block\n"
     ]
    }
   ],
   "source": [
    "from abc import ABCMeta, abstractstaticmethod\n",
    "\n",
    "\n",
    "class IChair(metaclass=ABCMeta):\n",
    "\n",
    "    @abstractstaticmethod\n",
    "    def dimensions():\n",
    "\n",
    "\n",
    "class BigChair(IChair):  \n",
    "\n",
    "    def __init__(self):\n",
    "        self._height = 80\n",
    "        self._width = 80\n",
    "        self._depth = 80\n",
    "\n",
    "    def dimensions(self):\n",
    "        return {\"width\": self._width, \"depth\": self._depth, \"height\": self._height}\n",
    "\n",
    "\n",
    "class MediumChair(IChair):  \n",
    "\n",
    "    def __init__(self):\n",
    "        self._height = 60\n",
    "        self._width = 60\n",
    "        self._depth = 60\n",
    "\n",
    "    def dimensions(self):\n",
    "        return {\"width\": self._width, \"depth\": self._depth, \"height\": self._height}\n",
    "\n",
    "\n",
    "class SmallChair(IChair): \n",
    "\n",
    "    def __init__(self):\n",
    "        self._height = 40\n",
    "        self._width = 40\n",
    "        self._depth = 40\n",
    "\n",
    "    def dimensions(self):\n",
    "        return {\"width\": self._width, \"depth\": self._depth, \"height\": self._height}\n",
    "\n",
    "\n",
    "class ChairFactory:\n",
    "\n",
    "    @staticmethod\n",
    "    def get_chair(chair):\n",
    "        try:\n",
    "            if chair == \"BigChair\":\n",
    "                return BigChair()\n",
    "            if chair == \"MediumChair\":\n",
    "                return MediumChair()\n",
    "            if chair == \"SmallChair\":\n",
    "                return SmallChair()\n",
    "            raise AssertionError(\"Chair Not Found\")\n",
    "        except AssertionError as _e:\n",
    "            print(_e)\n",
    "        return None\n",
    "\n",
    "\n",
    "if __name__ == \"__main__\":\n",
    "    CHAIR_FACTORY = ChairFactory().get_chair(\"SmallChair\")\n",
    "    print(CHAIR_FACTORY.dimensions())"
   ]
  },
  {
   "cell_type": "code",
   "execution_count": null,
   "metadata": {},
   "outputs": [],
   "source": []
  }
 ]
}