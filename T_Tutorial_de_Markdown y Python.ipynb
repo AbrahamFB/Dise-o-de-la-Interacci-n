{
  "cells": [
    {
      "metadata": {
        "id": "rfJm1hu-Ynl8",
        "colab_type": "text"
      },
      "cell_type": "markdown",
      "source": "<h1>Tutorial de Markdown</h1>"
    },
    {
      "metadata": {
        "id": "9fV58vb_YnmF",
        "colab_type": "text"
      },
      "cell_type": "markdown",
      "source": "<h3 style=\"color:gray\">Markdown:</h3>\n<p>Es una forma sencilla de dar otro aspecto a tus textos utilizando lenguaje de texto plano. Es decir, que con sencillos símbolos de texto plano, podremos definir un texto en negrita, en cursiva, como encabezado, crear un enlace, etc. Sin necesidad de utilizar un editor de texto más complejo.</p>\n<h3 style=\"color:gray\">Sintaxis:</h3>"
    },
    {
      "metadata": {
        "id": "ZIbaP-ziYnmP",
        "colab_type": "text"
      },
      "cell_type": "markdown",
      "source": "> <p>## Título</p>\n> <p>### Subtítulo</p>\n> <p>Este es un ejemplo de texto que da entrada a una lista genérica de elementos:</p>\n> <br>\n> <p>- Elemento 1</p>\n> <p>- Elemento 2</p>\n> <p>- Elemento 3</p>\n> <br>\n> <p>Este es un ejemplo de texto que da entrada a una lista numerada:</p>\n> <br>\n> <p>1. Elemento 1</p>\n> <p>2. Elemento 2</p>\n> <p>3. Elemento 3</p>\n<p>Corresponde a</p>"
    },
    {
      "metadata": {
        "id": "fjBCNc5ZYnmW",
        "colab_type": "text"
      },
      "cell_type": "markdown",
      "source": "## Título\n### Subtítulo\nEste es un ejemplo de texto que da entrada a una lista genérica de elementos:\n\n- Elemento 1\n- Elemento 2\n- Elemento 3\n\nEste es un ejemplo de texto que da entrada a una lista numerada:\n\n1. Elemento 1\n2. Elemento 2\n3. Elemento 3"
    },
    {
      "metadata": {
        "id": "ka9BNMDcYnmf",
        "colab_type": "text"
      },
      "cell_type": "markdown",
      "source": "<hr>\n<h2 style=\"color:#30B2FA\">Definiciones</h2>"
    },
    {
      "metadata": {
        "id": "oFObD0UAYnml",
        "colab_type": "text"
      },
      "cell_type": "markdown",
      "source": "#### Markdown\n> <p>Herramienta de conversión de texto plano a HTML.\n> <p>Lenguaje de marcado que facilita la escritura de documentos y artículos web.</p>\n\n#### Multimarkdown\n> <p>Lenguaje de marcado que añade características a las carencias de su hermano Markdown (tablas, notas al pie de página, listas de definiciones como esta…)</p>"
    },
    {
      "metadata": {
        "id": "iaDKbRfSYnms",
        "colab_type": "text"
      },
      "cell_type": "markdown",
      "source": "<hr>\n<h2 style=\"color:#30B2FA\">Elementos de bloque</h2>\n\n<ul>\n  <li>Elementos de bloque\n  \t<ul>\n        <li>Párrafos y saltos de línea</li>\n        <li>Encabezados</li>\n        <li>Citas</li>\n        <li>Listas</li>\n        <li>Códigos de bloque</li>\n        <li>Reglas horizontales</li>\n  \t</ul>\n  </li>\n  <li>Elementos de línea\n  \t<ul>\n        <li>Énfasis</li>\n        <li>Links o enlaces</li>\n        <li>Código</li>\n        <li>Imágenes</li>\n  \t</ul>\n  </li>\n</ul>"
    },
    {
      "metadata": {
        "id": "iYfVPO9rYnnQ",
        "colab_type": "text"
      },
      "cell_type": "markdown",
      "source": "<h2 style=\"color:#30B2FA\">Párrafos y saltos de línea</h2>\n"
    },
    {
      "metadata": {
        "id": "aRqFf-1UYnnW",
        "colab_type": "text"
      },
      "cell_type": "markdown",
      "source": "> <p>Para generar un nuevo párrafo en Markdown simplemente separa el texto mediante una línea en blanco (pulsando dos veces enter).</p>\n> <p>Para realizar un salto de línea y empezar una frase en una línea siguiente dentro del mismo párrafo, tendrás que pulsar dos veces la barra espaciadora antes de pulsar una vez enter.</p>\n<hr>"
    },
    {
      "metadata": {
        "id": "EZx7vF0YYnnc",
        "colab_type": "text"
      },
      "cell_type": "markdown",
      "source": "<h2 style=\"color:#30B2FA\">Encabezados</h2>\n<p>Las `#` almohadillas son uno de los métodos utilizados en Markdown para crear encabezados. Debemos usarlos añadiendo uno por cada nivel.</p>"
    },
    {
      "metadata": {
        "id": "M9dbNWq9Ynng",
        "colab_type": "text"
      },
      "cell_type": "markdown",
      "source": "> <li># Encabezado 1</li>\n> <li>## Encabezado 2</li>\n> <li>### Encabezado 3</li>\n> <li>#### Encabezado 4</li>\n> <li>##### Encabezado 5</li>\n> <li>###### Encabezado 6</li>\n<p>Se corresponde con:</p>"
    },
    {
      "metadata": {
        "id": "nGig0CSHYnnk",
        "colab_type": "text"
      },
      "cell_type": "markdown",
      "source": "# Encabezado 1\n## Encabezado 2\n### Encabezado 3\n#### Encabezado 4\n##### Encabezado 5\n###### Encabezado 6"
    },
    {
      "metadata": {
        "id": "YMVpybZiYnnp",
        "colab_type": "text"
      },
      "cell_type": "markdown",
      "source": "<p>Existe otra manera de generar encabezados, aunque este método está limitado a dos niveles.</p>\n\n<p>Consiste en subrayar los encabezados con el símbolo = (para el encabezado 1), o con guiones - para el encabezado 2.</p>"
    },
    {
      "metadata": {
        "id": "coUhd67NYnnv",
        "colab_type": "text"
      },
      "cell_type": "markdown",
      "source": "Esto sería un encabezado 1\n===\n Esto sería un encabezado 2"
    },
    {
      "metadata": {
        "id": "LnRZZMwdYnn1",
        "colab_type": "text"
      },
      "cell_type": "markdown",
      "source": "<hr>\n<h2 style=\"color:#30B2FA\">Citas</h2>\n<p>Las citas se generar utilizando el carácter mayor que `>` al comienzo del bloque de texto.</p>\n<p>> La naturaleza nos ha dado las semillas del conocimiento, no el conocimiento mismo..  — Séneca</p>"
    },
    {
      "metadata": {
        "id": "IpdYwHJhYnn3",
        "colab_type": "text"
      },
      "cell_type": "markdown",
      "source": "> La naturaleza nos ha dado las semillas del conocimiento, no el conocimiento mismo..  — Séneca"
    },
    {
      "metadata": {
        "id": "NXZDkY3UYnn9",
        "colab_type": "text"
      },
      "cell_type": "markdown",
      "source": "<p>Incluso puedes concatenar varios `>>` para crear citas anidadas.</p>\n<p> \\> Esto sería una cita como la que acabas de ver.</p>\n<p> \\> \\> Dentro de ella puedes anidar otra cita.</p>\n<p> \\> La cita principal llegaría hasta aquí. </p>"
    },
    {
      "metadata": {
        "id": "7BHuko1gYnoB",
        "colab_type": "text"
      },
      "cell_type": "markdown",
      "source": "> Esto sería una cita como la que acabas de ver.\n> \n> > Dentro de ella puedes anidar otra cita.\n> \n> La cita principal llegaría hasta aquí. "
    },
    {
      "metadata": {
        "id": "tHawGwPFYnoE",
        "colab_type": "text"
      },
      "cell_type": "markdown",
      "source": "<hr>\n<h2 style=\"color:#30B2FA\">Listas</h2>\n<p>A diferencia de lo que ocurre en HTML, generar listas en Markdown es tremendamente sencillo. Podemos encontrarnos con 2 tipos.</p>\n*<h3>Listas desordenadas</h3>*\n\n<p>Para crear listas desordenadas utiliza * asteriscos, - guiones, o + símbolo de suma.</p>\n>No importa qué elemento incluyas, incluso puedes intercambiarlos. Todos se verán igual al procesarse."
    },
    {
      "metadata": {
        "id": "RF8chGNmYnoK",
        "colab_type": "raw"
      },
      "cell_type": "markdown",
      "source": "- Elemento de lista 1\n- Elemento de lista 2\n* Elemento de lista 3\n* Elemento de lista 4\n+ Elemento de lista 5\n+ Elemento de lista 6\n"
    },
    {
      "metadata": {
        "id": "UB-Q5hQdYnoR",
        "colab_type": "text"
      },
      "cell_type": "markdown",
      "source": "- Elemento de lista 1\n- Elemento de lista 2\n* Elemento de lista 3\n* Elemento de lista 4\n+ Elemento de lista 5\n+ Elemento de lista 6\n"
    },
    {
      "metadata": {
        "id": "PTI-3FtpYnos",
        "colab_type": "text"
      },
      "cell_type": "markdown",
      "source": "<p>Para listas anidadas dentro de otras, simplemente tendremos que añadir **cuatro espacios en blanco antes del siguiente *, - o +.</p>"
    },
    {
      "metadata": {
        "id": "_BQI4MIOYnox",
        "colab_type": "raw"
      },
      "cell_type": "markdown",
      "source": " - Elemento de lista 2\n    - Elemento de lista 3\n    - Elemento de lista 4\n        - Elemento de lista 5\n        - Elemento de lista 6"
    },
    {
      "metadata": {
        "id": "4VRW1AsJYno1",
        "colab_type": "text"
      },
      "cell_type": "markdown",
      "source": "- Elemento de lista 2\n    - Elemento de lista 3\n    - Elemento de lista 4\n        - Elemento de lista 5\n        - Elemento de lista 6"
    },
    {
      "metadata": {
        "id": "708OdiyEYno4",
        "colab_type": "text"
      },
      "cell_type": "markdown",
      "source": "*<h3>Listas ordenadas</h3>*\n<p>Para crear listas ordenadas debes utilizar la sintaxis de tipo: “número.” 1.. Al igual que ocurre con las listas desordenadas, también podrás anidarlas o combinarlas.</p>"
    },
    {
      "metadata": {
        "id": "WALHufL-Yno9",
        "colab_type": "raw"
      },
      "cell_type": "markdown",
      "source": "1. Elemento de lista 1\n2.  Elemento de lista 2\n    - Elemento de lista 3\n    - Elemento de lista 4\n        1. Elemento de lista 5\n        2. Elemento de lista 6"
    },
    {
      "metadata": {
        "id": "MEOl4eL8YnpC",
        "colab_type": "text"
      },
      "cell_type": "markdown",
      "source": "1. Elemento de lista 1\n2.  Elemento de lista 2\n    - Elemento de lista 3\n    - Elemento de lista 4\n        1. Elemento de lista 5\n        2. Elemento de lista 6"
    },
    {
      "metadata": {
        "id": "v78b2qQ6YnpF",
        "colab_type": "text"
      },
      "cell_type": "markdown",
      "source": "<hr>\n<h2 style=\"color:#30B2FA\">Códigos de bloque</h2>\n<p>Si queremos crear un bloque entero que contenga código. Lo único que tenemos que hacer es encerrar dicho párrafo entre dos líneas formadas por tres ~ virgulillas.</p>"
    },
    {
      "metadata": {
        "id": "yfGLkSghYnpJ",
        "colab_type": "text"
      },
      "cell_type": "markdown",
      "source": "<p>\\~\\~\\~</p>\n<p>Creando códigos de bloque.</p>\n<p>Puedes añadir tantas líneas y párrafos como quieras.  </p>\n<p>\\~\\~\\~</p>"
    },
    {
      "metadata": {
        "id": "We3R2UDfYnpP",
        "colab_type": "text"
      },
      "cell_type": "markdown",
      "source": "~~~\nCreando códigos de bloque.\nPuedes añadir tantas líneas y párrafos como quieras.  \n~~~"
    },
    {
      "metadata": {
        "id": "rMM7nNKgYnpU",
        "colab_type": "text"
      },
      "cell_type": "markdown",
      "source": "<hr>\n<h2 style=\"color:#30B2FA\">Reglas horizontales</h2>\n"
    },
    {
      "metadata": {
        "id": "G26g60spYnpZ",
        "colab_type": "text"
      },
      "cell_type": "markdown",
      "source": "<p>Las reglas horizontales se utilizan para separar secciones de una manera visual.</p>"
    },
    {
      "metadata": {
        "id": "-ZCzYT9vYnpd",
        "colab_type": "text"
      },
      "cell_type": "markdown",
      "source": "> <p>\\*\\*\\*</p>\n> <p>\\-\\-\\-</p>\n> <p>\\_\\_\\_</p>\n> <br>\n> <p> \\* &nbsp;\\* &nbsp;\\* </p>\n> <p> \\- &nbsp;\\- &nbsp;\\- </p>\n> <p> \\_ &nbsp;\\_ &nbsp;\\_ </p>"
    },
    {
      "metadata": {
        "id": "qU8pAt5HYnpg",
        "colab_type": "text"
      },
      "cell_type": "markdown",
      "source": "<hr>\n<h2 style=\"color:#30B2FA\">Elementos de línea</h2>\n*<h3>Énfasis (negritas y cursivas)</h3>*\n<p>Markdown utiliza asteriscos o guiones bajos para enfatizar.</p>"
    },
    {
      "metadata": {
        "id": "2vA-HjyQYnpj",
        "colab_type": "text"
      },
      "cell_type": "markdown",
      "source": "| MARKDOWN\t | RESULTADO |\n| -- | -- | -- |\n| \\*cursiva\\* | *cursiva* |\n| \\_cursiva\\_ | _cursiva_\t |\n| \\*\\*negrita\\*\\* | **negrita** |\n| \\_\\_negrita\\_\\_ | __negrita__ |\n"
    },
    {
      "metadata": {
        "id": "D6e1Kwb1Ynpn",
        "colab_type": "text"
      },
      "cell_type": "markdown",
      "source": "<p>Por supuesto si quieremos utilizar los 2 tipos de énfasis no tienes más que combinar la sintaxis, envolviendo la palabra entre tres asteriscos o tres guiones bajos.</p>"
    },
    {
      "metadata": {
        "id": "JimYCSh9Ynpr",
        "colab_type": "text"
      },
      "cell_type": "markdown",
      "source": "| MARKDOWN\t | RESULTADO |\n| -- | -- | -- |\n| \\*\\*\\*cursiva y negrita\\*\\*\\*\t| \\*\\*\\*cursiva y negrita\\*\\*\\*\t |\n| \\_\\_\\_cursiva y negrita\\_\\_\\_ | \\_\\_\\_cursiva y negrita\\_\\_\\_\t |"
    },
    {
      "metadata": {
        "id": "Y2ribtecYnpt",
        "colab_type": "text"
      },
      "cell_type": "markdown",
      "source": "<hr>\n<h2 style=\"color:#30B2FA\">Links o enlaces</h2>\n<p>Añadir enlaces a una publicación, más que común, hoy en día es algo casi obligatorio. Con Markdown tendremos varias formas de hacerlo.</p>\n*<h3>Links o enlaces en línea</h3>*\n<p>Se crean escribiendo la palabra o texto enlazada entre [] corchetes, y el link en cuestión entre () paréntesis.</p>"
    },
    {
      "metadata": {
        "id": "0f0BBjNuYnpx",
        "colab_type": "text"
      },
      "cell_type": "markdown",
      "source": "| MARKDOWN\t | RESULTADO |\n| -- | -- | -- |\n| \\[enlace en línea\\]\\(https://twl-pue.web.app/\\)\t | [enlace en línea](http://www.limni.net)\t |"
    },
    {
      "metadata": {
        "id": "RyVIKOz2Ynpz",
        "colab_type": "text"
      },
      "cell_type": "markdown",
      "source": "*<h3>Links o enlaces como referencia</h3>*\n<p>La desventaja del método anterior, es que si utilizamos links demasiado complejos o largos pueden dificultarnos la lectura de nuestro texto.</p>\n\n<p>Para solucionarlo y crear nuestro contenido de una manera más ordenada podemos generar enlaces de referencia.</p>\n\n<p>Esto quiere decir que en nuestro texto enlazaremos palabras o códigos concretos (formados por letras y/o números), que en otro lugar más apartado de tu documento tendrás definidos como determinadas URL.</p>"
    },
    {
      "metadata": {
        "id": "GHh8v32mYnp4",
        "colab_type": "text"
      },
      "cell_type": "markdown",
      "source": ">\\[nombre de tu enlace\\]\\[nombre de tu referencia\\]\n\n>\\[nombre de tu referencia\\]\\: https://twl-pue.web.app/"
    },
    {
      "metadata": {
        "id": "-FfMacVBYnp9",
        "colab_type": "text"
      },
      "cell_type": "markdown",
      "source": "<hr>\n<h2 style=\"color:#30B2FA\">Código\n</h2>\n<p>En según que tipo de publicaciones, necesitaremos añadir pequeñas secciones donde mostrar código de otro lenguaje, atajos de teclado, o demás contenido que no debería ser tratado como tal.</p>"
    },
    {
      "metadata": {
        "id": "AJHb-AXZYnqA",
        "colab_type": "text"
      },
      "cell_type": "markdown",
      "source": "[nombre de tu enlace][nombre de tu referencia]\n\n[nombre de tu referencia]: https://twl-pue.web.app/"
    },
    {
      "metadata": {
        "id": "6sJ41UA9YnqC",
        "colab_type": "text"
      },
      "cell_type": "markdown",
      "source": "*<h3>Código puro `<code>`</h3>*\n<p>La forma más sencilla de escribir código en Markdown es envolver el texto entre dos comillas sencillas ```. Esto se corresponde con la etiqueta HTML `<code>`</p>"
    },
    {
      "metadata": {
        "id": "hin4QBhtYnqG",
        "colab_type": "text"
      },
      "cell_type": "markdown",
      "source": "`Esto es una línea de código`\n"
    },
    {
      "metadata": {
        "id": "puXS1QS8YnqK",
        "colab_type": "text"
      },
      "cell_type": "markdown",
      "source": "*<h3>Texto preformateado `<pre>`</h3>*\n<p> La otra manera de añadir código en Markdown es comenzar el párrafo con cuatro espacios en blanco. Esto se corresponde con la etiqueta HTML `<pre>`</p>"
    },
    {
      "metadata": {
        "id": "ielprVVtYnqN",
        "colab_type": "text"
      },
      "cell_type": "markdown",
      "source": "Esto es una línea de código"
    },
    {
      "metadata": {
        "id": "oslNAdbjYnqR",
        "colab_type": "text"
      },
      "cell_type": "markdown",
      "source": "<hr>\n<h2 style=\"color:#30B2FA\">Imágenes</h2>\n<p>Insertar una imagen con Markdown se realiza de una manera prácticamente idéntica a insertar links.</p>\n> \\!\\[Texto alternativo\\]\\(/ruta/a/la/imagen.jpg\\)"
    },
    {
      "metadata": {
        "id": "xZIVBZCcYnqU",
        "colab_type": "text"
      },
      "cell_type": "markdown",
      "source": "![Texto alternativo](https://desdepuebla.com/wp-content/uploads/2020/05/downloadfile-24.jpg)\n"
    },
    {
      "metadata": {
        "id": "PY5GsXYkYnqX",
        "colab_type": "text"
      },
      "cell_type": "markdown",
      "source": "> \\!\\[Texto alternativo\\]\\(/ruta/a/la/imagen.jpg \"Título alternativo\"\\)\n"
    },
    {
      "metadata": {
        "id": "Yjfg0dgrYnqa",
        "colab_type": "text"
      },
      "cell_type": "markdown",
      "source": "![Texto alternativo](https://desdepuebla.com/wp-content/uploads/2020/05/downloadfile-24.jpg \"BUAP\")\n"
    },
    {
      "metadata": {
        "id": "vuUwA-xPYnqd",
        "colab_type": "text"
      },
      "cell_type": "markdown",
      "source": "<hr>\n<h2 style=\"color:#30B2FA\">Omitir Markdown</h2>\n<p>Si has llegado hasta aquí es probable que te estés preguntando cómo he conseguido escribir ciertos símbolos como * asteriscos o _ guiones bajos, sin que Markdown los interprete para convertirlos en negritas, cursivas…</p>\n<br>\n<p>Se trata de la barra invertida `\\` .</p>\n\nEscribiéndola justo delante de cualquiera de los elementos que verás a continuación, los mismos no tendrán efecto a la hora de convertirse en negritas, cursivas, links…</p>"
    },
    {
      "metadata": {
        "id": "lrnD_11jYnqe",
        "colab_type": "text"
      },
      "cell_type": "markdown",
      "source": "> <p> `\\ ` barra invertida</p>\n> <p> `` ` acento invertido</p>\n> <p> `* ` asterisco</p>\n> <p> `_ ` guión bajo</p>\n> <p> `{}` llaves</p>\n> <p> `[]` corchetes</p>\n> <p> `()` paréntesis</p>\n> <p> `# ` almohadilla</p>\n> <p> `+ ` símbolo de suma</p>\n> <p> `- ` guión</p>\n> <p> `. ` punto</p>\n> <p> `! ` exclamación<> /p>"
    },
    {
      "metadata": {
        "id": "7r5GL4dWYnqh",
        "colab_type": "text"
      },
      "cell_type": "markdown",
      "source": "### Referencias\n- https://markdown.es/sintaxis-markdown/\n- https://victorhckinthefreeworld.com/2019/09/23/tutorial-de-markdown-en-espanol/\n"
    },
    {
      "metadata": {
        "id": "bRutcQqPYnqj",
        "colab_type": "text"
      },
      "cell_type": "markdown",
      "source": "<hr>\n<h1 style=\"color:#30B2FA\">Una introducción informal a Python </h1>"
    },
    {
      "metadata": {
        "id": "tBSRsGa6Ynqn",
        "colab_type": "text"
      },
      "cell_type": "markdown",
      "source": "<p># este es el primer comentario</p>\n<p> SPAM = 1 # y este es el segundo comentario</p>\n<p>  # ... y ahora un tercero!</p>\n<p> STRING = \"# Este no es un comentario\".</p>"
    },
    {
      "metadata": {
        "id": "EQH5nMBmYnqq",
        "colab_type": "text"
      },
      "cell_type": "markdown",
      "source": "<hr>\n<h2 style=\"color:#30B2FA\">Números</h2>\n<p>El intérprete actúa como una simple calculadora; podés ingresar una expresión y este escribirá los valores. La sintaxis es\nsencilla: los operadores +, -, * y / funcionan como en la mayoría de los lenguajes (por ejemplo, Pascal o C); los paréntesis\n(()) pueden ser usados para agrupar. </p>"
    },
    {
      "metadata": {
        "trusted": true,
        "id": "ApJ7EZVhYnqs",
        "colab_type": "code",
        "colab": {
          "base_uri": "https://localhost:8080/",
          "height": 35
        },
        "outputId": "6811a3b2-7513-4ae1-8e85-bff2c23e6eeb"
      },
      "cell_type": "code",
      "source": "425+24",
      "execution_count": 162,
      "outputs": [
        {
          "output_type": "execute_result",
          "execution_count": 162,
          "data": {
            "text/plain": "449"
          },
          "metadata": {}
        }
      ]
    },
    {
      "metadata": {
        "trusted": true,
        "id": "YvzfC4QWYnq_",
        "colab_type": "code",
        "colab": {
          "base_uri": "https://localhost:8080/",
          "height": 35
        },
        "outputId": "5816026c-2708-4c34-c1fb-b937434a379b"
      },
      "cell_type": "code",
      "source": "# Este es un comentario\n432+32",
      "execution_count": 163,
      "outputs": [
        {
          "output_type": "execute_result",
          "execution_count": 163,
          "data": {
            "text/plain": "464"
          },
          "metadata": {}
        }
      ]
    },
    {
      "metadata": {
        "trusted": true,
        "id": "LoLVmViHYnrJ",
        "colab_type": "code",
        "colab": {
          "base_uri": "https://localhost:8080/",
          "height": 35
        },
        "outputId": "8fce6f6b-9624-4f07-eecc-44ee3feb4f8f"
      },
      "cell_type": "code",
      "source": "(50-5*6)/4",
      "execution_count": 164,
      "outputs": [
        {
          "output_type": "execute_result",
          "execution_count": 164,
          "data": {
            "text/plain": "5.0"
          },
          "metadata": {}
        }
      ]
    },
    {
      "metadata": {
        "trusted": true,
        "id": "9DWPKdRvYnrS",
        "colab_type": "code",
        "colab": {
          "base_uri": "https://localhost:8080/",
          "height": 35
        },
        "outputId": "3c19fba6-cad8-4e73-8c6c-eb746f40b048"
      },
      "cell_type": "code",
      "source": "9 / 3 # las fracciones no se pierden al dividir enteros",
      "execution_count": 165,
      "outputs": [
        {
          "output_type": "execute_result",
          "execution_count": 165,
          "data": {
            "text/plain": "3.0"
          },
          "metadata": {}
        }
      ]
    },
    {
      "metadata": {},
      "cell_type": "markdown",
      "source": "<p>Los números enteros (por ejemplo 4, 8, 40) son de tipo int, aquellos con una parte fraccional (por ejemplo 1.0, 4.2) son\nde tipo float.</p>"
    },
    {
      "metadata": {
        "trusted": true
      },
      "cell_type": "code",
      "source": "17/3 # la división común retorna un punto flotante",
      "execution_count": 166,
      "outputs": [
        {
          "output_type": "execute_result",
          "execution_count": 166,
          "data": {
            "text/plain": "5.666666666666667"
          },
          "metadata": {}
        }
      ]
    },
    {
      "metadata": {
        "trusted": true,
        "id": "DaQRK0RTYnrZ",
        "colab_type": "code",
        "colab": {
          "base_uri": "https://localhost:8080/",
          "height": 35
        },
        "outputId": "41108ac3-bf5e-43e7-e072-551fd2d415a9"
      },
      "cell_type": "code",
      "source": "17 // 3 # la división entera descarta la parte fraccional",
      "execution_count": 167,
      "outputs": [
        {
          "output_type": "execute_result",
          "execution_count": 167,
          "data": {
            "text/plain": "5"
          },
          "metadata": {}
        }
      ]
    },
    {
      "metadata": {
        "trusted": true,
        "id": "6VWDETfzYnrj",
        "colab_type": "code",
        "colab": {
          "base_uri": "https://localhost:8080/",
          "height": 35
        },
        "outputId": "65cb0589-02f2-4363-ade2-55a40939a14e"
      },
      "cell_type": "code",
      "source": "17 % 3 # el operado % retorna el resto de la división",
      "execution_count": 168,
      "outputs": [
        {
          "output_type": "execute_result",
          "execution_count": 168,
          "data": {
            "text/plain": "2"
          },
          "metadata": {}
        }
      ]
    },
    {
      "metadata": {
        "trusted": true
      },
      "cell_type": "code",
      "source": "5 * 3 + 2 # resultado * divisor + resto",
      "execution_count": 169,
      "outputs": [
        {
          "output_type": "execute_result",
          "execution_count": 169,
          "data": {
            "text/plain": "17"
          },
          "metadata": {}
        }
      ]
    },
    {
      "metadata": {},
      "cell_type": "markdown",
      "source": "<p>Es posible usar el operador ** para calcular potencias 2:</h2>"
    },
    {
      "metadata": {
        "trusted": true
      },
      "cell_type": "code",
      "source": "5 ** 2 # 5 al cuadrado",
      "execution_count": 170,
      "outputs": [
        {
          "output_type": "execute_result",
          "execution_count": 170,
          "data": {
            "text/plain": "25"
          },
          "metadata": {}
        }
      ]
    },
    {
      "metadata": {
        "trusted": true
      },
      "cell_type": "code",
      "source": "2 ** 7 # 2 a la potencia de 7",
      "execution_count": 171,
      "outputs": [
        {
          "output_type": "execute_result",
          "execution_count": 171,
          "data": {
            "text/plain": "128"
          },
          "metadata": {}
        }
      ]
    },
    {
      "metadata": {
        "id": "xsbsooOwYnrt",
        "colab_type": "text"
      },
      "cell_type": "markdown",
      "source": "<p>El signo igual (=) es usado para asignar un valor a una variable. Luego, ningún resultado es mostrado antes del próximo\nprompt:</p>"
    },
    {
      "metadata": {
        "trusted": true,
        "id": "5RZMhIjmYnrw",
        "colab_type": "code",
        "colab": {
          "base_uri": "https://localhost:8080/",
          "height": 35
        },
        "outputId": "720b564b-9779-4efe-d87d-00ddf3d062cb"
      },
      "cell_type": "code",
      "source": "ancho = 201\nlargo = 6*8\nancho * largo\n",
      "execution_count": 172,
      "outputs": [
        {
          "output_type": "execute_result",
          "execution_count": 172,
          "data": {
            "text/plain": "9648"
          },
          "metadata": {}
        }
      ]
    },
    {
      "metadata": {
        "id": "hyOFSpB4Ynr3",
        "colab_type": "text"
      },
      "cell_type": "markdown",
      "source": "<p>Un valor puede ser asignado a varias variables simultáneamente:</p>"
    },
    {
      "metadata": {
        "trusted": true,
        "id": "YK4Fy4plYnr4",
        "colab_type": "code",
        "colab": {}
      },
      "cell_type": "code",
      "source": " x = y = z = 0 # Cero a x, y, y z",
      "execution_count": 173,
      "outputs": []
    },
    {
      "metadata": {
        "trusted": true,
        "id": "0JvC7AC0YnsD",
        "colab_type": "code",
        "colab": {
          "base_uri": "https://localhost:8080/",
          "height": 35
        },
        "outputId": "7b427752-eab9-4da5-9fab-895f61000294"
      },
      "cell_type": "code",
      "source": "x",
      "execution_count": 174,
      "outputs": [
        {
          "output_type": "execute_result",
          "execution_count": 174,
          "data": {
            "text/plain": "0"
          },
          "metadata": {}
        }
      ]
    },
    {
      "metadata": {
        "trusted": true,
        "id": "qVCLN7EQYnsL",
        "colab_type": "code",
        "colab": {
          "base_uri": "https://localhost:8080/",
          "height": 35
        },
        "outputId": "6a020544-a202-4d97-b779-03ad3bb5b63a"
      },
      "cell_type": "code",
      "source": "y",
      "execution_count": 175,
      "outputs": [
        {
          "output_type": "execute_result",
          "execution_count": 175,
          "data": {
            "text/plain": "0"
          },
          "metadata": {}
        }
      ]
    },
    {
      "metadata": {
        "trusted": true,
        "id": "aVgBI6wAYnsS",
        "colab_type": "code",
        "colab": {
          "base_uri": "https://localhost:8080/",
          "height": 35
        },
        "outputId": "4e05fa00-820b-4826-c876-48ecbd3d85fe"
      },
      "cell_type": "code",
      "source": "z",
      "execution_count": 176,
      "outputs": [
        {
          "output_type": "execute_result",
          "execution_count": 176,
          "data": {
            "text/plain": "0"
          },
          "metadata": {}
        }
      ]
    },
    {
      "metadata": {
        "id": "Fl4qoVMoYnsZ",
        "colab_type": "text"
      },
      "cell_type": "markdown",
      "source": "<p>Las variables deben estar \"definidas\" (con un valor dado) antes de que puedan usarse, o un error ocurrirá:\n</p>"
    },
    {
      "metadata": {
        "trusted": true,
        "id": "30RwA6yUYnsb",
        "colab_type": "code",
        "colab": {
          "base_uri": "https://localhost:8080/",
          "height": 35
        },
        "outputId": "e54b2613-0fe7-4f76-fe65-ad6e26c859b9"
      },
      "cell_type": "code",
      "source": " 4 * 4.85 / 2.5",
      "execution_count": 177,
      "outputs": [
        {
          "output_type": "execute_result",
          "execution_count": 177,
          "data": {
            "text/plain": "7.76"
          },
          "metadata": {}
        }
      ]
    },
    {
      "metadata": {
        "trusted": true,
        "id": "FakErHrpYnsh",
        "colab_type": "code",
        "colab": {
          "base_uri": "https://localhost:8080/",
          "height": 35
        },
        "outputId": "25de207a-c12b-4999-a519-44431b05e636"
      },
      "cell_type": "code",
      "source": "14.0 / 3\n",
      "execution_count": 178,
      "outputs": [
        {
          "output_type": "execute_result",
          "execution_count": 178,
          "data": {
            "text/plain": "4.666666666666667"
          },
          "metadata": {}
        }
      ]
    },
    {
      "metadata": {
        "id": "BrxaVIaqYntv",
        "colab_type": "text"
      },
      "cell_type": "markdown",
      "source": "<p>En el modo interactivo, la última expresión impresa es asignada a la variable _. </p>"
    },
    {
      "metadata": {
        "trusted": true,
        "id": "U7pXmqtWYntw",
        "colab_type": "code",
        "colab": {}
      },
      "cell_type": "code",
      "source": "impuesto = 16.4 / 110\nprecio = 110.30\nprecio * impuesto",
      "execution_count": 179,
      "outputs": [
        {
          "output_type": "execute_result",
          "execution_count": 179,
          "data": {
            "text/plain": "16.44472727272727"
          },
          "metadata": {}
        }
      ]
    },
    {
      "metadata": {
        "trusted": true,
        "id": "a7E3LUokYnt2",
        "colab_type": "code",
        "colab": {}
      },
      "cell_type": "code",
      "source": " precio + _\n",
      "execution_count": 180,
      "outputs": [
        {
          "output_type": "execute_result",
          "execution_count": 180,
          "data": {
            "text/plain": "126.74472727272726"
          },
          "metadata": {}
        }
      ]
    },
    {
      "metadata": {
        "trusted": true,
        "id": "Qxdg_CcDYnt6",
        "colab_type": "code",
        "colab": {}
      },
      "cell_type": "code",
      "source": "round(_, 2)",
      "execution_count": 181,
      "outputs": [
        {
          "output_type": "execute_result",
          "execution_count": 181,
          "data": {
            "text/plain": "126.74"
          },
          "metadata": {}
        }
      ]
    },
    {
      "metadata": {
        "id": "0fbLarxTYnsp",
        "colab_type": "text"
      },
      "cell_type": "markdown",
      "source": "<p>Los números complejos también están soportados; los números imaginarios son escritos con el sufijo de j o J.</p>"
    },
    {
      "metadata": {
        "trusted": true,
        "id": "OwIGZoPyYnss",
        "colab_type": "code",
        "colab": {
          "base_uri": "https://localhost:8080/",
          "height": 35
        },
        "outputId": "f8a9cee5-6916-4ebd-d30c-fe45c1f15ce2"
      },
      "cell_type": "code",
      "source": "1j * 1J",
      "execution_count": 182,
      "outputs": [
        {
          "output_type": "execute_result",
          "execution_count": 182,
          "data": {
            "text/plain": "(-1+0j)"
          },
          "metadata": {}
        }
      ]
    },
    {
      "metadata": {
        "trusted": true,
        "id": "_szOX9WbYnsy",
        "colab_type": "code",
        "colab": {
          "base_uri": "https://localhost:8080/",
          "height": 35
        },
        "outputId": "5ffeec40-1bfe-4656-e601-10181850757c"
      },
      "cell_type": "code",
      "source": "1j * complex(0, 1)",
      "execution_count": 183,
      "outputs": [
        {
          "output_type": "execute_result",
          "execution_count": 183,
          "data": {
            "text/plain": "(-1+0j)"
          },
          "metadata": {}
        }
      ]
    },
    {
      "metadata": {
        "trusted": true,
        "id": "6ptv06wTYns5",
        "colab_type": "code",
        "colab": {
          "base_uri": "https://localhost:8080/",
          "height": 35
        },
        "outputId": "ab5a920b-54db-49fc-b68d-0a5886c4d41a"
      },
      "cell_type": "code",
      "source": "3+1j*3\n",
      "execution_count": 184,
      "outputs": [
        {
          "output_type": "execute_result",
          "execution_count": 184,
          "data": {
            "text/plain": "(3+3j)"
          },
          "metadata": {}
        }
      ]
    },
    {
      "metadata": {
        "trusted": true,
        "id": "BcCD91n1Yns_",
        "colab_type": "code",
        "colab": {
          "base_uri": "https://localhost:8080/",
          "height": 35
        },
        "outputId": "a6e4cbc0-c559-4690-d7d4-a96048837520"
      },
      "cell_type": "code",
      "source": " (3+1j)*3",
      "execution_count": 185,
      "outputs": [
        {
          "output_type": "execute_result",
          "execution_count": 185,
          "data": {
            "text/plain": "(9+3j)"
          },
          "metadata": {}
        }
      ]
    },
    {
      "metadata": {
        "trusted": true,
        "id": "ieyM75E4YntF",
        "colab_type": "code",
        "colab": {
          "base_uri": "https://localhost:8080/",
          "height": 35
        },
        "outputId": "29f95503-0bbf-4600-b049-ce8f72a5233d"
      },
      "cell_type": "code",
      "source": "(1+2j)/(1+1j)",
      "execution_count": 186,
      "outputs": [
        {
          "output_type": "execute_result",
          "execution_count": 186,
          "data": {
            "text/plain": "(1.5+0.5j)"
          },
          "metadata": {}
        }
      ]
    },
    {
      "metadata": {
        "id": "OsvVBZfTYntK",
        "colab_type": "text"
      },
      "cell_type": "markdown",
      "source": "<p>Los números complejos son siempre representados como dos números de punto flotante, la parte real y la imaginaria. Para\nextraer estas partes desde un número complejo z, usá z.real y z.imag.</p>"
    },
    {
      "metadata": {
        "trusted": true,
        "id": "_1eZXsdDYntL",
        "colab_type": "code",
        "colab": {
          "base_uri": "https://localhost:8080/",
          "height": 35
        },
        "outputId": "e0702153-298f-4467-c4f0-5d5630c0ff5e"
      },
      "cell_type": "code",
      "source": "a=6.2+0.2j\na.real\n",
      "execution_count": 187,
      "outputs": [
        {
          "output_type": "execute_result",
          "execution_count": 187,
          "data": {
            "text/plain": "6.2"
          },
          "metadata": {}
        }
      ]
    },
    {
      "metadata": {
        "trusted": true,
        "id": "KjdDgKt7YntQ",
        "colab_type": "code",
        "colab": {
          "base_uri": "https://localhost:8080/",
          "height": 35
        },
        "outputId": "a8ec5606-6de8-4ae9-d9b9-3aa4db9979cd"
      },
      "cell_type": "code",
      "source": "a.imag",
      "execution_count": 188,
      "outputs": [
        {
          "output_type": "execute_result",
          "execution_count": 188,
          "data": {
            "text/plain": "0.2"
          },
          "metadata": {}
        }
      ]
    },
    {
      "metadata": {
        "id": "VzgL7CnVYntV",
        "colab_type": "text"
      },
      "cell_type": "markdown",
      "source": "<p>La función de conversión de los punto flotante y enteros (float() y int()) no funcionan para números complejos; no hay\nuna forma acertada de convertir un número complejo a un número real. Se debe ocupar abs(z) para obtener esta magnitud o z.real para obtener la parte real.</p>"
    },
    {
      "metadata": {
        "trusted": true,
        "id": "dqN8GT0sYntX",
        "colab_type": "code",
        "colab": {
          "base_uri": "https://localhost:8080/",
          "height": 191
        },
        "outputId": "96ff2e2f-cc7b-40ef-b8b0-33fd512b3831"
      },
      "cell_type": "code",
      "source": "a=3.0+4.0j\nfloat(a)",
      "execution_count": 189,
      "outputs": [
        {
          "output_type": "error",
          "ename": "TypeError",
          "evalue": "can't convert complex to float",
          "traceback": [
            "\u001b[0;31m---------------------------------------------------------------------------\u001b[0m",
            "\u001b[0;31mTypeError\u001b[0m                                 Traceback (most recent call last)",
            "\u001b[0;32m<ipython-input-189-0c60b2954c02>\u001b[0m in \u001b[0;36m<module>\u001b[0;34m\u001b[0m\n\u001b[1;32m      1\u001b[0m \u001b[0ma\u001b[0m\u001b[0;34m=\u001b[0m\u001b[0;36m3.0\u001b[0m\u001b[0;34m+\u001b[0m\u001b[0;36m4.0j\u001b[0m\u001b[0;34m\u001b[0m\u001b[0m\n\u001b[0;32m----> 2\u001b[0;31m \u001b[0mfloat\u001b[0m\u001b[0;34m(\u001b[0m\u001b[0ma\u001b[0m\u001b[0;34m)\u001b[0m\u001b[0;34m\u001b[0m\u001b[0m\n\u001b[0m",
            "\u001b[0;31mTypeError\u001b[0m: can't convert complex to float"
          ]
        }
      ]
    },
    {
      "metadata": {
        "trusted": true,
        "id": "cR1akSNwYntd",
        "colab_type": "code",
        "colab": {}
      },
      "cell_type": "code",
      "source": "a.real",
      "execution_count": 190,
      "outputs": [
        {
          "output_type": "execute_result",
          "execution_count": 190,
          "data": {
            "text/plain": "3.0"
          },
          "metadata": {}
        }
      ]
    },
    {
      "metadata": {
        "trusted": true,
        "id": "6sq7roxYYntk",
        "colab_type": "code",
        "colab": {}
      },
      "cell_type": "code",
      "source": "a.imag",
      "execution_count": 191,
      "outputs": [
        {
          "output_type": "execute_result",
          "execution_count": 191,
          "data": {
            "text/plain": "4.0"
          },
          "metadata": {}
        }
      ]
    },
    {
      "metadata": {
        "trusted": true,
        "id": "3pDLNivbYntr",
        "colab_type": "code",
        "colab": {}
      },
      "cell_type": "code",
      "source": "abs(a) # sqrt(a.real**2 + a.imag**2)",
      "execution_count": 192,
      "outputs": [
        {
          "output_type": "execute_result",
          "execution_count": 192,
          "data": {
            "text/plain": "5.0"
          },
          "metadata": {}
        }
      ]
    },
    {
      "metadata": {
        "id": "xr1mjyuXYnt_",
        "colab_type": "text"
      },
      "cell_type": "markdown",
      "source": "<hr>\n<h2 style=\"color:#30B2FA\">Cadenas de caracteres</h2>\n<p>Puede manipular cadenas de texto, las cuales pueden ser expresadas de distintas formas.\nPueden estar encerradas en comillas simples o dobles:</p>"
    },
    {
      "metadata": {
        "trusted": true,
        "id": "4tQKjIbCYnuA",
        "colab_type": "code",
        "colab": {}
      },
      "cell_type": "code",
      "source": "'cálculo y programación'\n",
      "execution_count": 193,
      "outputs": [
        {
          "output_type": "execute_result",
          "execution_count": 193,
          "data": {
            "text/plain": "'cálculo y programación'"
          },
          "metadata": {}
        }
      ]
    },
    {
      "metadata": {
        "trusted": true,
        "id": "-KMzJac7YnuG",
        "colab_type": "code",
        "colab": {}
      },
      "cell_type": "code",
      "source": "'doesn\\'t'",
      "execution_count": 194,
      "outputs": [
        {
          "output_type": "execute_result",
          "execution_count": 194,
          "data": {
            "text/plain": "\"doesn't\""
          },
          "metadata": {}
        }
      ]
    },
    {
      "metadata": {
        "trusted": true,
        "id": "Tv-fIYutYnuL",
        "colab_type": "code",
        "colab": {}
      },
      "cell_type": "code",
      "source": "'\"Si,\" se fue.'",
      "execution_count": 195,
      "outputs": [
        {
          "output_type": "execute_result",
          "execution_count": 195,
          "data": {
            "text/plain": "'\"Si,\" se fue.'"
          },
          "metadata": {}
        }
      ]
    },
    {
      "metadata": {
        "trusted": true,
        "id": "9Onoh-seYnuQ",
        "colab_type": "code",
        "colab": {}
      },
      "cell_type": "code",
      "source": "\"\\\"Si,\\\" se fue.\"\n",
      "execution_count": 196,
      "outputs": [
        {
          "output_type": "execute_result",
          "execution_count": 196,
          "data": {
            "text/plain": "'\"Si,\" se fue.'"
          },
          "metadata": {}
        }
      ]
    },
    {
      "metadata": {
        "trusted": true,
        "id": "8uQw3tfJYnuV",
        "colab_type": "code",
        "colab": {}
      },
      "cell_type": "code",
      "source": "saludo = \"Consentir que nos condecoren es reconocer al Estado\\n\\\no al principe el derecho de juzgarnos, ilustrarnos, etc.\\n\\\n   Charles Baudelaire (1821-1867) Escritor, poeta y crítico francés.\\\n   2020.\"",
      "execution_count": 197,
      "outputs": []
    },
    {
      "metadata": {
        "trusted": true,
        "id": "xI5xgN90Ynua",
        "colab_type": "code",
        "colab": {}
      },
      "cell_type": "code",
      "source": "print(saludo)",
      "execution_count": 198,
      "outputs": [
        {
          "output_type": "stream",
          "text": "Consentir que nos condecoren es reconocer al Estado\no al principe el derecho de juzgarnos, ilustrarnos, etc.\n   Charles Baudelaire (1821-1867) Escritor, poeta y crítico francés.   2020.\n",
          "name": "stdout"
        }
      ]
    },
    {
      "metadata": {
        "id": "KU7xY7dfYnug",
        "colab_type": "text"
      },
      "cell_type": "markdown",
      "source": "<p>O, las cadenas de texto pueden ser rodeadas en un par de comillas triples: \"\"\" o '''. No se necesita escapar los finales\nde línea cuando se utilizan comillas triples, pero serán incluidos en la cadena. </p>"
    },
    {
      "metadata": {
        "trusted": true,
        "id": "7AfgrfdvYnuh",
        "colab_type": "code",
        "colab": {}
      },
      "cell_type": "code",
      "source": "print(\"\"\"\\\nUso: algo [OPCIONES]\n -h Muestra el valor de uso\n -H valorost Nombre del host al cual conectarse\n\"\"\")",
      "execution_count": 199,
      "outputs": [
        {
          "output_type": "stream",
          "text": "Uso: algo [OPCIONES]\n -h Muestra el valor de uso\n -H valorost Nombre del host al cual conectarse\n\n",
          "name": "stdout"
        }
      ]
    },
    {
      "metadata": {
        "id": "1zWl6HfCYnul",
        "colab_type": "text"
      },
      "cell_type": "markdown",
      "source": "<p>Si se hace de la cadena de texto una cadena \"cruda\", la secuencia `\\n` no es convertida a salto de línea, pero la barra\ninvertida al final de la línea y el carácter de nueva línea en la fuente, ambos son incluidos en la cadena como datos. </p>"
    },
    {
      "metadata": {
        "trusted": true,
        "id": "-HGg9lnuYnum",
        "colab_type": "code",
        "colab": {}
      },
      "cell_type": "code",
      "source": "hola = r\"Cuando hayas de sentenciar procura olvidar a los litigantes\\n\\\ny acordarte sólo de la causa.\"\nprint(hola)",
      "execution_count": 200,
      "outputs": [
        {
          "output_type": "stream",
          "text": "Cuando hayas de sentenciar procura olvidar a los litigantes\\n\\\ny acordarte sólo de la causa.\n",
          "name": "stdout"
        }
      ]
    },
    {
      "metadata": {
        "id": "4g9DxdxaYnur",
        "colab_type": "text"
      },
      "cell_type": "markdown",
      "source": "<p>Las cadenas de texto pueden ser concatenadas con el operador + y repetidas con *:\n</p>"
    },
    {
      "metadata": {
        "trusted": true,
        "id": "u2H1jl6lYnus",
        "colab_type": "code",
        "colab": {}
      },
      "cell_type": "code",
      "source": " palabra = 'SAMSUN' + 'G'",
      "execution_count": 201,
      "outputs": []
    },
    {
      "metadata": {
        "trusted": true,
        "id": "GXKU1odTYnuy",
        "colab_type": "code",
        "colab": {}
      },
      "cell_type": "code",
      "source": "palabra",
      "execution_count": 202,
      "outputs": [
        {
          "output_type": "execute_result",
          "execution_count": 202,
          "data": {
            "text/plain": "'SAMSUNG'"
          },
          "metadata": {}
        }
      ]
    },
    {
      "metadata": {
        "trusted": true,
        "id": "tl_knuEdYnu1",
        "colab_type": "code",
        "colab": {}
      },
      "cell_type": "code",
      "source": "'<' + palabra*7 + '>'",
      "execution_count": 203,
      "outputs": [
        {
          "output_type": "execute_result",
          "execution_count": 203,
          "data": {
            "text/plain": "'<SAMSUNGSAMSUNGSAMSUNGSAMSUNGSAMSUNGSAMSUNGSAMSUNG>'"
          },
          "metadata": {}
        }
      ]
    },
    {
      "metadata": {
        "trusted": true,
        "id": "L0GWCL7bYnu7",
        "colab_type": "code",
        "colab": {}
      },
      "cell_type": "code",
      "source": "'par' 'rafo' # <- Esto es correcto",
      "execution_count": 204,
      "outputs": [
        {
          "output_type": "execute_result",
          "execution_count": 204,
          "data": {
            "text/plain": "'parrafo'"
          },
          "metadata": {}
        }
      ]
    },
    {
      "metadata": {
        "trusted": true,
        "id": "ofn6TXbOYnvC",
        "colab_type": "code",
        "colab": {}
      },
      "cell_type": "code",
      "source": "'par'.strip() + 'rafo' # <- Esto es correcto",
      "execution_count": 205,
      "outputs": [
        {
          "output_type": "execute_result",
          "execution_count": 205,
          "data": {
            "text/plain": "'parrafo'"
          },
          "metadata": {}
        }
      ]
    },
    {
      "metadata": {
        "trusted": true,
        "id": "LN7XrqL4YnvX",
        "colab_type": "code",
        "colab": {}
      },
      "cell_type": "markdown",
      "source": "<p>Las cadenas de texto se pueden indexar; como en C++, el primer carácter de la cadena tiene el índice 0. No hay un tipo de\ndato para los caracteres; un carácter es simplemente una cadena de longitud uno.</p>"
    },
    {
      "metadata": {
        "trusted": true,
        "id": "4CKDQbj_Ynvc",
        "colab_type": "code",
        "colab": {}
      },
      "cell_type": "code",
      "source": " palabra[4]",
      "execution_count": 206,
      "outputs": [
        {
          "output_type": "execute_result",
          "execution_count": 206,
          "data": {
            "text/plain": "'U'"
          },
          "metadata": {}
        }
      ]
    },
    {
      "metadata": {
        "trusted": true,
        "id": "DUNWYs5YYnvf",
        "colab_type": "code",
        "colab": {}
      },
      "cell_type": "code",
      "source": "palabra[0:2]",
      "execution_count": 207,
      "outputs": [
        {
          "output_type": "execute_result",
          "execution_count": 207,
          "data": {
            "text/plain": "'SA'"
          },
          "metadata": {}
        }
      ]
    },
    {
      "metadata": {
        "trusted": true,
        "id": "672R8zECYnvk",
        "colab_type": "code",
        "colab": {}
      },
      "cell_type": "code",
      "source": " palabra[2:4]",
      "execution_count": 208,
      "outputs": [
        {
          "output_type": "execute_result",
          "execution_count": 208,
          "data": {
            "text/plain": "'MS'"
          },
          "metadata": {}
        }
      ]
    },
    {
      "metadata": {
        "trusted": true,
        "id": "QQSb_4sYYnvs",
        "colab_type": "code",
        "colab": {}
      },
      "cell_type": "code",
      "source": "palabra[:2] # Los primeros dos caracteres",
      "execution_count": 209,
      "outputs": [
        {
          "output_type": "execute_result",
          "execution_count": 209,
          "data": {
            "text/plain": "'SA'"
          },
          "metadata": {}
        }
      ]
    },
    {
      "metadata": {
        "trusted": true,
        "id": "9mZqVOVNYnvw",
        "colab_type": "code",
        "colab": {}
      },
      "cell_type": "code",
      "source": " palabra[2:] # Todo menos los primeros dos caracteres",
      "execution_count": 210,
      "outputs": [
        {
          "output_type": "execute_result",
          "execution_count": 210,
          "data": {
            "text/plain": "'MSUNG'"
          },
          "metadata": {}
        }
      ]
    },
    {
      "metadata": {
        "trusted": false,
        "id": "alYTyp8SYnvz",
        "colab_type": "code",
        "colab": {}
      },
      "cell_type": "markdown",
      "source": "<p>Pero observa que -0 es en realidad lo mismo que 0, ¡por lo que no cuenta desde la derecha!</p>"
    },
    {
      "metadata": {
        "trusted": true,
        "id": "ncksytZkYnv4",
        "colab_type": "code",
        "colab": {}
      },
      "cell_type": "code",
      "source": " palabra[-0] # (ya que -0 es igual a 0)",
      "execution_count": 211,
      "outputs": [
        {
          "output_type": "execute_result",
          "execution_count": 211,
          "data": {
            "text/plain": "'S'"
          },
          "metadata": {}
        }
      ]
    },
    {
      "metadata": {
        "trusted": false,
        "id": "ofsfnrzmYnv-",
        "colab_type": "code",
        "colab": {}
      },
      "cell_type": "markdown",
      "source": "<p>Los índices negativos fuera de rango son truncados, pero esto no funciona para índices de un solo elemento (no rebanada):\n</p>"
    },
    {
      "metadata": {
        "trusted": true,
        "id": "s95mvvHIYnwD",
        "colab_type": "code",
        "colab": {}
      },
      "cell_type": "code",
      "source": " palabra[-100:]",
      "execution_count": 212,
      "outputs": [
        {
          "output_type": "execute_result",
          "execution_count": 212,
          "data": {
            "text/plain": "'SAMSUNG'"
          },
          "metadata": {}
        }
      ]
    },
    {
      "metadata": {
        "id": "TlvnS032YnwC",
        "colab_type": "text"
      },
      "cell_type": "markdown",
      "source": "<p>Las cadenas de texto literales pueden contener múltiples líneas. Una forma es usar triple comillas: \"\"\"...\"\"\" o\n'''...'''. </p>"
    },
    {
      "metadata": {
        "id": "tvbjtiI2YnwG",
        "colab_type": "text"
      },
      "cell_type": "markdown",
      "source": "<p>La función incorporada len() devuelve la longitud de una cadena de texto:</p>"
    },
    {
      "metadata": {
        "trusted": true
      },
      "cell_type": "code",
      "source": "s = 'holacomoestas'\nlen(s)",
      "execution_count": 213,
      "outputs": [
        {
          "output_type": "execute_result",
          "execution_count": 213,
          "data": {
            "text/plain": "13"
          },
          "metadata": {}
        }
      ]
    },
    {
      "metadata": {
        "id": "RXyUssZuYnwK",
        "colab_type": "text"
      },
      "cell_type": "markdown",
      "source": "<p>Dos o más cadenas literales (aquellas encerradas entre comillas) una al lado de la otra son automáticamente concatenadas:</p>"
    },
    {
      "metadata": {
        "trusted": true,
        "id": "MwxJ1p6VYnwM",
        "colab_type": "code",
        "colab": {}
      },
      "cell_type": "code",
      "source": "'Py' 'thon'",
      "execution_count": 214,
      "outputs": [
        {
          "output_type": "execute_result",
          "execution_count": 214,
          "data": {
            "text/plain": "'Python'"
          },
          "metadata": {}
        }
      ]
    },
    {
      "metadata": {
        "id": "wm6K9bbcYnwP",
        "colab_type": "text"
      },
      "cell_type": "markdown",
      "source": "<p>Para concatenar variables o una variable usa \"+\"</p>"
    },
    {
      "metadata": {
        "trusted": true,
        "id": "Zm4faSfLYnwR",
        "colab_type": "code",
        "colab": {}
      },
      "cell_type": "code",
      "source": "prefix = 'Py'",
      "execution_count": 215,
      "outputs": []
    },
    {
      "metadata": {
        "trusted": true,
        "id": "UfdjcbhbYnwU",
        "colab_type": "code",
        "colab": {}
      },
      "cell_type": "code",
      "source": "prefix + 'thon'",
      "execution_count": 216,
      "outputs": [
        {
          "output_type": "execute_result",
          "execution_count": 216,
          "data": {
            "text/plain": "'Python'"
          },
          "metadata": {}
        }
      ]
    },
    {
      "metadata": {
        "id": "s-HiY8gjYnwe",
        "colab_type": "text"
      },
      "cell_type": "markdown",
      "source": "<p>Las cadenas de texto se pueden indexar (subíndices), el primer carácter de la cadena tiene el índice 0. No hay un tipo de\ndato para los caracteres; un carácter es simplemente una cadena de longitud uno:</p>"
    },
    {
      "metadata": {
        "trusted": true,
        "id": "vGvlLBS7Ynwe",
        "colab_type": "code",
        "colab": {}
      },
      "cell_type": "code",
      "source": "palabra = 'Python'",
      "execution_count": 217,
      "outputs": []
    },
    {
      "metadata": {
        "trusted": true,
        "id": "pRhKkFaqYnwi",
        "colab_type": "code",
        "colab": {}
      },
      "cell_type": "code",
      "source": "palabra[0] # caracter en la posición 0",
      "execution_count": 218,
      "outputs": [
        {
          "output_type": "execute_result",
          "execution_count": 218,
          "data": {
            "text/plain": "'P'"
          },
          "metadata": {}
        }
      ]
    },
    {
      "metadata": {
        "trusted": true,
        "id": "l5hEi3eVYnwl",
        "colab_type": "code",
        "colab": {}
      },
      "cell_type": "code",
      "source": "palabra[4] # caracter en la posición 4",
      "execution_count": 219,
      "outputs": [
        {
          "output_type": "execute_result",
          "execution_count": 219,
          "data": {
            "text/plain": "'o'"
          },
          "metadata": {}
        }
      ]
    },
    {
      "metadata": {
        "id": "jMBU-eZjYnwn",
        "colab_type": "text"
      },
      "cell_type": "markdown",
      "source": "<p>Los índices quizás sean números negativos, para empezar a contar desde la derecha:\n</p>"
    },
    {
      "metadata": {
        "trusted": true,
        "id": "4uNkA3s3Ynwo",
        "colab_type": "code",
        "colab": {}
      },
      "cell_type": "code",
      "source": "palabra[-1] # último caracter",
      "execution_count": 220,
      "outputs": [
        {
          "output_type": "execute_result",
          "execution_count": 220,
          "data": {
            "text/plain": "'n'"
          },
          "metadata": {}
        }
      ]
    },
    {
      "metadata": {
        "trusted": true,
        "id": "mYzNzcoiYnwt",
        "colab_type": "code",
        "colab": {}
      },
      "cell_type": "code",
      "source": "palabra[-2] # ante último caracter",
      "execution_count": 221,
      "outputs": [
        {
          "output_type": "execute_result",
          "execution_count": 221,
          "data": {
            "text/plain": "'o'"
          },
          "metadata": {}
        }
      ]
    },
    {
      "metadata": {
        "id": "oewaxba6Ynww",
        "colab_type": "text"
      },
      "cell_type": "markdown",
      "source": "<p>Además de los índices, las rebanadas también están soportadas. Mientras que los índices son usados para obtener\ncaracteres individuales, las rebanadas te permiten obtener sub-cadenas:</p>"
    },
    {
      "metadata": {
        "trusted": true,
        "id": "g_aKxeRcYnwx",
        "colab_type": "code",
        "colab": {}
      },
      "cell_type": "code",
      "source": "palabra[0:2] # caracteres desde la posición 0 (incluída) hasta la 2 (excluída)",
      "execution_count": 222,
      "outputs": [
        {
          "output_type": "execute_result",
          "execution_count": 222,
          "data": {
            "text/plain": "'Py'"
          },
          "metadata": {}
        }
      ]
    },
    {
      "metadata": {
        "trusted": true,
        "id": "Dfvzg2IUYnw0",
        "colab_type": "code",
        "colab": {}
      },
      "cell_type": "code",
      "source": "palabra[2:5] # caracteres desde la posición 2 (incluída) hasta la 5 (excluída)",
      "execution_count": 223,
      "outputs": [
        {
          "output_type": "execute_result",
          "execution_count": 223,
          "data": {
            "text/plain": "'tho'"
          },
          "metadata": {}
        }
      ]
    },
    {
      "metadata": {
        "id": "yEgOuC8GYnw4",
        "colab_type": "text"
      },
      "cell_type": "markdown",
      "source": "<p>Nota como el primero es siempre incluído, y que el último es siempre excluído. Esto asegura que s[:i] + s[i:] siempre\nsea igual a s:\n</p>"
    },
    {
      "metadata": {
        "trusted": true,
        "id": "Kaw9x6fAYnw4",
        "colab_type": "code",
        "colab": {}
      },
      "cell_type": "code",
      "source": "palabra[:2] + palabra[2:]",
      "execution_count": 224,
      "outputs": [
        {
          "output_type": "execute_result",
          "execution_count": 224,
          "data": {
            "text/plain": "'Python'"
          },
          "metadata": {}
        }
      ]
    },
    {
      "metadata": {
        "trusted": true,
        "id": "rizP35BCYnw7",
        "colab_type": "code",
        "colab": {}
      },
      "cell_type": "code",
      "source": "palabra[:4] + palabra[4:]",
      "execution_count": 225,
      "outputs": [
        {
          "output_type": "execute_result",
          "execution_count": 225,
          "data": {
            "text/plain": "'Python'"
          },
          "metadata": {}
        }
      ]
    },
    {
      "metadata": {
        "id": "BcDeyPjHYnw-",
        "colab_type": "text"
      },
      "cell_type": "markdown",
      "source": "<p>Los índices de las rebanadas tienen valores por defecto útiles; el valor por defecto para el primer índice es cero, el valor por\ndefecto para el segundo índice es la longitud de la cadena a rebanar.</p>"
    },
    {
      "metadata": {
        "trusted": true,
        "id": "rTh4APh6Ynw-",
        "colab_type": "code",
        "colab": {}
      },
      "cell_type": "code",
      "source": "palabra[:2] # caracteres desde el principio hasta la posición 2 (excluída)",
      "execution_count": 226,
      "outputs": [
        {
          "output_type": "execute_result",
          "execution_count": 226,
          "data": {
            "text/plain": "'Py'"
          },
          "metadata": {}
        }
      ]
    },
    {
      "metadata": {
        "colab_type": "text",
        "id": "c7nzpEwlcp7N"
      },
      "cell_type": "markdown",
      "source": "<hr>\n<h2 style=\"color:#30B2FA\">Listas</h2>\n<p>Python tiene varios tipos de datos compuestos, usados para agrupar otros valores. El más versátil es la lista, la cual puede\nser escrita como una lista de valores separados por coma (ítems) entre corchetes. No es necesario que los ítems de una\nlista tengan todos el mismo tipo.\n</p>"
    },
    {
      "metadata": {
        "trusted": true,
        "id": "1yMk_2U3YnwH",
        "colab_type": "code",
        "colab": {}
      },
      "cell_type": "code",
      "source": "a = ['laptop', 'monitor', 145, 567463452]",
      "execution_count": 227,
      "outputs": []
    },
    {
      "metadata": {
        "id": "_uQ_w0krc14C",
        "colab_type": "code",
        "colab": {},
        "trusted": true
      },
      "cell_type": "code",
      "source": "a",
      "execution_count": 228,
      "outputs": [
        {
          "output_type": "execute_result",
          "execution_count": 228,
          "data": {
            "text/plain": "['laptop', 'monitor', 145, 567463452]"
          },
          "metadata": {}
        }
      ]
    },
    {
      "metadata": {
        "id": "kwUbCSd0c5f_",
        "colab_type": "code",
        "colab": {},
        "trusted": true
      },
      "cell_type": "code",
      "source": "a[0]",
      "execution_count": 229,
      "outputs": [
        {
          "output_type": "execute_result",
          "execution_count": 229,
          "data": {
            "text/plain": "'laptop'"
          },
          "metadata": {}
        }
      ]
    },
    {
      "metadata": {
        "id": "uMBI5xAUc7_H",
        "colab_type": "code",
        "colab": {},
        "trusted": true
      },
      "cell_type": "code",
      "source": "a[2]",
      "execution_count": 230,
      "outputs": [
        {
          "output_type": "execute_result",
          "execution_count": 230,
          "data": {
            "text/plain": "145"
          },
          "metadata": {}
        }
      ]
    },
    {
      "metadata": {
        "id": "YPfj6QqYc8XR",
        "colab_type": "code",
        "colab": {},
        "trusted": true
      },
      "cell_type": "code",
      "source": "a[-3]",
      "execution_count": 231,
      "outputs": [
        {
          "output_type": "execute_result",
          "execution_count": 231,
          "data": {
            "text/plain": "'monitor'"
          },
          "metadata": {}
        }
      ]
    },
    {
      "metadata": {
        "id": "zR6eWEaNc8TL",
        "colab_type": "code",
        "colab": {},
        "trusted": true
      },
      "cell_type": "code",
      "source": "a[1:-1]",
      "execution_count": 232,
      "outputs": [
        {
          "output_type": "execute_result",
          "execution_count": 232,
          "data": {
            "text/plain": "['monitor', 145]"
          },
          "metadata": {}
        }
      ]
    },
    {
      "metadata": {
        "id": "rv7ba2qGc8Qk",
        "colab_type": "code",
        "colab": {},
        "trusted": true
      },
      "cell_type": "code",
      "source": "a[:2] + ['carne', 2*2]",
      "execution_count": 233,
      "outputs": [
        {
          "output_type": "execute_result",
          "execution_count": 233,
          "data": {
            "text/plain": "['laptop', 'monitor', 'carne', 4]"
          },
          "metadata": {}
        }
      ]
    },
    {
      "metadata": {
        "id": "_XL7khwXdLrX",
        "colab_type": "code",
        "colab": {},
        "trusted": true
      },
      "cell_type": "code",
      "source": " 3*a[:3] + ['hola!']",
      "execution_count": 234,
      "outputs": [
        {
          "output_type": "execute_result",
          "execution_count": 234,
          "data": {
            "text/plain": "['laptop',\n 'monitor',\n 145,\n 'laptop',\n 'monitor',\n 145,\n 'laptop',\n 'monitor',\n 145,\n 'hola!']"
          },
          "metadata": {}
        }
      ]
    },
    {
      "metadata": {
        "id": "7SBvNFFWdMLV",
        "colab_type": "code",
        "colab": {},
        "trusted": false
      },
      "cell_type": "markdown",
      "source": "<p>Todas las operaciones de rebanado devuelven una nueva lista conteniendo los elementos pedidos. Esto significa que la\nsiguiente rebanada devuelve una copia superficial de la lista a:</p>\n</p>"
    },
    {
      "metadata": {
        "id": "NDV0hBS0dMk6",
        "colab_type": "code",
        "colab": {},
        "trusted": true
      },
      "cell_type": "code",
      "source": "a[:]",
      "execution_count": 235,
      "outputs": [
        {
          "output_type": "execute_result",
          "execution_count": 235,
          "data": {
            "text/plain": "['laptop', 'monitor', 145, 567463452]"
          },
          "metadata": {}
        }
      ]
    },
    {
      "metadata": {
        "id": "oITg9XKmdMqz",
        "colab_type": "code",
        "colab": {},
        "trusted": false
      },
      "cell_type": "markdown",
      "source": "<p>A diferencia de las cadenas de texto, que son inmutables, es posible cambiar un elemento individual de una lista:\n</p>"
    },
    {
      "metadata": {
        "id": "YkaPOFzvdMh3",
        "colab_type": "code",
        "colab": {},
        "trusted": true
      },
      "cell_type": "code",
      "source": "a",
      "execution_count": 236,
      "outputs": [
        {
          "output_type": "execute_result",
          "execution_count": 236,
          "data": {
            "text/plain": "['laptop', 'monitor', 145, 567463452]"
          },
          "metadata": {}
        }
      ]
    },
    {
      "metadata": {
        "id": "16ePC_fvdMep",
        "colab_type": "code",
        "colab": {},
        "trusted": true
      },
      "cell_type": "code",
      "source": "a[2] = a[2] + 56",
      "execution_count": 237,
      "outputs": []
    },
    {
      "metadata": {
        "id": "Bw57yLl3dMbe",
        "colab_type": "code",
        "colab": {},
        "trusted": true
      },
      "cell_type": "code",
      "source": "a",
      "execution_count": 238,
      "outputs": [
        {
          "output_type": "execute_result",
          "execution_count": 238,
          "data": {
            "text/plain": "['laptop', 'monitor', 201, 567463452]"
          },
          "metadata": {}
        }
      ]
    },
    {
      "metadata": {
        "id": "-21y3SzsdMZJ",
        "colab_type": "code",
        "colab": {},
        "trusted": true
      },
      "cell_type": "code",
      "source": "# Reemplazar algunos elementos:\na[0:2] = [1, 12]",
      "execution_count": 239,
      "outputs": []
    },
    {
      "metadata": {
        "id": "YHtfoo53dMWN",
        "colab_type": "code",
        "colab": {
          "base_uri": "https://localhost:8080/",
          "height": 35
        },
        "outputId": "4b55c26f-a151-42ef-874b-ea529f6d627d",
        "trusted": true
      },
      "cell_type": "code",
      "source": "a",
      "execution_count": 240,
      "outputs": [
        {
          "output_type": "execute_result",
          "execution_count": 240,
          "data": {
            "text/plain": "[1, 12, 201, 567463452]"
          },
          "metadata": {}
        }
      ]
    },
    {
      "metadata": {
        "id": "wEdw4PEXdMTx",
        "colab_type": "code",
        "colab": {},
        "trusted": true
      },
      "cell_type": "code",
      "source": "# Borrar algunos:\na[0:2] = []",
      "execution_count": 241,
      "outputs": []
    },
    {
      "metadata": {
        "id": "yKvIeN4QdMRO",
        "colab_type": "code",
        "colab": {},
        "trusted": true
      },
      "cell_type": "code",
      "source": "a",
      "execution_count": 242,
      "outputs": [
        {
          "output_type": "execute_result",
          "execution_count": 242,
          "data": {
            "text/plain": "[201, 567463452]"
          },
          "metadata": {}
        }
      ]
    },
    {
      "metadata": {
        "id": "IuWcDSz1dMI7",
        "colab_type": "code",
        "colab": {},
        "trusted": true
      },
      "cell_type": "code",
      "source": " # Insertar algunos:\na[1:1] = ['comida', 'ctyda']",
      "execution_count": 243,
      "outputs": []
    },
    {
      "metadata": {
        "id": "RXxMF2d7dMGZ",
        "colab_type": "code",
        "colab": {},
        "trusted": true
      },
      "cell_type": "code",
      "source": " # Insertar (una copia de) la misma lista al principio\na[:0] = a",
      "execution_count": 244,
      "outputs": []
    },
    {
      "metadata": {
        "id": "XMCrYpiFdMDh",
        "colab_type": "code",
        "colab": {},
        "trusted": true
      },
      "cell_type": "code",
      "source": "a ",
      "execution_count": 245,
      "outputs": [
        {
          "output_type": "execute_result",
          "execution_count": 245,
          "data": {
            "text/plain": "[201, 'comida', 'ctyda', 567463452, 201, 'comida', 'ctyda', 567463452]"
          },
          "metadata": {}
        }
      ]
    },
    {
      "metadata": {
        "id": "oLu3HXZSdL-I",
        "colab_type": "code",
        "colab": {},
        "trusted": false
      },
      "cell_type": "markdown",
      "source": "<p>La función predefinida len() también sirve para las listas:</p>"
    },
    {
      "metadata": {
        "id": "9GsSreXYdL7U",
        "colab_type": "code",
        "colab": {},
        "trusted": true
      },
      "cell_type": "code",
      "source": " a = ['a', 'b', 'c', 'd']",
      "execution_count": 246,
      "outputs": []
    },
    {
      "metadata": {
        "id": "fqAC6taIehVF",
        "colab_type": "code",
        "colab": {
          "base_uri": "https://localhost:8080/",
          "height": 35
        },
        "outputId": "75044922-d705-46de-e635-ad9623af6906",
        "trusted": true
      },
      "cell_type": "code",
      "source": "len(a)",
      "execution_count": 247,
      "outputs": [
        {
          "output_type": "execute_result",
          "execution_count": 247,
          "data": {
            "text/plain": "4"
          },
          "metadata": {}
        }
      ]
    },
    {
      "metadata": {
        "id": "T29199ORehxE",
        "colab_type": "code",
        "colab": {},
        "trusted": false
      },
      "cell_type": "markdown",
      "source": "<p>Es posible anidar listas, por ejemplo:\n</p>"
    },
    {
      "metadata": {
        "id": "mPkjs-hBehtP",
        "colab_type": "code",
        "colab": {},
        "trusted": true
      },
      "cell_type": "code",
      "source": "q = [2, 3]",
      "execution_count": 248,
      "outputs": []
    },
    {
      "metadata": {
        "id": "Rm97520ZehRd",
        "colab_type": "code",
        "colab": {},
        "trusted": true
      },
      "cell_type": "code",
      "source": "p = [1, q, 4]",
      "execution_count": 249,
      "outputs": []
    },
    {
      "metadata": {
        "id": "NCeuvU8gehPM",
        "colab_type": "code",
        "colab": {
          "base_uri": "https://localhost:8080/",
          "height": 35
        },
        "outputId": "f4abc3f3-f23c-4e2c-e301-63eea0a7bec9",
        "trusted": true
      },
      "cell_type": "code",
      "source": "len(p)",
      "execution_count": 250,
      "outputs": [
        {
          "output_type": "execute_result",
          "execution_count": 250,
          "data": {
            "text/plain": "3"
          },
          "metadata": {}
        }
      ]
    },
    {
      "metadata": {
        "id": "8XYWow3EehMS",
        "colab_type": "code",
        "colab": {
          "base_uri": "https://localhost:8080/",
          "height": 35
        },
        "outputId": "7fea66ed-b332-4538-c95a-71cbecb8e54d",
        "trusted": true
      },
      "cell_type": "code",
      "source": "p[1]",
      "execution_count": 251,
      "outputs": [
        {
          "output_type": "execute_result",
          "execution_count": 251,
          "data": {
            "text/plain": "[2, 3]"
          },
          "metadata": {}
        }
      ]
    },
    {
      "metadata": {
        "id": "zezqlMyoehJp",
        "colab_type": "code",
        "colab": {
          "base_uri": "https://localhost:8080/",
          "height": 35
        },
        "outputId": "0d10cd06-c461-4261-a6fe-518ec706c6dd",
        "trusted": true
      },
      "cell_type": "code",
      "source": "p[1][0]",
      "execution_count": 252,
      "outputs": [
        {
          "output_type": "execute_result",
          "execution_count": 252,
          "data": {
            "text/plain": "2"
          },
          "metadata": {}
        }
      ]
    },
    {
      "metadata": {
        "id": "qMvwDjKRehGt",
        "colab_type": "code",
        "colab": {},
        "trusted": false
      },
      "cell_type": "markdown",
      "source": "<p>Podemos agregar algo al final de la lista:\n</p>"
    },
    {
      "metadata": {
        "id": "rzW6Ia1jehFn",
        "colab_type": "code",
        "colab": {},
        "trusted": true
      },
      "cell_type": "code",
      "source": " p[1].append('extra')",
      "execution_count": 253,
      "outputs": []
    },
    {
      "metadata": {
        "id": "LOBLaMcWehEf",
        "colab_type": "code",
        "colab": {
          "base_uri": "https://localhost:8080/",
          "height": 35
        },
        "outputId": "e57da9c6-8ccb-46bb-9878-06894c82ad56",
        "trusted": true
      },
      "cell_type": "code",
      "source": "p",
      "execution_count": 254,
      "outputs": [
        {
          "output_type": "execute_result",
          "execution_count": 254,
          "data": {
            "text/plain": "[1, [2, 3, 'extra'], 4]"
          },
          "metadata": {}
        }
      ]
    },
    {
      "metadata": {
        "id": "6zz5YZizehDK",
        "colab_type": "code",
        "colab": {
          "base_uri": "https://localhost:8080/",
          "height": 35
        },
        "outputId": "d2e6baa7-a239-428f-be57-68eee34936cf",
        "trusted": true
      },
      "cell_type": "code",
      "source": "q",
      "execution_count": 255,
      "outputs": [
        {
          "output_type": "execute_result",
          "execution_count": 255,
          "data": {
            "text/plain": "[2, 3, 'extra']"
          },
          "metadata": {}
        }
      ]
    },
    {
      "metadata": {
        "id": "TRoNux1XehBr",
        "colab_type": "code",
        "colab": {},
        "trusted": false
      },
      "cell_type": "markdown",
      "source": "<hr>\n<h2 style=\"color:#30B2FA\">Primeros pasos hacia la programación </h2>\n<p>Podemos escribir unasubsecuencia inicial de la serie de Fibonacci así:</p>"
    },
    {
      "metadata": {
        "id": "7XH4dO6Deg_j",
        "colab_type": "code",
        "colab": {},
        "trusted": true
      },
      "cell_type": "code",
      "source": " # Series de Fibonacci:\n # la suma de dos elementos define el siguiente\n a, b = 0, 1",
      "execution_count": 256,
      "outputs": []
    },
    {
      "metadata": {
        "id": "kE_f-rAXeg8o",
        "colab_type": "code",
        "colab": {
          "base_uri": "https://localhost:8080/",
          "height": 128
        },
        "outputId": "445a6831-6320-469f-a3c9-bf57afd5d50d",
        "trusted": true
      },
      "cell_type": "code",
      "source": "while b < 10:\n  print(b)\n  a, b = b, a+b",
      "execution_count": 257,
      "outputs": [
        {
          "output_type": "stream",
          "text": "1\n1\n2\n3\n5\n8\n",
          "name": "stdout"
        }
      ]
    },
    {
      "metadata": {
        "id": "wWh78E0Peg6H",
        "colab_type": "code",
        "colab": {},
        "trusted": false
      },
      "cell_type": "markdown",
      "source": "<p>Este ejemplo introduce varias características nuevas.</p>\n* La primer línea contiene una asignación múltiple: las variables``a`` y b toman en forma simultanea los nuevos valores\n0 y 1. En la última linea esto es vuelto a usar, demostrando que las expresiones a la derecha son evaluadas antes de\nque suceda cualquier asignación.\n* El bucle while se ejecuta mientras la condición (aquí: b < 10) sea verdadera. La condición también puede ser una cadena de texto o una lista,\nde hecho cualquier secuencia. Los operadores estándar de comparación se\nescriben igual que en C: < (menor qué), > (mayor qué), == (igual a), <= (menor o igual qué), >= (mayor o igual\nqué) y != (distinto a).\n* El cuerpo del bucle está sangrado: la sangría es la forma que usa Python para agrupar declaraciones. \n* La función print() escribe el valor de el o los argumentos que se le pasan."
    },
    {
      "metadata": {
        "id": "J93pITBxeg4H",
        "colab_type": "code",
        "colab": {},
        "trusted": true
      },
      "cell_type": "code",
      "source": "i = 3231 * 53243",
      "execution_count": 258,
      "outputs": []
    },
    {
      "metadata": {
        "id": "IrG7nfbheg1g",
        "colab_type": "code",
        "colab": {
          "base_uri": "https://localhost:8080/",
          "height": 35
        },
        "outputId": "2db4a4d6-03db-4ef3-8f04-94ed174e60b1",
        "trusted": true
      },
      "cell_type": "code",
      "source": "print('El valor de i es', i)",
      "execution_count": 259,
      "outputs": [
        {
          "output_type": "stream",
          "text": "El valor de i es 172028133\n",
          "name": "stdout"
        }
      ]
    },
    {
      "metadata": {
        "id": "P5LcvX_Pegyp",
        "colab_type": "code",
        "colab": {},
        "trusted": false
      },
      "cell_type": "markdown",
      "source": "<p>El parámetro nombrado `end` puede usarse para evitar el salto de linea al final de la salida, o terminar la salida con una\ncadena diferente:</p>"
    },
    {
      "metadata": {
        "id": "f-2fuk3wegwD",
        "colab_type": "code",
        "colab": {},
        "trusted": true
      },
      "cell_type": "code",
      "source": " a, b = 0, 1",
      "execution_count": 260,
      "outputs": []
    },
    {
      "metadata": {
        "id": "npvaeCT2egsb",
        "colab_type": "code",
        "colab": {
          "base_uri": "https://localhost:8080/",
          "height": 35
        },
        "outputId": "ecadfb29-28dc-4b54-d030-8bc81554ed67",
        "trusted": true
      },
      "cell_type": "code",
      "source": "while b < 1000:\n print(b, end=',')\n a, b = b, a+b",
      "execution_count": 261,
      "outputs": [
        {
          "output_type": "stream",
          "text": "1,1,2,3,5,8,13,21,34,55,89,144,233,377,610,987,",
          "name": "stdout"
        }
      ]
    },
    {
      "metadata": {
        "id": "4fQUbqBvegmO",
        "colab_type": "code",
        "colab": {},
        "trusted": false
      },
      "cell_type": "markdown",
      "source": "<hr>\n<h2 style=\"color:#30B2FA\">Más herramientas para control de\nflujo</h2>\n<p>Además de la sentencia while que acabamos de introducir, Python soporta las sentencias de control de flujo que podemos\nencontrar en otros lenguajes, con algunos cambios.\n</p>\n<h4>La sentencia if</h4>\n<p>Tal vez el tipo más conocido de sentencia sea el if. Por ejemplo:</p>"
    },
    {
      "metadata": {
        "id": "TGcPYwM-f-H9",
        "colab_type": "code",
        "colab": {
          "base_uri": "https://localhost:8080/",
          "height": 35
        },
        "outputId": "f173e2d5-7609-4e86-dd30-3d05a95d26da",
        "trusted": true
      },
      "cell_type": "code",
      "source": " x = int(input(\"Ingresa un entero, por favor: \"))",
      "execution_count": 262,
      "outputs": [
        {
          "output_type": "stream",
          "name": "stdout",
          "text": "Ingresa un entero, por favor: 6\n"
        }
      ]
    },
    {
      "metadata": {
        "id": "cmAeCYEKf-Fi",
        "colab_type": "code",
        "colab": {
          "base_uri": "https://localhost:8080/",
          "height": 35
        },
        "outputId": "eb9b893a-bf40-49d7-b5fc-fa25f0617268",
        "trusted": true
      },
      "cell_type": "code",
      "source": "if x < 0:\n  x = 0\n  print('Negativo cambiado a cero')\nelif x == 0:\n   print('Cero')\nelif x == 1:\n  print('Simple')\nelse:\n  print('Más')",
      "execution_count": 263,
      "outputs": [
        {
          "output_type": "stream",
          "text": "Más\n",
          "name": "stdout"
        }
      ]
    },
    {
      "metadata": {
        "id": "R6ACtvUKf-AG",
        "colab_type": "code",
        "colab": {},
        "trusted": false
      },
      "cell_type": "markdown",
      "source": "<hr>\n<h2 style=\"color:#30B2FA\">La sentencia for</h2>\n<p>La sentencia for en Python difiere un poco de lo que uno puede estar acostumbrado en lenguajes como C o Pascal. En\nlugar de siempre iterar sobre una progresión aritmética de números (como en Pascal) o darle al usuario la posibilidad de\ndefinir tanto el paso de la iteración como la condición de fin (como en C), la sentencia for de Python itera sobre los ítems\nde cualquier secuencia (una lista o una cadena de texto), en el orden que aparecen en la secuencia. </p>"
    },
    {
      "metadata": {
        "id": "tpNTv_YWf98e",
        "colab_type": "code",
        "colab": {},
        "trusted": true
      },
      "cell_type": "code",
      "source": "# Midiendo cadenas de texto\npalabras = ['michi', 'monitor', 'graduado']\n",
      "execution_count": 264,
      "outputs": []
    },
    {
      "metadata": {
        "id": "aSKcwB85f95O",
        "colab_type": "code",
        "colab": {
          "base_uri": "https://localhost:8080/",
          "height": 72
        },
        "outputId": "44a472c9-165e-48b6-a61f-71f8d6ad808e",
        "trusted": true
      },
      "cell_type": "code",
      "source": "for p in palabras:\n   print(p, len(p))",
      "execution_count": 265,
      "outputs": [
        {
          "output_type": "stream",
          "text": "michi 5\nmonitor 7\ngraduado 8\n",
          "name": "stdout"
        }
      ]
    },
    {
      "metadata": {
        "id": "GXoD4-Dpf91p",
        "colab_type": "code",
        "colab": {},
        "trusted": false
      },
      "cell_type": "markdown",
      "source": "<p>Si necesitamos modificar la secuencia sobre la que estamos iterando mientras estás adentro del ciclo, se recomienda que hagas primero una copia. Iterar sobre una secuencia no hace implícitamente una copia.</p>"
    },
    {
      "metadata": {
        "id": "70Xz-0Cbf9xK",
        "colab_type": "code",
        "colab": {},
        "trusted": true
      },
      "cell_type": "code",
      "source": "for p in palabras[:]: # hace una copia por rebanada de toda la lista\n  if len(p) > 6:\n    palabras.insert(0, p)",
      "execution_count": 266,
      "outputs": []
    },
    {
      "metadata": {
        "id": "IvKA2ZhQf9td",
        "colab_type": "code",
        "colab": {
          "base_uri": "https://localhost:8080/",
          "height": 35
        },
        "outputId": "76628234-6aac-4062-d507-d245e00a9cb7",
        "trusted": true
      },
      "cell_type": "code",
      "source": "palabras",
      "execution_count": 267,
      "outputs": [
        {
          "output_type": "execute_result",
          "execution_count": 267,
          "data": {
            "text/plain": "['graduado', 'monitor', 'michi', 'monitor', 'graduado']"
          },
          "metadata": {}
        }
      ]
    },
    {
      "metadata": {
        "id": "NultOl2Zhbk5",
        "colab_type": "code",
        "colab": {},
        "trusted": false
      },
      "cell_type": "markdown",
      "source": "<hr>\n<h2 style=\"color:#30B2FA\">La función range()\n</h2>\n<p>Si se necesita iterar sobre una secuencia de números, es apropiado utilizar la función integrada range(), la cual genera\nprogresiones aritméticas:</p>"
    },
    {
      "metadata": {
        "id": "Ft9cPjlYhcN9",
        "colab_type": "code",
        "colab": {
          "base_uri": "https://localhost:8080/",
          "height": 109
        },
        "outputId": "9e311554-0de5-433a-fa57-18dba636816f",
        "trusted": true
      },
      "cell_type": "code",
      "source": "for i in range(5):\n print(i)\n",
      "execution_count": 268,
      "outputs": [
        {
          "output_type": "stream",
          "text": "0\n1\n2\n3\n4\n",
          "name": "stdout"
        }
      ]
    },
    {
      "metadata": {
        "id": "JgBNp4zihcxV",
        "colab_type": "code",
        "colab": {},
        "trusted": false
      },
      "cell_type": "markdown",
      "source": "<p>Para iterar sobre los índices de una secuencia, podés combinar range() y len() así:</p>"
    },
    {
      "metadata": {
        "id": "Yz5wNny8hcuW",
        "colab_type": "code",
        "colab": {
          "base_uri": "https://localhost:8080/",
          "height": 91
        },
        "outputId": "bad87582-80e5-441e-8aa0-ca59fbab679c",
        "trusted": true
      },
      "cell_type": "code",
      "source": "a = ['Lizbeth', 'tenia', 'un', 'chaleco']\nfor i in range(len(a)):\n print(i, a[i])",
      "execution_count": 269,
      "outputs": [
        {
          "output_type": "stream",
          "text": "0 Lizbeth\n1 tenia\n2 un\n3 chaleco\n",
          "name": "stdout"
        }
      ]
    },
    {
      "metadata": {
        "id": "CIK-HlJshcqn",
        "colab_type": "code",
        "colab": {},
        "trusted": false
      },
      "cell_type": "markdown",
      "source": "<p>En la mayoría de los casos, sin embargo, conviene usar la función enumerate().</p>"
    },
    {
      "metadata": {
        "id": "lPORl4AvhcnT",
        "colab_type": "code",
        "colab": {
          "base_uri": "https://localhost:8080/",
          "height": 35
        },
        "outputId": "106742b6-fba0-494e-e609-b59f30657f52",
        "trusted": true
      },
      "cell_type": "code",
      "source": "print(range(10))",
      "execution_count": 270,
      "outputs": [
        {
          "output_type": "stream",
          "text": "range(0, 10)\n",
          "name": "stdout"
        }
      ]
    },
    {
      "metadata": {
        "id": "g-NT3kQQhckE",
        "colab_type": "code",
        "colab": {},
        "trusted": false
      },
      "cell_type": "markdown",
      "source": "<p>Decimos que tal objeto es iterable; esto es, que se lo puede usar en funciones y construcciones que esperan algo de lo cual\nobtener ítems sucesivos hasta que se termine. Hemos visto que la declaración for es un iterador en ese sentido. La\nfunción list() es otra; crea listas a partir de iterables:</p>"
    },
    {
      "metadata": {
        "id": "rXtqLNrwhcg-",
        "colab_type": "code",
        "colab": {
          "base_uri": "https://localhost:8080/",
          "height": 35
        },
        "outputId": "0bc5f943-65e5-4e85-a090-b17dd462e474",
        "trusted": true
      },
      "cell_type": "code",
      "source": "list(range(5))",
      "execution_count": 271,
      "outputs": [
        {
          "output_type": "execute_result",
          "execution_count": 271,
          "data": {
            "text/plain": "[0, 1, 2, 3, 4]"
          },
          "metadata": {}
        }
      ]
    },
    {
      "metadata": {
        "id": "elUkq09ChceS",
        "colab_type": "code",
        "colab": {},
        "trusted": false
      },
      "cell_type": "markdown",
      "source": "<hr>\n<h2 style=\"color:#30B2FA\">Las sentencias break, continue, y else en lazos</p>"
    },
    {
      "metadata": {
        "id": "xHH5YkEnhcba",
        "colab_type": "code",
        "colab": {
          "base_uri": "https://localhost:8080/",
          "height": 165
        },
        "outputId": "94ef3c62-786d-4b87-a170-5c5c586a580b",
        "trusted": true
      },
      "cell_type": "code",
      "source": " for n in range(2, 1423):\n  for x in range(2, n):\n    if n % x == 0:\n      print(n, 'es igual a', x, '*', n/x)\n      break\n  else:\n    # sigue el bucle sin encontrar un factor\n    print(n, 'es un numero primo')\n",
      "execution_count": 272,
      "outputs": [
        {
          "output_type": "stream",
          "text": "2 es un numero primo\n3 es un numero primo\n4 es igual a 2 * 2.0\n5 es un numero primo\n6 es igual a 2 * 3.0\n7 es un numero primo\n8 es igual a 2 * 4.0\n9 es igual a 3 * 3.0\n10 es igual a 2 * 5.0\n11 es un numero primo\n12 es igual a 2 * 6.0\n13 es un numero primo\n14 es igual a 2 * 7.0\n15 es igual a 3 * 5.0\n16 es igual a 2 * 8.0\n17 es un numero primo\n18 es igual a 2 * 9.0\n19 es un numero primo\n20 es igual a 2 * 10.0\n21 es igual a 3 * 7.0\n22 es igual a 2 * 11.0\n23 es un numero primo\n24 es igual a 2 * 12.0\n25 es igual a 5 * 5.0\n26 es igual a 2 * 13.0\n27 es igual a 3 * 9.0\n28 es igual a 2 * 14.0\n29 es un numero primo\n30 es igual a 2 * 15.0\n31 es un numero primo\n32 es igual a 2 * 16.0\n33 es igual a 3 * 11.0\n34 es igual a 2 * 17.0\n35 es igual a 5 * 7.0\n36 es igual a 2 * 18.0\n37 es un numero primo\n38 es igual a 2 * 19.0\n39 es igual a 3 * 13.0\n40 es igual a 2 * 20.0\n41 es un numero primo\n42 es igual a 2 * 21.0\n43 es un numero primo\n44 es igual a 2 * 22.0\n45 es igual a 3 * 15.0\n46 es igual a 2 * 23.0\n47 es un numero primo\n48 es igual a 2 * 24.0\n49 es igual a 7 * 7.0\n50 es igual a 2 * 25.0\n51 es igual a 3 * 17.0\n52 es igual a 2 * 26.0\n53 es un numero primo\n54 es igual a 2 * 27.0\n55 es igual a 5 * 11.0\n56 es igual a 2 * 28.0\n57 es igual a 3 * 19.0\n58 es igual a 2 * 29.0\n59 es un numero primo\n60 es igual a 2 * 30.0\n61 es un numero primo\n62 es igual a 2 * 31.0\n63 es igual a 3 * 21.0\n64 es igual a 2 * 32.0\n65 es igual a 5 * 13.0\n66 es igual a 2 * 33.0\n67 es un numero primo\n68 es igual a 2 * 34.0\n69 es igual a 3 * 23.0\n70 es igual a 2 * 35.0\n71 es un numero primo\n72 es igual a 2 * 36.0\n73 es un numero primo\n74 es igual a 2 * 37.0\n75 es igual a 3 * 25.0\n76 es igual a 2 * 38.0\n77 es igual a 7 * 11.0\n78 es igual a 2 * 39.0\n79 es un numero primo\n80 es igual a 2 * 40.0\n81 es igual a 3 * 27.0\n82 es igual a 2 * 41.0\n83 es un numero primo\n84 es igual a 2 * 42.0\n85 es igual a 5 * 17.0\n86 es igual a 2 * 43.0\n87 es igual a 3 * 29.0\n88 es igual a 2 * 44.0\n89 es un numero primo\n90 es igual a 2 * 45.0\n91 es igual a 7 * 13.0\n92 es igual a 2 * 46.0\n93 es igual a 3 * 31.0\n94 es igual a 2 * 47.0\n95 es igual a 5 * 19.0\n96 es igual a 2 * 48.0\n97 es un numero primo\n98 es igual a 2 * 49.0\n99 es igual a 3 * 33.0\n100 es igual a 2 * 50.0\n101 es un numero primo\n102 es igual a 2 * 51.0\n103 es un numero primo\n104 es igual a 2 * 52.0\n105 es igual a 3 * 35.0\n106 es igual a 2 * 53.0\n107 es un numero primo\n108 es igual a 2 * 54.0\n109 es un numero primo\n110 es igual a 2 * 55.0\n111 es igual a 3 * 37.0\n112 es igual a 2 * 56.0\n113 es un numero primo\n114 es igual a 2 * 57.0\n115 es igual a 5 * 23.0\n116 es igual a 2 * 58.0\n117 es igual a 3 * 39.0\n118 es igual a 2 * 59.0\n119 es igual a 7 * 17.0\n120 es igual a 2 * 60.0\n121 es igual a 11 * 11.0\n122 es igual a 2 * 61.0\n123 es igual a 3 * 41.0\n124 es igual a 2 * 62.0\n125 es igual a 5 * 25.0\n126 es igual a 2 * 63.0\n127 es un numero primo\n128 es igual a 2 * 64.0\n129 es igual a 3 * 43.0\n130 es igual a 2 * 65.0\n131 es un numero primo\n132 es igual a 2 * 66.0\n133 es igual a 7 * 19.0\n134 es igual a 2 * 67.0\n135 es igual a 3 * 45.0\n136 es igual a 2 * 68.0\n137 es un numero primo\n138 es igual a 2 * 69.0\n139 es un numero primo\n140 es igual a 2 * 70.0\n141 es igual a 3 * 47.0\n142 es igual a 2 * 71.0\n143 es igual a 11 * 13.0\n144 es igual a 2 * 72.0\n145 es igual a 5 * 29.0\n146 es igual a 2 * 73.0\n147 es igual a 3 * 49.0\n148 es igual a 2 * 74.0\n149 es un numero primo\n150 es igual a 2 * 75.0\n151 es un numero primo\n152 es igual a 2 * 76.0\n153 es igual a 3 * 51.0\n154 es igual a 2 * 77.0\n155 es igual a 5 * 31.0\n156 es igual a 2 * 78.0\n157 es un numero primo\n158 es igual a 2 * 79.0\n159 es igual a 3 * 53.0\n160 es igual a 2 * 80.0\n161 es igual a 7 * 23.0\n162 es igual a 2 * 81.0\n163 es un numero primo\n164 es igual a 2 * 82.0\n165 es igual a 3 * 55.0\n166 es igual a 2 * 83.0\n167 es un numero primo\n168 es igual a 2 * 84.0\n169 es igual a 13 * 13.0\n170 es igual a 2 * 85.0\n171 es igual a 3 * 57.0\n172 es igual a 2 * 86.0\n173 es un numero primo\n174 es igual a 2 * 87.0\n175 es igual a 5 * 35.0\n176 es igual a 2 * 88.0\n177 es igual a 3 * 59.0\n178 es igual a 2 * 89.0\n179 es un numero primo\n180 es igual a 2 * 90.0\n181 es un numero primo\n182 es igual a 2 * 91.0\n183 es igual a 3 * 61.0\n184 es igual a 2 * 92.0\n185 es igual a 5 * 37.0\n186 es igual a 2 * 93.0\n187 es igual a 11 * 17.0\n188 es igual a 2 * 94.0\n189 es igual a 3 * 63.0\n190 es igual a 2 * 95.0\n191 es un numero primo\n192 es igual a 2 * 96.0\n193 es un numero primo\n194 es igual a 2 * 97.0\n195 es igual a 3 * 65.0\n196 es igual a 2 * 98.0\n197 es un numero primo\n198 es igual a 2 * 99.0\n199 es un numero primo\n200 es igual a 2 * 100.0\n201 es igual a 3 * 67.0\n202 es igual a 2 * 101.0\n203 es igual a 7 * 29.0\n204 es igual a 2 * 102.0\n205 es igual a 5 * 41.0\n206 es igual a 2 * 103.0\n207 es igual a 3 * 69.0\n208 es igual a 2 * 104.0\n209 es igual a 11 * 19.0\n210 es igual a 2 * 105.0\n211 es un numero primo\n212 es igual a 2 * 106.0\n213 es igual a 3 * 71.0\n214 es igual a 2 * 107.0\n215 es igual a 5 * 43.0\n216 es igual a 2 * 108.0\n217 es igual a 7 * 31.0\n218 es igual a 2 * 109.0\n219 es igual a 3 * 73.0\n220 es igual a 2 * 110.0\n221 es igual a 13 * 17.0\n222 es igual a 2 * 111.0\n223 es un numero primo\n224 es igual a 2 * 112.0\n225 es igual a 3 * 75.0\n226 es igual a 2 * 113.0\n227 es un numero primo\n228 es igual a 2 * 114.0\n229 es un numero primo\n230 es igual a 2 * 115.0\n231 es igual a 3 * 77.0\n232 es igual a 2 * 116.0\n233 es un numero primo\n234 es igual a 2 * 117.0\n235 es igual a 5 * 47.0\n236 es igual a 2 * 118.0\n237 es igual a 3 * 79.0\n238 es igual a 2 * 119.0\n239 es un numero primo\n240 es igual a 2 * 120.0\n241 es un numero primo\n242 es igual a 2 * 121.0\n243 es igual a 3 * 81.0\n244 es igual a 2 * 122.0\n245 es igual a 5 * 49.0\n246 es igual a 2 * 123.0\n247 es igual a 13 * 19.0\n248 es igual a 2 * 124.0\n249 es igual a 3 * 83.0\n250 es igual a 2 * 125.0\n251 es un numero primo\n252 es igual a 2 * 126.0\n253 es igual a 11 * 23.0\n254 es igual a 2 * 127.0\n255 es igual a 3 * 85.0\n256 es igual a 2 * 128.0\n257 es un numero primo\n258 es igual a 2 * 129.0\n259 es igual a 7 * 37.0\n260 es igual a 2 * 130.0\n261 es igual a 3 * 87.0\n262 es igual a 2 * 131.0\n263 es un numero primo\n264 es igual a 2 * 132.0\n265 es igual a 5 * 53.0\n266 es igual a 2 * 133.0\n267 es igual a 3 * 89.0\n268 es igual a 2 * 134.0\n269 es un numero primo\n270 es igual a 2 * 135.0\n271 es un numero primo\n272 es igual a 2 * 136.0\n273 es igual a 3 * 91.0\n274 es igual a 2 * 137.0\n275 es igual a 5 * 55.0\n276 es igual a 2 * 138.0\n277 es un numero primo\n278 es igual a 2 * 139.0\n279 es igual a 3 * 93.0\n280 es igual a 2 * 140.0\n281 es un numero primo\n282 es igual a 2 * 141.0\n283 es un numero primo\n284 es igual a 2 * 142.0\n285 es igual a 3 * 95.0\n286 es igual a 2 * 143.0\n287 es igual a 7 * 41.0\n288 es igual a 2 * 144.0\n289 es igual a 17 * 17.0\n290 es igual a 2 * 145.0\n291 es igual a 3 * 97.0\n292 es igual a 2 * 146.0\n293 es un numero primo\n294 es igual a 2 * 147.0\n295 es igual a 5 * 59.0\n296 es igual a 2 * 148.0\n297 es igual a 3 * 99.0\n298 es igual a 2 * 149.0\n299 es igual a 13 * 23.0\n300 es igual a 2 * 150.0\n301 es igual a 7 * 43.0\n302 es igual a 2 * 151.0\n303 es igual a 3 * 101.0\n304 es igual a 2 * 152.0\n305 es igual a 5 * 61.0\n306 es igual a 2 * 153.0\n307 es un numero primo\n308 es igual a 2 * 154.0\n309 es igual a 3 * 103.0\n310 es igual a 2 * 155.0\n311 es un numero primo\n312 es igual a 2 * 156.0\n313 es un numero primo\n314 es igual a 2 * 157.0\n315 es igual a 3 * 105.0\n316 es igual a 2 * 158.0\n317 es un numero primo\n318 es igual a 2 * 159.0\n319 es igual a 11 * 29.0\n320 es igual a 2 * 160.0\n321 es igual a 3 * 107.0\n322 es igual a 2 * 161.0\n323 es igual a 17 * 19.0\n324 es igual a 2 * 162.0\n325 es igual a 5 * 65.0\n326 es igual a 2 * 163.0\n327 es igual a 3 * 109.0\n328 es igual a 2 * 164.0\n329 es igual a 7 * 47.0\n330 es igual a 2 * 165.0\n331 es un numero primo\n332 es igual a 2 * 166.0\n333 es igual a 3 * 111.0\n334 es igual a 2 * 167.0\n335 es igual a 5 * 67.0\n336 es igual a 2 * 168.0\n337 es un numero primo\n338 es igual a 2 * 169.0\n339 es igual a 3 * 113.0\n340 es igual a 2 * 170.0\n341 es igual a 11 * 31.0\n342 es igual a 2 * 171.0\n343 es igual a 7 * 49.0\n344 es igual a 2 * 172.0\n345 es igual a 3 * 115.0\n346 es igual a 2 * 173.0\n347 es un numero primo\n348 es igual a 2 * 174.0\n349 es un numero primo\n350 es igual a 2 * 175.0\n351 es igual a 3 * 117.0\n352 es igual a 2 * 176.0\n353 es un numero primo\n354 es igual a 2 * 177.0\n355 es igual a 5 * 71.0\n356 es igual a 2 * 178.0\n357 es igual a 3 * 119.0\n358 es igual a 2 * 179.0\n359 es un numero primo\n360 es igual a 2 * 180.0\n361 es igual a 19 * 19.0\n362 es igual a 2 * 181.0\n363 es igual a 3 * 121.0\n364 es igual a 2 * 182.0\n365 es igual a 5 * 73.0\n366 es igual a 2 * 183.0\n367 es un numero primo\n368 es igual a 2 * 184.0\n369 es igual a 3 * 123.0\n370 es igual a 2 * 185.0\n371 es igual a 7 * 53.0\n372 es igual a 2 * 186.0\n373 es un numero primo\n374 es igual a 2 * 187.0\n375 es igual a 3 * 125.0\n376 es igual a 2 * 188.0\n377 es igual a 13 * 29.0\n378 es igual a 2 * 189.0\n379 es un numero primo\n380 es igual a 2 * 190.0\n381 es igual a 3 * 127.0\n382 es igual a 2 * 191.0\n383 es un numero primo\n384 es igual a 2 * 192.0\n385 es igual a 5 * 77.0\n386 es igual a 2 * 193.0\n387 es igual a 3 * 129.0\n388 es igual a 2 * 194.0\n389 es un numero primo\n390 es igual a 2 * 195.0\n391 es igual a 17 * 23.0\n392 es igual a 2 * 196.0\n393 es igual a 3 * 131.0\n394 es igual a 2 * 197.0\n395 es igual a 5 * 79.0\n396 es igual a 2 * 198.0\n397 es un numero primo\n398 es igual a 2 * 199.0\n399 es igual a 3 * 133.0\n400 es igual a 2 * 200.0\n401 es un numero primo\n402 es igual a 2 * 201.0\n403 es igual a 13 * 31.0\n404 es igual a 2 * 202.0\n405 es igual a 3 * 135.0\n406 es igual a 2 * 203.0\n407 es igual a 11 * 37.0\n408 es igual a 2 * 204.0\n409 es un numero primo\n410 es igual a 2 * 205.0\n411 es igual a 3 * 137.0\n412 es igual a 2 * 206.0\n413 es igual a 7 * 59.0\n414 es igual a 2 * 207.0\n415 es igual a 5 * 83.0\n416 es igual a 2 * 208.0\n417 es igual a 3 * 139.0\n418 es igual a 2 * 209.0\n419 es un numero primo\n420 es igual a 2 * 210.0\n421 es un numero primo\n422 es igual a 2 * 211.0\n423 es igual a 3 * 141.0\n424 es igual a 2 * 212.0\n425 es igual a 5 * 85.0\n426 es igual a 2 * 213.0\n427 es igual a 7 * 61.0\n428 es igual a 2 * 214.0\n429 es igual a 3 * 143.0\n430 es igual a 2 * 215.0\n431 es un numero primo\n432 es igual a 2 * 216.0\n433 es un numero primo\n434 es igual a 2 * 217.0\n435 es igual a 3 * 145.0\n436 es igual a 2 * 218.0\n437 es igual a 19 * 23.0\n438 es igual a 2 * 219.0\n439 es un numero primo\n440 es igual a 2 * 220.0\n441 es igual a 3 * 147.0\n442 es igual a 2 * 221.0\n443 es un numero primo\n444 es igual a 2 * 222.0\n445 es igual a 5 * 89.0\n446 es igual a 2 * 223.0\n447 es igual a 3 * 149.0\n448 es igual a 2 * 224.0\n449 es un numero primo\n450 es igual a 2 * 225.0\n451 es igual a 11 * 41.0\n452 es igual a 2 * 226.0\n453 es igual a 3 * 151.0\n454 es igual a 2 * 227.0\n455 es igual a 5 * 91.0\n456 es igual a 2 * 228.0\n457 es un numero primo\n458 es igual a 2 * 229.0\n459 es igual a 3 * 153.0\n460 es igual a 2 * 230.0\n461 es un numero primo\n462 es igual a 2 * 231.0\n463 es un numero primo\n464 es igual a 2 * 232.0\n465 es igual a 3 * 155.0\n466 es igual a 2 * 233.0\n467 es un numero primo\n468 es igual a 2 * 234.0\n469 es igual a 7 * 67.0\n470 es igual a 2 * 235.0\n471 es igual a 3 * 157.0\n472 es igual a 2 * 236.0\n473 es igual a 11 * 43.0\n474 es igual a 2 * 237.0\n475 es igual a 5 * 95.0\n476 es igual a 2 * 238.0\n477 es igual a 3 * 159.0\n478 es igual a 2 * 239.0\n479 es un numero primo\n480 es igual a 2 * 240.0\n481 es igual a 13 * 37.0\n482 es igual a 2 * 241.0\n483 es igual a 3 * 161.0\n484 es igual a 2 * 242.0\n485 es igual a 5 * 97.0\n486 es igual a 2 * 243.0\n487 es un numero primo\n488 es igual a 2 * 244.0\n489 es igual a 3 * 163.0\n490 es igual a 2 * 245.0\n491 es un numero primo\n492 es igual a 2 * 246.0\n493 es igual a 17 * 29.0\n494 es igual a 2 * 247.0\n495 es igual a 3 * 165.0\n496 es igual a 2 * 248.0\n497 es igual a 7 * 71.0\n498 es igual a 2 * 249.0\n499 es un numero primo\n500 es igual a 2 * 250.0\n501 es igual a 3 * 167.0\n502 es igual a 2 * 251.0\n503 es un numero primo\n504 es igual a 2 * 252.0\n505 es igual a 5 * 101.0\n506 es igual a 2 * 253.0\n507 es igual a 3 * 169.0\n508 es igual a 2 * 254.0\n509 es un numero primo\n510 es igual a 2 * 255.0\n511 es igual a 7 * 73.0\n512 es igual a 2 * 256.0\n513 es igual a 3 * 171.0\n514 es igual a 2 * 257.0\n515 es igual a 5 * 103.0\n516 es igual a 2 * 258.0\n517 es igual a 11 * 47.0\n518 es igual a 2 * 259.0\n519 es igual a 3 * 173.0\n520 es igual a 2 * 260.0\n521 es un numero primo\n522 es igual a 2 * 261.0\n523 es un numero primo\n524 es igual a 2 * 262.0\n525 es igual a 3 * 175.0\n526 es igual a 2 * 263.0\n527 es igual a 17 * 31.0\n",
          "name": "stdout"
        },
        {
          "output_type": "stream",
          "text": "528 es igual a 2 * 264.0\n529 es igual a 23 * 23.0\n530 es igual a 2 * 265.0\n531 es igual a 3 * 177.0\n532 es igual a 2 * 266.0\n533 es igual a 13 * 41.0\n534 es igual a 2 * 267.0\n535 es igual a 5 * 107.0\n536 es igual a 2 * 268.0\n537 es igual a 3 * 179.0\n538 es igual a 2 * 269.0\n539 es igual a 7 * 77.0\n540 es igual a 2 * 270.0\n541 es un numero primo\n542 es igual a 2 * 271.0\n543 es igual a 3 * 181.0\n544 es igual a 2 * 272.0\n545 es igual a 5 * 109.0\n546 es igual a 2 * 273.0\n547 es un numero primo\n548 es igual a 2 * 274.0\n549 es igual a 3 * 183.0\n550 es igual a 2 * 275.0\n551 es igual a 19 * 29.0\n552 es igual a 2 * 276.0\n553 es igual a 7 * 79.0\n554 es igual a 2 * 277.0\n555 es igual a 3 * 185.0\n556 es igual a 2 * 278.0\n557 es un numero primo\n558 es igual a 2 * 279.0\n559 es igual a 13 * 43.0\n560 es igual a 2 * 280.0\n561 es igual a 3 * 187.0\n562 es igual a 2 * 281.0\n563 es un numero primo\n564 es igual a 2 * 282.0\n565 es igual a 5 * 113.0\n566 es igual a 2 * 283.0\n567 es igual a 3 * 189.0\n568 es igual a 2 * 284.0\n569 es un numero primo\n570 es igual a 2 * 285.0\n571 es un numero primo\n572 es igual a 2 * 286.0\n573 es igual a 3 * 191.0\n574 es igual a 2 * 287.0\n575 es igual a 5 * 115.0\n576 es igual a 2 * 288.0\n577 es un numero primo\n578 es igual a 2 * 289.0\n579 es igual a 3 * 193.0\n580 es igual a 2 * 290.0\n581 es igual a 7 * 83.0\n582 es igual a 2 * 291.0\n583 es igual a 11 * 53.0\n584 es igual a 2 * 292.0\n585 es igual a 3 * 195.0\n586 es igual a 2 * 293.0\n587 es un numero primo\n588 es igual a 2 * 294.0\n589 es igual a 19 * 31.0\n590 es igual a 2 * 295.0\n591 es igual a 3 * 197.0\n592 es igual a 2 * 296.0\n593 es un numero primo\n594 es igual a 2 * 297.0\n595 es igual a 5 * 119.0\n596 es igual a 2 * 298.0\n597 es igual a 3 * 199.0\n598 es igual a 2 * 299.0\n599 es un numero primo\n600 es igual a 2 * 300.0\n601 es un numero primo\n602 es igual a 2 * 301.0\n603 es igual a 3 * 201.0\n604 es igual a 2 * 302.0\n605 es igual a 5 * 121.0\n606 es igual a 2 * 303.0\n607 es un numero primo\n608 es igual a 2 * 304.0\n609 es igual a 3 * 203.0\n610 es igual a 2 * 305.0\n611 es igual a 13 * 47.0\n612 es igual a 2 * 306.0\n613 es un numero primo\n614 es igual a 2 * 307.0\n615 es igual a 3 * 205.0\n616 es igual a 2 * 308.0\n617 es un numero primo\n618 es igual a 2 * 309.0\n619 es un numero primo\n620 es igual a 2 * 310.0\n621 es igual a 3 * 207.0\n622 es igual a 2 * 311.0\n623 es igual a 7 * 89.0\n624 es igual a 2 * 312.0\n625 es igual a 5 * 125.0\n626 es igual a 2 * 313.0\n627 es igual a 3 * 209.0\n628 es igual a 2 * 314.0\n629 es igual a 17 * 37.0\n630 es igual a 2 * 315.0\n631 es un numero primo\n632 es igual a 2 * 316.0\n633 es igual a 3 * 211.0\n634 es igual a 2 * 317.0\n635 es igual a 5 * 127.0\n636 es igual a 2 * 318.0\n637 es igual a 7 * 91.0\n638 es igual a 2 * 319.0\n639 es igual a 3 * 213.0\n640 es igual a 2 * 320.0\n641 es un numero primo\n642 es igual a 2 * 321.0\n643 es un numero primo\n644 es igual a 2 * 322.0\n645 es igual a 3 * 215.0\n646 es igual a 2 * 323.0\n647 es un numero primo\n648 es igual a 2 * 324.0\n649 es igual a 11 * 59.0\n650 es igual a 2 * 325.0\n651 es igual a 3 * 217.0\n652 es igual a 2 * 326.0\n653 es un numero primo\n654 es igual a 2 * 327.0\n655 es igual a 5 * 131.0\n656 es igual a 2 * 328.0\n657 es igual a 3 * 219.0\n658 es igual a 2 * 329.0\n659 es un numero primo\n660 es igual a 2 * 330.0\n661 es un numero primo\n662 es igual a 2 * 331.0\n663 es igual a 3 * 221.0\n664 es igual a 2 * 332.0\n665 es igual a 5 * 133.0\n666 es igual a 2 * 333.0\n667 es igual a 23 * 29.0\n668 es igual a 2 * 334.0\n669 es igual a 3 * 223.0\n670 es igual a 2 * 335.0\n671 es igual a 11 * 61.0\n672 es igual a 2 * 336.0\n673 es un numero primo\n674 es igual a 2 * 337.0\n675 es igual a 3 * 225.0\n676 es igual a 2 * 338.0\n677 es un numero primo\n678 es igual a 2 * 339.0\n679 es igual a 7 * 97.0\n680 es igual a 2 * 340.0\n681 es igual a 3 * 227.0\n682 es igual a 2 * 341.0\n683 es un numero primo\n684 es igual a 2 * 342.0\n685 es igual a 5 * 137.0\n686 es igual a 2 * 343.0\n687 es igual a 3 * 229.0\n688 es igual a 2 * 344.0\n689 es igual a 13 * 53.0\n690 es igual a 2 * 345.0\n691 es un numero primo\n692 es igual a 2 * 346.0\n693 es igual a 3 * 231.0\n694 es igual a 2 * 347.0\n695 es igual a 5 * 139.0\n696 es igual a 2 * 348.0\n697 es igual a 17 * 41.0\n698 es igual a 2 * 349.0\n699 es igual a 3 * 233.0\n700 es igual a 2 * 350.0\n701 es un numero primo\n702 es igual a 2 * 351.0\n703 es igual a 19 * 37.0\n704 es igual a 2 * 352.0\n705 es igual a 3 * 235.0\n706 es igual a 2 * 353.0\n707 es igual a 7 * 101.0\n708 es igual a 2 * 354.0\n709 es un numero primo\n710 es igual a 2 * 355.0\n711 es igual a 3 * 237.0\n712 es igual a 2 * 356.0\n713 es igual a 23 * 31.0\n714 es igual a 2 * 357.0\n715 es igual a 5 * 143.0\n716 es igual a 2 * 358.0\n717 es igual a 3 * 239.0\n718 es igual a 2 * 359.0\n719 es un numero primo\n720 es igual a 2 * 360.0\n721 es igual a 7 * 103.0\n722 es igual a 2 * 361.0\n723 es igual a 3 * 241.0\n724 es igual a 2 * 362.0\n725 es igual a 5 * 145.0\n726 es igual a 2 * 363.0\n727 es un numero primo\n728 es igual a 2 * 364.0\n729 es igual a 3 * 243.0\n730 es igual a 2 * 365.0\n731 es igual a 17 * 43.0\n732 es igual a 2 * 366.0\n733 es un numero primo\n734 es igual a 2 * 367.0\n735 es igual a 3 * 245.0\n736 es igual a 2 * 368.0\n737 es igual a 11 * 67.0\n738 es igual a 2 * 369.0\n739 es un numero primo\n740 es igual a 2 * 370.0\n741 es igual a 3 * 247.0\n742 es igual a 2 * 371.0\n743 es un numero primo\n744 es igual a 2 * 372.0\n745 es igual a 5 * 149.0\n746 es igual a 2 * 373.0\n747 es igual a 3 * 249.0\n748 es igual a 2 * 374.0\n749 es igual a 7 * 107.0\n750 es igual a 2 * 375.0\n751 es un numero primo\n752 es igual a 2 * 376.0\n753 es igual a 3 * 251.0\n754 es igual a 2 * 377.0\n755 es igual a 5 * 151.0\n756 es igual a 2 * 378.0\n757 es un numero primo\n758 es igual a 2 * 379.0\n759 es igual a 3 * 253.0\n760 es igual a 2 * 380.0\n761 es un numero primo\n762 es igual a 2 * 381.0\n763 es igual a 7 * 109.0\n764 es igual a 2 * 382.0\n765 es igual a 3 * 255.0\n766 es igual a 2 * 383.0\n767 es igual a 13 * 59.0\n768 es igual a 2 * 384.0\n769 es un numero primo\n770 es igual a 2 * 385.0\n771 es igual a 3 * 257.0\n772 es igual a 2 * 386.0\n773 es un numero primo\n774 es igual a 2 * 387.0\n775 es igual a 5 * 155.0\n776 es igual a 2 * 388.0\n777 es igual a 3 * 259.0\n778 es igual a 2 * 389.0\n779 es igual a 19 * 41.0\n780 es igual a 2 * 390.0\n781 es igual a 11 * 71.0\n782 es igual a 2 * 391.0\n783 es igual a 3 * 261.0\n784 es igual a 2 * 392.0\n785 es igual a 5 * 157.0\n786 es igual a 2 * 393.0\n787 es un numero primo\n788 es igual a 2 * 394.0\n789 es igual a 3 * 263.0\n790 es igual a 2 * 395.0\n791 es igual a 7 * 113.0\n792 es igual a 2 * 396.0\n793 es igual a 13 * 61.0\n794 es igual a 2 * 397.0\n795 es igual a 3 * 265.0\n796 es igual a 2 * 398.0\n797 es un numero primo\n798 es igual a 2 * 399.0\n799 es igual a 17 * 47.0\n800 es igual a 2 * 400.0\n801 es igual a 3 * 267.0\n802 es igual a 2 * 401.0\n803 es igual a 11 * 73.0\n804 es igual a 2 * 402.0\n805 es igual a 5 * 161.0\n806 es igual a 2 * 403.0\n807 es igual a 3 * 269.0\n808 es igual a 2 * 404.0\n809 es un numero primo\n810 es igual a 2 * 405.0\n811 es un numero primo\n812 es igual a 2 * 406.0\n813 es igual a 3 * 271.0\n814 es igual a 2 * 407.0\n815 es igual a 5 * 163.0\n816 es igual a 2 * 408.0\n817 es igual a 19 * 43.0\n818 es igual a 2 * 409.0\n819 es igual a 3 * 273.0\n820 es igual a 2 * 410.0\n821 es un numero primo\n822 es igual a 2 * 411.0\n823 es un numero primo\n824 es igual a 2 * 412.0\n825 es igual a 3 * 275.0\n826 es igual a 2 * 413.0\n827 es un numero primo\n828 es igual a 2 * 414.0\n829 es un numero primo\n830 es igual a 2 * 415.0\n831 es igual a 3 * 277.0\n832 es igual a 2 * 416.0\n833 es igual a 7 * 119.0\n834 es igual a 2 * 417.0\n835 es igual a 5 * 167.0\n836 es igual a 2 * 418.0\n837 es igual a 3 * 279.0\n838 es igual a 2 * 419.0\n839 es un numero primo\n840 es igual a 2 * 420.0\n841 es igual a 29 * 29.0\n842 es igual a 2 * 421.0\n843 es igual a 3 * 281.0\n844 es igual a 2 * 422.0\n845 es igual a 5 * 169.0\n846 es igual a 2 * 423.0\n847 es igual a 7 * 121.0\n848 es igual a 2 * 424.0\n849 es igual a 3 * 283.0\n850 es igual a 2 * 425.0\n851 es igual a 23 * 37.0\n852 es igual a 2 * 426.0\n853 es un numero primo\n854 es igual a 2 * 427.0\n855 es igual a 3 * 285.0\n856 es igual a 2 * 428.0\n857 es un numero primo\n858 es igual a 2 * 429.0\n859 es un numero primo\n860 es igual a 2 * 430.0\n861 es igual a 3 * 287.0\n862 es igual a 2 * 431.0\n863 es un numero primo\n",
          "name": "stdout"
        },
        {
          "output_type": "stream",
          "text": "864 es igual a 2 * 432.0\n865 es igual a 5 * 173.0\n866 es igual a 2 * 433.0\n867 es igual a 3 * 289.0\n868 es igual a 2 * 434.0\n869 es igual a 11 * 79.0\n870 es igual a 2 * 435.0\n871 es igual a 13 * 67.0\n872 es igual a 2 * 436.0\n873 es igual a 3 * 291.0\n874 es igual a 2 * 437.0\n875 es igual a 5 * 175.0\n876 es igual a 2 * 438.0\n877 es un numero primo\n878 es igual a 2 * 439.0\n879 es igual a 3 * 293.0\n880 es igual a 2 * 440.0\n881 es un numero primo\n882 es igual a 2 * 441.0\n883 es un numero primo\n884 es igual a 2 * 442.0\n885 es igual a 3 * 295.0\n886 es igual a 2 * 443.0\n887 es un numero primo\n888 es igual a 2 * 444.0\n889 es igual a 7 * 127.0\n890 es igual a 2 * 445.0\n891 es igual a 3 * 297.0\n892 es igual a 2 * 446.0\n893 es igual a 19 * 47.0\n894 es igual a 2 * 447.0\n895 es igual a 5 * 179.0\n896 es igual a 2 * 448.0\n897 es igual a 3 * 299.0\n898 es igual a 2 * 449.0\n899 es igual a 29 * 31.0\n900 es igual a 2 * 450.0\n901 es igual a 17 * 53.0\n902 es igual a 2 * 451.0\n903 es igual a 3 * 301.0\n904 es igual a 2 * 452.0\n905 es igual a 5 * 181.0\n906 es igual a 2 * 453.0\n907 es un numero primo\n908 es igual a 2 * 454.0\n909 es igual a 3 * 303.0\n910 es igual a 2 * 455.0\n911 es un numero primo\n912 es igual a 2 * 456.0\n913 es igual a 11 * 83.0\n914 es igual a 2 * 457.0\n915 es igual a 3 * 305.0\n916 es igual a 2 * 458.0\n917 es igual a 7 * 131.0\n918 es igual a 2 * 459.0\n919 es un numero primo\n920 es igual a 2 * 460.0\n921 es igual a 3 * 307.0\n922 es igual a 2 * 461.0\n923 es igual a 13 * 71.0\n924 es igual a 2 * 462.0\n925 es igual a 5 * 185.0\n926 es igual a 2 * 463.0\n927 es igual a 3 * 309.0\n928 es igual a 2 * 464.0\n929 es un numero primo\n930 es igual a 2 * 465.0\n931 es igual a 7 * 133.0\n932 es igual a 2 * 466.0\n933 es igual a 3 * 311.0\n934 es igual a 2 * 467.0\n935 es igual a 5 * 187.0\n936 es igual a 2 * 468.0\n937 es un numero primo\n938 es igual a 2 * 469.0\n939 es igual a 3 * 313.0\n940 es igual a 2 * 470.0\n941 es un numero primo\n942 es igual a 2 * 471.0\n943 es igual a 23 * 41.0\n944 es igual a 2 * 472.0\n945 es igual a 3 * 315.0\n946 es igual a 2 * 473.0\n947 es un numero primo\n948 es igual a 2 * 474.0\n949 es igual a 13 * 73.0\n950 es igual a 2 * 475.0\n951 es igual a 3 * 317.0\n952 es igual a 2 * 476.0\n953 es un numero primo\n954 es igual a 2 * 477.0\n955 es igual a 5 * 191.0\n956 es igual a 2 * 478.0\n957 es igual a 3 * 319.0\n958 es igual a 2 * 479.0\n959 es igual a 7 * 137.0\n960 es igual a 2 * 480.0\n961 es igual a 31 * 31.0\n962 es igual a 2 * 481.0\n963 es igual a 3 * 321.0\n964 es igual a 2 * 482.0\n965 es igual a 5 * 193.0\n966 es igual a 2 * 483.0\n967 es un numero primo\n968 es igual a 2 * 484.0\n969 es igual a 3 * 323.0\n970 es igual a 2 * 485.0\n971 es un numero primo\n972 es igual a 2 * 486.0\n973 es igual a 7 * 139.0\n974 es igual a 2 * 487.0\n975 es igual a 3 * 325.0\n976 es igual a 2 * 488.0\n977 es un numero primo\n978 es igual a 2 * 489.0\n979 es igual a 11 * 89.0\n980 es igual a 2 * 490.0\n981 es igual a 3 * 327.0\n982 es igual a 2 * 491.0\n983 es un numero primo\n984 es igual a 2 * 492.0\n985 es igual a 5 * 197.0\n986 es igual a 2 * 493.0\n987 es igual a 3 * 329.0\n988 es igual a 2 * 494.0\n989 es igual a 23 * 43.0\n990 es igual a 2 * 495.0\n991 es un numero primo\n992 es igual a 2 * 496.0\n993 es igual a 3 * 331.0\n994 es igual a 2 * 497.0\n995 es igual a 5 * 199.0\n996 es igual a 2 * 498.0\n997 es un numero primo\n998 es igual a 2 * 499.0\n999 es igual a 3 * 333.0\n1000 es igual a 2 * 500.0\n1001 es igual a 7 * 143.0\n1002 es igual a 2 * 501.0\n1003 es igual a 17 * 59.0\n1004 es igual a 2 * 502.0\n1005 es igual a 3 * 335.0\n1006 es igual a 2 * 503.0\n1007 es igual a 19 * 53.0\n1008 es igual a 2 * 504.0\n1009 es un numero primo\n1010 es igual a 2 * 505.0\n1011 es igual a 3 * 337.0\n1012 es igual a 2 * 506.0\n1013 es un numero primo\n1014 es igual a 2 * 507.0\n1015 es igual a 5 * 203.0\n1016 es igual a 2 * 508.0\n1017 es igual a 3 * 339.0\n1018 es igual a 2 * 509.0\n1019 es un numero primo\n1020 es igual a 2 * 510.0\n1021 es un numero primo\n1022 es igual a 2 * 511.0\n1023 es igual a 3 * 341.0\n1024 es igual a 2 * 512.0\n1025 es igual a 5 * 205.0\n1026 es igual a 2 * 513.0\n1027 es igual a 13 * 79.0\n1028 es igual a 2 * 514.0\n1029 es igual a 3 * 343.0\n1030 es igual a 2 * 515.0\n1031 es un numero primo\n1032 es igual a 2 * 516.0\n1033 es un numero primo\n1034 es igual a 2 * 517.0\n1035 es igual a 3 * 345.0\n1036 es igual a 2 * 518.0\n1037 es igual a 17 * 61.0\n1038 es igual a 2 * 519.0\n1039 es un numero primo\n1040 es igual a 2 * 520.0\n1041 es igual a 3 * 347.0\n1042 es igual a 2 * 521.0\n1043 es igual a 7 * 149.0\n1044 es igual a 2 * 522.0\n1045 es igual a 5 * 209.0\n1046 es igual a 2 * 523.0\n1047 es igual a 3 * 349.0\n1048 es igual a 2 * 524.0\n1049 es un numero primo\n1050 es igual a 2 * 525.0\n1051 es un numero primo\n1052 es igual a 2 * 526.0\n1053 es igual a 3 * 351.0\n1054 es igual a 2 * 527.0\n1055 es igual a 5 * 211.0\n1056 es igual a 2 * 528.0\n1057 es igual a 7 * 151.0\n1058 es igual a 2 * 529.0\n1059 es igual a 3 * 353.0\n1060 es igual a 2 * 530.0\n1061 es un numero primo\n1062 es igual a 2 * 531.0\n1063 es un numero primo\n1064 es igual a 2 * 532.0\n1065 es igual a 3 * 355.0\n1066 es igual a 2 * 533.0\n1067 es igual a 11 * 97.0\n1068 es igual a 2 * 534.0\n1069 es un numero primo\n1070 es igual a 2 * 535.0\n1071 es igual a 3 * 357.0\n1072 es igual a 2 * 536.0\n1073 es igual a 29 * 37.0\n1074 es igual a 2 * 537.0\n1075 es igual a 5 * 215.0\n1076 es igual a 2 * 538.0\n1077 es igual a 3 * 359.0\n1078 es igual a 2 * 539.0\n1079 es igual a 13 * 83.0\n1080 es igual a 2 * 540.0\n1081 es igual a 23 * 47.0\n1082 es igual a 2 * 541.0\n1083 es igual a 3 * 361.0\n1084 es igual a 2 * 542.0\n1085 es igual a 5 * 217.0\n1086 es igual a 2 * 543.0\n1087 es un numero primo\n1088 es igual a 2 * 544.0\n1089 es igual a 3 * 363.0\n1090 es igual a 2 * 545.0\n1091 es un numero primo\n1092 es igual a 2 * 546.0\n1093 es un numero primo\n1094 es igual a 2 * 547.0\n1095 es igual a 3 * 365.0\n1096 es igual a 2 * 548.0\n1097 es un numero primo\n1098 es igual a 2 * 549.0\n1099 es igual a 7 * 157.0\n1100 es igual a 2 * 550.0\n1101 es igual a 3 * 367.0\n1102 es igual a 2 * 551.0\n1103 es un numero primo\n1104 es igual a 2 * 552.0\n1105 es igual a 5 * 221.0\n1106 es igual a 2 * 553.0\n1107 es igual a 3 * 369.0\n1108 es igual a 2 * 554.0\n1109 es un numero primo\n1110 es igual a 2 * 555.0\n1111 es igual a 11 * 101.0\n1112 es igual a 2 * 556.0\n1113 es igual a 3 * 371.0\n1114 es igual a 2 * 557.0\n1115 es igual a 5 * 223.0\n1116 es igual a 2 * 558.0\n1117 es un numero primo\n1118 es igual a 2 * 559.0\n1119 es igual a 3 * 373.0\n1120 es igual a 2 * 560.0\n1121 es igual a 19 * 59.0\n1122 es igual a 2 * 561.0\n1123 es un numero primo\n1124 es igual a 2 * 562.0\n1125 es igual a 3 * 375.0\n1126 es igual a 2 * 563.0\n1127 es igual a 7 * 161.0\n1128 es igual a 2 * 564.0\n1129 es un numero primo\n1130 es igual a 2 * 565.0\n1131 es igual a 3 * 377.0\n1132 es igual a 2 * 566.0\n1133 es igual a 11 * 103.0\n1134 es igual a 2 * 567.0\n1135 es igual a 5 * 227.0\n1136 es igual a 2 * 568.0\n1137 es igual a 3 * 379.0\n1138 es igual a 2 * 569.0\n1139 es igual a 17 * 67.0\n1140 es igual a 2 * 570.0\n1141 es igual a 7 * 163.0\n1142 es igual a 2 * 571.0\n1143 es igual a 3 * 381.0\n1144 es igual a 2 * 572.0\n1145 es igual a 5 * 229.0\n1146 es igual a 2 * 573.0\n1147 es igual a 31 * 37.0\n1148 es igual a 2 * 574.0\n1149 es igual a 3 * 383.0\n1150 es igual a 2 * 575.0\n1151 es un numero primo\n1152 es igual a 2 * 576.0\n1153 es un numero primo\n1154 es igual a 2 * 577.0\n1155 es igual a 3 * 385.0\n1156 es igual a 2 * 578.0\n1157 es igual a 13 * 89.0\n1158 es igual a 2 * 579.0\n1159 es igual a 19 * 61.0\n1160 es igual a 2 * 580.0\n1161 es igual a 3 * 387.0\n1162 es igual a 2 * 581.0\n1163 es un numero primo\n1164 es igual a 2 * 582.0\n1165 es igual a 5 * 233.0\n1166 es igual a 2 * 583.0\n1167 es igual a 3 * 389.0\n1168 es igual a 2 * 584.0\n1169 es igual a 7 * 167.0\n1170 es igual a 2 * 585.0\n1171 es un numero primo\n1172 es igual a 2 * 586.0\n1173 es igual a 3 * 391.0\n1174 es igual a 2 * 587.0\n1175 es igual a 5 * 235.0\n1176 es igual a 2 * 588.0\n1177 es igual a 11 * 107.0\n1178 es igual a 2 * 589.0\n1179 es igual a 3 * 393.0\n1180 es igual a 2 * 590.0\n1181 es un numero primo\n1182 es igual a 2 * 591.0\n1183 es igual a 7 * 169.0\n1184 es igual a 2 * 592.0\n1185 es igual a 3 * 395.0\n1186 es igual a 2 * 593.0\n1187 es un numero primo\n1188 es igual a 2 * 594.0\n1189 es igual a 29 * 41.0\n1190 es igual a 2 * 595.0\n1191 es igual a 3 * 397.0\n1192 es igual a 2 * 596.0\n1193 es un numero primo\n1194 es igual a 2 * 597.0\n1195 es igual a 5 * 239.0\n1196 es igual a 2 * 598.0\n1197 es igual a 3 * 399.0\n1198 es igual a 2 * 599.0\n",
          "name": "stdout"
        },
        {
          "output_type": "stream",
          "text": "1199 es igual a 11 * 109.0\n1200 es igual a 2 * 600.0\n1201 es un numero primo\n1202 es igual a 2 * 601.0\n1203 es igual a 3 * 401.0\n1204 es igual a 2 * 602.0\n1205 es igual a 5 * 241.0\n1206 es igual a 2 * 603.0\n1207 es igual a 17 * 71.0\n1208 es igual a 2 * 604.0\n1209 es igual a 3 * 403.0\n1210 es igual a 2 * 605.0\n1211 es igual a 7 * 173.0\n1212 es igual a 2 * 606.0\n1213 es un numero primo\n1214 es igual a 2 * 607.0\n1215 es igual a 3 * 405.0\n1216 es igual a 2 * 608.0\n1217 es un numero primo\n1218 es igual a 2 * 609.0\n1219 es igual a 23 * 53.0\n1220 es igual a 2 * 610.0\n1221 es igual a 3 * 407.0\n1222 es igual a 2 * 611.0\n1223 es un numero primo\n1224 es igual a 2 * 612.0\n1225 es igual a 5 * 245.0\n1226 es igual a 2 * 613.0\n1227 es igual a 3 * 409.0\n1228 es igual a 2 * 614.0\n1229 es un numero primo\n1230 es igual a 2 * 615.0\n1231 es un numero primo\n1232 es igual a 2 * 616.0\n1233 es igual a 3 * 411.0\n1234 es igual a 2 * 617.0\n1235 es igual a 5 * 247.0\n1236 es igual a 2 * 618.0\n1237 es un numero primo\n1238 es igual a 2 * 619.0\n1239 es igual a 3 * 413.0\n1240 es igual a 2 * 620.0\n1241 es igual a 17 * 73.0\n1242 es igual a 2 * 621.0\n1243 es igual a 11 * 113.0\n1244 es igual a 2 * 622.0\n1245 es igual a 3 * 415.0\n1246 es igual a 2 * 623.0\n1247 es igual a 29 * 43.0\n1248 es igual a 2 * 624.0\n1249 es un numero primo\n1250 es igual a 2 * 625.0\n1251 es igual a 3 * 417.0\n1252 es igual a 2 * 626.0\n1253 es igual a 7 * 179.0\n1254 es igual a 2 * 627.0\n1255 es igual a 5 * 251.0\n1256 es igual a 2 * 628.0\n1257 es igual a 3 * 419.0\n1258 es igual a 2 * 629.0\n1259 es un numero primo\n1260 es igual a 2 * 630.0\n1261 es igual a 13 * 97.0\n1262 es igual a 2 * 631.0\n1263 es igual a 3 * 421.0\n1264 es igual a 2 * 632.0\n1265 es igual a 5 * 253.0\n1266 es igual a 2 * 633.0\n1267 es igual a 7 * 181.0\n1268 es igual a 2 * 634.0\n1269 es igual a 3 * 423.0\n1270 es igual a 2 * 635.0\n1271 es igual a 31 * 41.0\n1272 es igual a 2 * 636.0\n1273 es igual a 19 * 67.0\n1274 es igual a 2 * 637.0\n1275 es igual a 3 * 425.0\n1276 es igual a 2 * 638.0\n1277 es un numero primo\n1278 es igual a 2 * 639.0\n1279 es un numero primo\n1280 es igual a 2 * 640.0\n1281 es igual a 3 * 427.0\n1282 es igual a 2 * 641.0\n1283 es un numero primo\n1284 es igual a 2 * 642.0\n1285 es igual a 5 * 257.0\n1286 es igual a 2 * 643.0\n1287 es igual a 3 * 429.0\n1288 es igual a 2 * 644.0\n1289 es un numero primo\n1290 es igual a 2 * 645.0\n1291 es un numero primo\n1292 es igual a 2 * 646.0\n1293 es igual a 3 * 431.0\n1294 es igual a 2 * 647.0\n1295 es igual a 5 * 259.0\n1296 es igual a 2 * 648.0\n1297 es un numero primo\n1298 es igual a 2 * 649.0\n1299 es igual a 3 * 433.0\n1300 es igual a 2 * 650.0\n1301 es un numero primo\n1302 es igual a 2 * 651.0\n1303 es un numero primo\n1304 es igual a 2 * 652.0\n1305 es igual a 3 * 435.0\n1306 es igual a 2 * 653.0\n1307 es un numero primo\n1308 es igual a 2 * 654.0\n1309 es igual a 7 * 187.0\n1310 es igual a 2 * 655.0\n1311 es igual a 3 * 437.0\n1312 es igual a 2 * 656.0\n1313 es igual a 13 * 101.0\n1314 es igual a 2 * 657.0\n1315 es igual a 5 * 263.0\n1316 es igual a 2 * 658.0\n1317 es igual a 3 * 439.0\n1318 es igual a 2 * 659.0\n1319 es un numero primo\n1320 es igual a 2 * 660.0\n1321 es un numero primo\n1322 es igual a 2 * 661.0\n1323 es igual a 3 * 441.0\n1324 es igual a 2 * 662.0\n1325 es igual a 5 * 265.0\n1326 es igual a 2 * 663.0\n1327 es un numero primo\n1328 es igual a 2 * 664.0\n1329 es igual a 3 * 443.0\n1330 es igual a 2 * 665.0\n1331 es igual a 11 * 121.0\n1332 es igual a 2 * 666.0\n1333 es igual a 31 * 43.0\n1334 es igual a 2 * 667.0\n1335 es igual a 3 * 445.0\n1336 es igual a 2 * 668.0\n1337 es igual a 7 * 191.0\n1338 es igual a 2 * 669.0\n1339 es igual a 13 * 103.0\n1340 es igual a 2 * 670.0\n1341 es igual a 3 * 447.0\n1342 es igual a 2 * 671.0\n1343 es igual a 17 * 79.0\n1344 es igual a 2 * 672.0\n1345 es igual a 5 * 269.0\n1346 es igual a 2 * 673.0\n1347 es igual a 3 * 449.0\n1348 es igual a 2 * 674.0\n1349 es igual a 19 * 71.0\n1350 es igual a 2 * 675.0\n1351 es igual a 7 * 193.0\n1352 es igual a 2 * 676.0\n1353 es igual a 3 * 451.0\n1354 es igual a 2 * 677.0\n1355 es igual a 5 * 271.0\n1356 es igual a 2 * 678.0\n1357 es igual a 23 * 59.0\n1358 es igual a 2 * 679.0\n1359 es igual a 3 * 453.0\n1360 es igual a 2 * 680.0\n1361 es un numero primo\n1362 es igual a 2 * 681.0\n1363 es igual a 29 * 47.0\n1364 es igual a 2 * 682.0\n1365 es igual a 3 * 455.0\n1366 es igual a 2 * 683.0\n1367 es un numero primo\n1368 es igual a 2 * 684.0\n1369 es igual a 37 * 37.0\n1370 es igual a 2 * 685.0\n1371 es igual a 3 * 457.0\n1372 es igual a 2 * 686.0\n1373 es un numero primo\n1374 es igual a 2 * 687.0\n1375 es igual a 5 * 275.0\n1376 es igual a 2 * 688.0\n1377 es igual a 3 * 459.0\n1378 es igual a 2 * 689.0\n1379 es igual a 7 * 197.0\n1380 es igual a 2 * 690.0\n1381 es un numero primo\n1382 es igual a 2 * 691.0\n1383 es igual a 3 * 461.0\n1384 es igual a 2 * 692.0\n1385 es igual a 5 * 277.0\n1386 es igual a 2 * 693.0\n1387 es igual a 19 * 73.0\n1388 es igual a 2 * 694.0\n1389 es igual a 3 * 463.0\n1390 es igual a 2 * 695.0\n1391 es igual a 13 * 107.0\n1392 es igual a 2 * 696.0\n1393 es igual a 7 * 199.0\n1394 es igual a 2 * 697.0\n1395 es igual a 3 * 465.0\n1396 es igual a 2 * 698.0\n1397 es igual a 11 * 127.0\n1398 es igual a 2 * 699.0\n1399 es un numero primo\n1400 es igual a 2 * 700.0\n1401 es igual a 3 * 467.0\n1402 es igual a 2 * 701.0\n1403 es igual a 23 * 61.0\n1404 es igual a 2 * 702.0\n1405 es igual a 5 * 281.0\n1406 es igual a 2 * 703.0\n1407 es igual a 3 * 469.0\n1408 es igual a 2 * 704.0\n1409 es un numero primo\n1410 es igual a 2 * 705.0\n1411 es igual a 17 * 83.0\n1412 es igual a 2 * 706.0\n1413 es igual a 3 * 471.0\n1414 es igual a 2 * 707.0\n1415 es igual a 5 * 283.0\n1416 es igual a 2 * 708.0\n1417 es igual a 13 * 109.0\n1418 es igual a 2 * 709.0\n1419 es igual a 3 * 473.0\n1420 es igual a 2 * 710.0\n1421 es igual a 7 * 203.0\n1422 es igual a 2 * 711.0\n",
          "name": "stdout"
        }
      ]
    },
    {
      "metadata": {
        "id": "swBsmdHbhcXs",
        "colab_type": "code",
        "colab": {},
        "trusted": false
      },
      "cell_type": "markdown",
      "source": "<p>La declaración continue, también tomada de C, continua con la siguiente iteración del ciclo:</p>"
    },
    {
      "metadata": {
        "id": "Ygq25mfGhcUz",
        "colab_type": "code",
        "colab": {
          "base_uri": "https://localhost:8080/",
          "height": 165
        },
        "outputId": "8df74fc6-93ad-4d6d-fc16-2dda18c95829",
        "trusted": true
      },
      "cell_type": "code",
      "source": " for num in range(2, 1765):\n    if num % 2 == 0:\n      print(\"Encontré un número par\", num)\n      continue\n    print(\"Encontré un número\", num)\n",
      "execution_count": 273,
      "outputs": [
        {
          "output_type": "stream",
          "text": "Encontré un número par 2\nEncontré un número 3\nEncontré un número par 4\nEncontré un número 5\nEncontré un número par 6\nEncontré un número 7\nEncontré un número par 8\nEncontré un número 9\nEncontré un número par 10\nEncontré un número 11\nEncontré un número par 12\nEncontré un número 13\nEncontré un número par 14\nEncontré un número 15\nEncontré un número par 16\nEncontré un número 17\nEncontré un número par 18\nEncontré un número 19\nEncontré un número par 20\nEncontré un número 21\nEncontré un número par 22\nEncontré un número 23\nEncontré un número par 24\nEncontré un número 25\nEncontré un número par 26\nEncontré un número 27\nEncontré un número par 28\nEncontré un número 29\nEncontré un número par 30\nEncontré un número 31\nEncontré un número par 32\nEncontré un número 33\nEncontré un número par 34\nEncontré un número 35\nEncontré un número par 36\nEncontré un número 37\nEncontré un número par 38\nEncontré un número 39\nEncontré un número par 40\nEncontré un número 41\nEncontré un número par 42\nEncontré un número 43\nEncontré un número par 44\nEncontré un número 45\nEncontré un número par 46\nEncontré un número 47\nEncontré un número par 48\nEncontré un número 49\nEncontré un número par 50\nEncontré un número 51\nEncontré un número par 52\nEncontré un número 53\nEncontré un número par 54\nEncontré un número 55\nEncontré un número par 56\nEncontré un número 57\nEncontré un número par 58\nEncontré un número 59\nEncontré un número par 60\nEncontré un número 61\nEncontré un número par 62\nEncontré un número 63\nEncontré un número par 64\nEncontré un número 65\nEncontré un número par 66\nEncontré un número 67\nEncontré un número par 68\nEncontré un número 69\nEncontré un número par 70\nEncontré un número 71\nEncontré un número par 72\nEncontré un número 73\nEncontré un número par 74\nEncontré un número 75\nEncontré un número par 76\nEncontré un número 77\nEncontré un número par 78\nEncontré un número 79\nEncontré un número par 80\nEncontré un número 81\nEncontré un número par 82\nEncontré un número 83\nEncontré un número par 84\nEncontré un número 85\nEncontré un número par 86\nEncontré un número 87\nEncontré un número par 88\nEncontré un número 89\nEncontré un número par 90\nEncontré un número 91\nEncontré un número par 92\nEncontré un número 93\nEncontré un número par 94\nEncontré un número 95\nEncontré un número par 96\nEncontré un número 97\nEncontré un número par 98\nEncontré un número 99\nEncontré un número par 100\nEncontré un número 101\nEncontré un número par 102\nEncontré un número 103\nEncontré un número par 104\nEncontré un número 105\nEncontré un número par 106\nEncontré un número 107\nEncontré un número par 108\nEncontré un número 109\nEncontré un número par 110\nEncontré un número 111\nEncontré un número par 112\nEncontré un número 113\nEncontré un número par 114\nEncontré un número 115\nEncontré un número par 116\nEncontré un número 117\nEncontré un número par 118\nEncontré un número 119\nEncontré un número par 120\nEncontré un número 121\nEncontré un número par 122\nEncontré un número 123\nEncontré un número par 124\nEncontré un número 125\nEncontré un número par 126\nEncontré un número 127\nEncontré un número par 128\nEncontré un número 129\nEncontré un número par 130\nEncontré un número 131\nEncontré un número par 132\nEncontré un número 133\nEncontré un número par 134\nEncontré un número 135\nEncontré un número par 136\nEncontré un número 137\nEncontré un número par 138\nEncontré un número 139\nEncontré un número par 140\nEncontré un número 141\nEncontré un número par 142\nEncontré un número 143\nEncontré un número par 144\nEncontré un número 145\nEncontré un número par 146\nEncontré un número 147\nEncontré un número par 148\nEncontré un número 149\nEncontré un número par 150\nEncontré un número 151\nEncontré un número par 152\nEncontré un número 153\nEncontré un número par 154\nEncontré un número 155\nEncontré un número par 156\nEncontré un número 157\nEncontré un número par 158\nEncontré un número 159\nEncontré un número par 160\nEncontré un número 161\nEncontré un número par 162\nEncontré un número 163\nEncontré un número par 164\nEncontré un número 165\nEncontré un número par 166\nEncontré un número 167\nEncontré un número par 168\nEncontré un número 169\nEncontré un número par 170\nEncontré un número 171\nEncontré un número par 172\nEncontré un número 173\nEncontré un número par 174\nEncontré un número 175\nEncontré un número par 176\nEncontré un número 177\nEncontré un número par 178\nEncontré un número 179\nEncontré un número par 180\nEncontré un número 181\nEncontré un número par 182\nEncontré un número 183\nEncontré un número par 184\nEncontré un número 185\nEncontré un número par 186\nEncontré un número 187\nEncontré un número par 188\nEncontré un número 189\nEncontré un número par 190\nEncontré un número 191\nEncontré un número par 192\nEncontré un número 193\nEncontré un número par 194\nEncontré un número 195\nEncontré un número par 196\nEncontré un número 197\nEncontré un número par 198\nEncontré un número 199\nEncontré un número par 200\nEncontré un número 201\nEncontré un número par 202\nEncontré un número 203\nEncontré un número par 204\nEncontré un número 205\nEncontré un número par 206\nEncontré un número 207\nEncontré un número par 208\nEncontré un número 209\nEncontré un número par 210\nEncontré un número 211\nEncontré un número par 212\nEncontré un número 213\nEncontré un número par 214\nEncontré un número 215\nEncontré un número par 216\nEncontré un número 217\nEncontré un número par 218\nEncontré un número 219\nEncontré un número par 220\nEncontré un número 221\nEncontré un número par 222\nEncontré un número 223\nEncontré un número par 224\nEncontré un número 225\nEncontré un número par 226\nEncontré un número 227\nEncontré un número par 228\nEncontré un número 229\nEncontré un número par 230\nEncontré un número 231\nEncontré un número par 232\nEncontré un número 233\nEncontré un número par 234\nEncontré un número 235\nEncontré un número par 236\nEncontré un número 237\nEncontré un número par 238\nEncontré un número 239\nEncontré un número par 240\nEncontré un número 241\nEncontré un número par 242\nEncontré un número 243\nEncontré un número par 244\nEncontré un número 245\nEncontré un número par 246\nEncontré un número 247\nEncontré un número par 248\nEncontré un número 249\nEncontré un número par 250\nEncontré un número 251\nEncontré un número par 252\nEncontré un número 253\nEncontré un número par 254\nEncontré un número 255\nEncontré un número par 256\nEncontré un número 257\nEncontré un número par 258\nEncontré un número 259\nEncontré un número par 260\nEncontré un número 261\nEncontré un número par 262\nEncontré un número 263\nEncontré un número par 264\nEncontré un número 265\nEncontré un número par 266\nEncontré un número 267\nEncontré un número par 268\nEncontré un número 269\nEncontré un número par 270\nEncontré un número 271\nEncontré un número par 272\nEncontré un número 273\nEncontré un número par 274\nEncontré un número 275\nEncontré un número par 276\nEncontré un número 277\nEncontré un número par 278\nEncontré un número 279\nEncontré un número par 280\nEncontré un número 281\nEncontré un número par 282\nEncontré un número 283\nEncontré un número par 284\nEncontré un número 285\nEncontré un número par 286\nEncontré un número 287\nEncontré un número par 288\nEncontré un número 289\nEncontré un número par 290\nEncontré un número 291\nEncontré un número par 292\nEncontré un número 293\nEncontré un número par 294\nEncontré un número 295\nEncontré un número par 296\nEncontré un número 297\nEncontré un número par 298\nEncontré un número 299\nEncontré un número par 300\nEncontré un número 301\nEncontré un número par 302\nEncontré un número 303\nEncontré un número par 304\nEncontré un número 305\nEncontré un número par 306\nEncontré un número 307\nEncontré un número par 308\nEncontré un número 309\nEncontré un número par 310\nEncontré un número 311\nEncontré un número par 312\nEncontré un número 313\nEncontré un número par 314\nEncontré un número 315\nEncontré un número par 316\nEncontré un número 317\nEncontré un número par 318\nEncontré un número 319\nEncontré un número par 320\nEncontré un número 321\nEncontré un número par 322\nEncontré un número 323\nEncontré un número par 324\nEncontré un número 325\nEncontré un número par 326\nEncontré un número 327\nEncontré un número par 328\nEncontré un número 329\nEncontré un número par 330\nEncontré un número 331\nEncontré un número par 332\nEncontré un número 333\nEncontré un número par 334\nEncontré un número 335\nEncontré un número par 336\nEncontré un número 337\nEncontré un número par 338\nEncontré un número 339\nEncontré un número par 340\nEncontré un número 341\nEncontré un número par 342\nEncontré un número 343\nEncontré un número par 344\nEncontré un número 345\nEncontré un número par 346\nEncontré un número 347\nEncontré un número par 348\nEncontré un número 349\nEncontré un número par 350\nEncontré un número 351\nEncontré un número par 352\nEncontré un número 353\nEncontré un número par 354\nEncontré un número 355\nEncontré un número par 356\nEncontré un número 357\nEncontré un número par 358\nEncontré un número 359\nEncontré un número par 360\nEncontré un número 361\nEncontré un número par 362\nEncontré un número 363\nEncontré un número par 364\nEncontré un número 365\nEncontré un número par 366\nEncontré un número 367\nEncontré un número par 368\nEncontré un número 369\nEncontré un número par 370\nEncontré un número 371\nEncontré un número par 372\nEncontré un número 373\nEncontré un número par 374\nEncontré un número 375\nEncontré un número par 376\nEncontré un número 377\nEncontré un número par 378\nEncontré un número 379\nEncontré un número par 380\nEncontré un número 381\nEncontré un número par 382\nEncontré un número 383\nEncontré un número par 384\nEncontré un número 385\nEncontré un número par 386\nEncontré un número 387\nEncontré un número par 388\nEncontré un número 389\nEncontré un número par 390\nEncontré un número 391\nEncontré un número par 392\nEncontré un número 393\nEncontré un número par 394\nEncontré un número 395\nEncontré un número par 396\nEncontré un número 397\nEncontré un número par 398\nEncontré un número 399\nEncontré un número par 400\nEncontré un número 401\nEncontré un número par 402\nEncontré un número 403\nEncontré un número par 404\nEncontré un número 405\nEncontré un número par 406\nEncontré un número 407\nEncontré un número par 408\nEncontré un número 409\nEncontré un número par 410\nEncontré un número 411\nEncontré un número par 412\nEncontré un número 413\nEncontré un número par 414\nEncontré un número 415\nEncontré un número par 416\nEncontré un número 417\nEncontré un número par 418\nEncontré un número 419\nEncontré un número par 420\nEncontré un número 421\nEncontré un número par 422\nEncontré un número 423\nEncontré un número par 424\nEncontré un número 425\nEncontré un número par 426\nEncontré un número 427\nEncontré un número par 428\nEncontré un número 429\nEncontré un número par 430\nEncontré un número 431\nEncontré un número par 432\nEncontré un número 433\nEncontré un número par 434\nEncontré un número 435\nEncontré un número par 436\nEncontré un número 437\nEncontré un número par 438\nEncontré un número 439\nEncontré un número par 440\nEncontré un número 441\nEncontré un número par 442\nEncontré un número 443\nEncontré un número par 444\nEncontré un número 445\nEncontré un número par 446\nEncontré un número 447\nEncontré un número par 448\nEncontré un número 449\nEncontré un número par 450\nEncontré un número 451\nEncontré un número par 452\nEncontré un número 453\nEncontré un número par 454\nEncontré un número 455\nEncontré un número par 456\nEncontré un número 457\nEncontré un número par 458\nEncontré un número 459\nEncontré un número par 460\nEncontré un número 461\nEncontré un número par 462\nEncontré un número 463\nEncontré un número par 464\nEncontré un número 465\nEncontré un número par 466\nEncontré un número 467\nEncontré un número par 468\nEncontré un número 469\nEncontré un número par 470\nEncontré un número 471\nEncontré un número par 472\nEncontré un número 473\nEncontré un número par 474\nEncontré un número 475\nEncontré un número par 476\nEncontré un número 477\nEncontré un número par 478\nEncontré un número 479\nEncontré un número par 480\nEncontré un número 481\nEncontré un número par 482\nEncontré un número 483\nEncontré un número par 484\nEncontré un número 485\nEncontré un número par 486\nEncontré un número 487\nEncontré un número par 488\nEncontré un número 489\nEncontré un número par 490\nEncontré un número 491\nEncontré un número par 492\nEncontré un número 493\nEncontré un número par 494\nEncontré un número 495\nEncontré un número par 496\nEncontré un número 497\nEncontré un número par 498\nEncontré un número 499\nEncontré un número par 500\nEncontré un número 501\nEncontré un número par 502\nEncontré un número 503\nEncontré un número par 504\nEncontré un número 505\nEncontré un número par 506\nEncontré un número 507\nEncontré un número par 508\nEncontré un número 509\nEncontré un número par 510\nEncontré un número 511\nEncontré un número par 512\nEncontré un número 513\nEncontré un número par 514\nEncontré un número 515\nEncontré un número par 516\nEncontré un número 517\nEncontré un número par 518\nEncontré un número 519\nEncontré un número par 520\nEncontré un número 521\nEncontré un número par 522\nEncontré un número 523\nEncontré un número par 524\nEncontré un número 525\nEncontré un número par 526\nEncontré un número 527\nEncontré un número par 528\nEncontré un número 529\nEncontré un número par 530\nEncontré un número 531\nEncontré un número par 532\nEncontré un número 533\nEncontré un número par 534\nEncontré un número 535\nEncontré un número par 536\nEncontré un número 537\nEncontré un número par 538\nEncontré un número 539\nEncontré un número par 540\nEncontré un número 541\nEncontré un número par 542\nEncontré un número 543\nEncontré un número par 544\nEncontré un número 545\nEncontré un número par 546\nEncontré un número 547\nEncontré un número par 548\nEncontré un número 549\nEncontré un número par 550\nEncontré un número 551\nEncontré un número par 552\nEncontré un número 553\nEncontré un número par 554\nEncontré un número 555\nEncontré un número par 556\nEncontré un número 557\nEncontré un número par 558\nEncontré un número 559\nEncontré un número par 560\nEncontré un número 561\nEncontré un número par 562\nEncontré un número 563\nEncontré un número par 564\nEncontré un número 565\nEncontré un número par 566\nEncontré un número 567\nEncontré un número par 568\nEncontré un número 569\nEncontré un número par 570\nEncontré un número 571\nEncontré un número par 572\nEncontré un número 573\nEncontré un número par 574\nEncontré un número 575\nEncontré un número par 576\nEncontré un número 577\nEncontré un número par 578\nEncontré un número 579\nEncontré un número par 580\nEncontré un número 581\nEncontré un número par 582\nEncontré un número 583\nEncontré un número par 584\nEncontré un número 585\nEncontré un número par 586\nEncontré un número 587\nEncontré un número par 588\nEncontré un número 589\nEncontré un número par 590\nEncontré un número 591\nEncontré un número par 592\nEncontré un número 593\nEncontré un número par 594\nEncontré un número 595\nEncontré un número par 596\nEncontré un número 597\nEncontré un número par 598\nEncontré un número 599\nEncontré un número par 600\nEncontré un número 601\nEncontré un número par 602\nEncontré un número 603\nEncontré un número par 604\nEncontré un número 605\nEncontré un número par 606\nEncontré un número 607\nEncontré un número par 608\nEncontré un número 609\nEncontré un número par 610\nEncontré un número 611\nEncontré un número par 612\nEncontré un número 613\nEncontré un número par 614\nEncontré un número 615\nEncontré un número par 616\nEncontré un número 617\nEncontré un número par 618\nEncontré un número 619\nEncontré un número par 620\nEncontré un número 621\nEncontré un número par 622\nEncontré un número 623\nEncontré un número par 624\nEncontré un número 625\nEncontré un número par 626\nEncontré un número 627\nEncontré un número par 628\nEncontré un número 629\nEncontré un número par 630\nEncontré un número 631\nEncontré un número par 632\nEncontré un número 633\nEncontré un número par 634\nEncontré un número 635\nEncontré un número par 636\nEncontré un número 637\nEncontré un número par 638\nEncontré un número 639\nEncontré un número par 640\nEncontré un número 641\nEncontré un número par 642\nEncontré un número 643\nEncontré un número par 644\nEncontré un número 645\nEncontré un número par 646\nEncontré un número 647\nEncontré un número par 648\nEncontré un número 649\nEncontré un número par 650\nEncontré un número 651\nEncontré un número par 652\nEncontré un número 653\nEncontré un número par 654\nEncontré un número 655\nEncontré un número par 656\nEncontré un número 657\nEncontré un número par 658\nEncontré un número 659\nEncontré un número par 660\nEncontré un número 661\nEncontré un número par 662\nEncontré un número 663\nEncontré un número par 664\nEncontré un número 665\nEncontré un número par 666\nEncontré un número 667\nEncontré un número par 668\nEncontré un número 669\nEncontré un número par 670\nEncontré un número 671\nEncontré un número par 672\nEncontré un número 673\nEncontré un número par 674\nEncontré un número 675\nEncontré un número par 676\nEncontré un número 677\nEncontré un número par 678\nEncontré un número 679\nEncontré un número par 680\nEncontré un número 681\nEncontré un número par 682\nEncontré un número 683\nEncontré un número par 684\nEncontré un número 685\nEncontré un número par 686\n",
          "name": "stdout"
        },
        {
          "output_type": "stream",
          "text": "Encontré un número 687\nEncontré un número par 688\nEncontré un número 689\nEncontré un número par 690\nEncontré un número 691\nEncontré un número par 692\nEncontré un número 693\nEncontré un número par 694\nEncontré un número 695\nEncontré un número par 696\nEncontré un número 697\nEncontré un número par 698\nEncontré un número 699\nEncontré un número par 700\nEncontré un número 701\nEncontré un número par 702\nEncontré un número 703\nEncontré un número par 704\nEncontré un número 705\nEncontré un número par 706\nEncontré un número 707\nEncontré un número par 708\nEncontré un número 709\nEncontré un número par 710\nEncontré un número 711\nEncontré un número par 712\nEncontré un número 713\nEncontré un número par 714\nEncontré un número 715\nEncontré un número par 716\nEncontré un número 717\nEncontré un número par 718\nEncontré un número 719\nEncontré un número par 720\nEncontré un número 721\nEncontré un número par 722\nEncontré un número 723\nEncontré un número par 724\nEncontré un número 725\nEncontré un número par 726\nEncontré un número 727\nEncontré un número par 728\nEncontré un número 729\nEncontré un número par 730\nEncontré un número 731\nEncontré un número par 732\nEncontré un número 733\nEncontré un número par 734\nEncontré un número 735\nEncontré un número par 736\nEncontré un número 737\nEncontré un número par 738\nEncontré un número 739\nEncontré un número par 740\nEncontré un número 741\nEncontré un número par 742\nEncontré un número 743\nEncontré un número par 744\nEncontré un número 745\nEncontré un número par 746\nEncontré un número 747\nEncontré un número par 748\nEncontré un número 749\nEncontré un número par 750\nEncontré un número 751\nEncontré un número par 752\nEncontré un número 753\nEncontré un número par 754\nEncontré un número 755\nEncontré un número par 756\nEncontré un número 757\nEncontré un número par 758\nEncontré un número 759\nEncontré un número par 760\nEncontré un número 761\nEncontré un número par 762\nEncontré un número 763\nEncontré un número par 764\nEncontré un número 765\nEncontré un número par 766\nEncontré un número 767\nEncontré un número par 768\nEncontré un número 769\nEncontré un número par 770\nEncontré un número 771\nEncontré un número par 772\nEncontré un número 773\nEncontré un número par 774\nEncontré un número 775\nEncontré un número par 776\nEncontré un número 777\nEncontré un número par 778\nEncontré un número 779\nEncontré un número par 780\nEncontré un número 781\nEncontré un número par 782\nEncontré un número 783\nEncontré un número par 784\nEncontré un número 785\nEncontré un número par 786\nEncontré un número 787\nEncontré un número par 788\nEncontré un número 789\nEncontré un número par 790\nEncontré un número 791\nEncontré un número par 792\nEncontré un número 793\nEncontré un número par 794\nEncontré un número 795\nEncontré un número par 796\nEncontré un número 797\nEncontré un número par 798\nEncontré un número 799\nEncontré un número par 800\nEncontré un número 801\nEncontré un número par 802\nEncontré un número 803\nEncontré un número par 804\nEncontré un número 805\nEncontré un número par 806\nEncontré un número 807\nEncontré un número par 808\nEncontré un número 809\nEncontré un número par 810\nEncontré un número 811\nEncontré un número par 812\nEncontré un número 813\nEncontré un número par 814\nEncontré un número 815\nEncontré un número par 816\nEncontré un número 817\nEncontré un número par 818\nEncontré un número 819\nEncontré un número par 820\nEncontré un número 821\nEncontré un número par 822\nEncontré un número 823\nEncontré un número par 824\nEncontré un número 825\nEncontré un número par 826\nEncontré un número 827\nEncontré un número par 828\nEncontré un número 829\nEncontré un número par 830\nEncontré un número 831\nEncontré un número par 832\nEncontré un número 833\nEncontré un número par 834\nEncontré un número 835\nEncontré un número par 836\nEncontré un número 837\nEncontré un número par 838\nEncontré un número 839\nEncontré un número par 840\nEncontré un número 841\nEncontré un número par 842\nEncontré un número 843\nEncontré un número par 844\nEncontré un número 845\nEncontré un número par 846\nEncontré un número 847\nEncontré un número par 848\nEncontré un número 849\nEncontré un número par 850\nEncontré un número 851\nEncontré un número par 852\nEncontré un número 853\nEncontré un número par 854\nEncontré un número 855\nEncontré un número par 856\nEncontré un número 857\nEncontré un número par 858\nEncontré un número 859\nEncontré un número par 860\nEncontré un número 861\nEncontré un número par 862\nEncontré un número 863\nEncontré un número par 864\nEncontré un número 865\nEncontré un número par 866\nEncontré un número 867\nEncontré un número par 868\nEncontré un número 869\nEncontré un número par 870\nEncontré un número 871\nEncontré un número par 872\nEncontré un número 873\nEncontré un número par 874\nEncontré un número 875\nEncontré un número par 876\nEncontré un número 877\nEncontré un número par 878\nEncontré un número 879\nEncontré un número par 880\nEncontré un número 881\nEncontré un número par 882\nEncontré un número 883\nEncontré un número par 884\nEncontré un número 885\nEncontré un número par 886\nEncontré un número 887\nEncontré un número par 888\nEncontré un número 889\nEncontré un número par 890\nEncontré un número 891\nEncontré un número par 892\nEncontré un número 893\nEncontré un número par 894\nEncontré un número 895\nEncontré un número par 896\nEncontré un número 897\nEncontré un número par 898\nEncontré un número 899\nEncontré un número par 900\nEncontré un número 901\nEncontré un número par 902\nEncontré un número 903\nEncontré un número par 904\nEncontré un número 905\nEncontré un número par 906\nEncontré un número 907\nEncontré un número par 908\nEncontré un número 909\nEncontré un número par 910\nEncontré un número 911\nEncontré un número par 912\nEncontré un número 913\nEncontré un número par 914\nEncontré un número 915\nEncontré un número par 916\nEncontré un número 917\nEncontré un número par 918\nEncontré un número 919\nEncontré un número par 920\nEncontré un número 921\nEncontré un número par 922\nEncontré un número 923\nEncontré un número par 924\nEncontré un número 925\nEncontré un número par 926\nEncontré un número 927\nEncontré un número par 928\nEncontré un número 929\nEncontré un número par 930\nEncontré un número 931\nEncontré un número par 932\nEncontré un número 933\nEncontré un número par 934\nEncontré un número 935\nEncontré un número par 936\nEncontré un número 937\nEncontré un número par 938\nEncontré un número 939\nEncontré un número par 940\nEncontré un número 941\nEncontré un número par 942\nEncontré un número 943\nEncontré un número par 944\nEncontré un número 945\nEncontré un número par 946\nEncontré un número 947\nEncontré un número par 948\nEncontré un número 949\nEncontré un número par 950\nEncontré un número 951\nEncontré un número par 952\nEncontré un número 953\nEncontré un número par 954\nEncontré un número 955\nEncontré un número par 956\nEncontré un número 957\nEncontré un número par 958\nEncontré un número 959\nEncontré un número par 960\nEncontré un número 961\nEncontré un número par 962\nEncontré un número 963\nEncontré un número par 964\nEncontré un número 965\nEncontré un número par 966\nEncontré un número 967\nEncontré un número par 968\nEncontré un número 969\nEncontré un número par 970\nEncontré un número 971\nEncontré un número par 972\nEncontré un número 973\nEncontré un número par 974\nEncontré un número 975\nEncontré un número par 976\nEncontré un número 977\nEncontré un número par 978\nEncontré un número 979\nEncontré un número par 980\nEncontré un número 981\nEncontré un número par 982\nEncontré un número 983\nEncontré un número par 984\nEncontré un número 985\nEncontré un número par 986\nEncontré un número 987\nEncontré un número par 988\nEncontré un número 989\nEncontré un número par 990\nEncontré un número 991\nEncontré un número par 992\nEncontré un número 993\nEncontré un número par 994\nEncontré un número 995\nEncontré un número par 996\nEncontré un número 997\nEncontré un número par 998\nEncontré un número 999\nEncontré un número par 1000\nEncontré un número 1001\nEncontré un número par 1002\nEncontré un número 1003\nEncontré un número par 1004\nEncontré un número 1005\nEncontré un número par 1006\nEncontré un número 1007\nEncontré un número par 1008\nEncontré un número 1009\nEncontré un número par 1010\nEncontré un número 1011\nEncontré un número par 1012\nEncontré un número 1013\nEncontré un número par 1014\nEncontré un número 1015\nEncontré un número par 1016\nEncontré un número 1017\nEncontré un número par 1018\nEncontré un número 1019\nEncontré un número par 1020\nEncontré un número 1021\nEncontré un número par 1022\nEncontré un número 1023\nEncontré un número par 1024\nEncontré un número 1025\nEncontré un número par 1026\nEncontré un número 1027\nEncontré un número par 1028\nEncontré un número 1029\nEncontré un número par 1030\nEncontré un número 1031\nEncontré un número par 1032\nEncontré un número 1033\nEncontré un número par 1034\nEncontré un número 1035\nEncontré un número par 1036\nEncontré un número 1037\nEncontré un número par 1038\nEncontré un número 1039\nEncontré un número par 1040\nEncontré un número 1041\nEncontré un número par 1042\nEncontré un número 1043\nEncontré un número par 1044\nEncontré un número 1045\nEncontré un número par 1046\nEncontré un número 1047\nEncontré un número par 1048\nEncontré un número 1049\nEncontré un número par 1050\nEncontré un número 1051\nEncontré un número par 1052\nEncontré un número 1053\nEncontré un número par 1054\nEncontré un número 1055\nEncontré un número par 1056\nEncontré un número 1057\nEncontré un número par 1058\nEncontré un número 1059\nEncontré un número par 1060\nEncontré un número 1061\nEncontré un número par 1062\nEncontré un número 1063\nEncontré un número par 1064\nEncontré un número 1065\nEncontré un número par 1066\nEncontré un número 1067\nEncontré un número par 1068\nEncontré un número 1069\nEncontré un número par 1070\nEncontré un número 1071\nEncontré un número par 1072\nEncontré un número 1073\nEncontré un número par 1074\nEncontré un número 1075\nEncontré un número par 1076\nEncontré un número 1077\nEncontré un número par 1078\nEncontré un número 1079\nEncontré un número par 1080\nEncontré un número 1081\nEncontré un número par 1082\nEncontré un número 1083\nEncontré un número par 1084\nEncontré un número 1085\nEncontré un número par 1086\nEncontré un número 1087\nEncontré un número par 1088\nEncontré un número 1089\nEncontré un número par 1090\nEncontré un número 1091\nEncontré un número par 1092\nEncontré un número 1093\nEncontré un número par 1094\nEncontré un número 1095\nEncontré un número par 1096\nEncontré un número 1097\nEncontré un número par 1098\nEncontré un número 1099\nEncontré un número par 1100\nEncontré un número 1101\nEncontré un número par 1102\nEncontré un número 1103\nEncontré un número par 1104\nEncontré un número 1105\nEncontré un número par 1106\nEncontré un número 1107\nEncontré un número par 1108\nEncontré un número 1109\nEncontré un número par 1110\nEncontré un número 1111\nEncontré un número par 1112\nEncontré un número 1113\nEncontré un número par 1114\nEncontré un número 1115\nEncontré un número par 1116\nEncontré un número 1117\nEncontré un número par 1118\nEncontré un número 1119\nEncontré un número par 1120\nEncontré un número 1121\nEncontré un número par 1122\nEncontré un número 1123\nEncontré un número par 1124\nEncontré un número 1125\nEncontré un número par 1126\nEncontré un número 1127\nEncontré un número par 1128\nEncontré un número 1129\nEncontré un número par 1130\nEncontré un número 1131\nEncontré un número par 1132\nEncontré un número 1133\nEncontré un número par 1134\nEncontré un número 1135\nEncontré un número par 1136\nEncontré un número 1137\nEncontré un número par 1138\nEncontré un número 1139\nEncontré un número par 1140\nEncontré un número 1141\nEncontré un número par 1142\nEncontré un número 1143\nEncontré un número par 1144\nEncontré un número 1145\nEncontré un número par 1146\nEncontré un número 1147\nEncontré un número par 1148\nEncontré un número 1149\nEncontré un número par 1150\nEncontré un número 1151\nEncontré un número par 1152\nEncontré un número 1153\nEncontré un número par 1154\nEncontré un número 1155\nEncontré un número par 1156\nEncontré un número 1157\nEncontré un número par 1158\nEncontré un número 1159\nEncontré un número par 1160\nEncontré un número 1161\nEncontré un número par 1162\nEncontré un número 1163\nEncontré un número par 1164\nEncontré un número 1165\nEncontré un número par 1166\nEncontré un número 1167\nEncontré un número par 1168\nEncontré un número 1169\nEncontré un número par 1170\nEncontré un número 1171\nEncontré un número par 1172\nEncontré un número 1173\nEncontré un número par 1174\nEncontré un número 1175\nEncontré un número par 1176\nEncontré un número 1177\nEncontré un número par 1178\nEncontré un número 1179\nEncontré un número par 1180\nEncontré un número 1181\nEncontré un número par 1182\nEncontré un número 1183\nEncontré un número par 1184\nEncontré un número 1185\nEncontré un número par 1186\nEncontré un número 1187\nEncontré un número par 1188\nEncontré un número 1189\nEncontré un número par 1190\nEncontré un número 1191\nEncontré un número par 1192\nEncontré un número 1193\nEncontré un número par 1194\nEncontré un número 1195\nEncontré un número par 1196\nEncontré un número 1197\nEncontré un número par 1198\nEncontré un número 1199\nEncontré un número par 1200\nEncontré un número 1201\nEncontré un número par 1202\nEncontré un número 1203\nEncontré un número par 1204\nEncontré un número 1205\nEncontré un número par 1206\nEncontré un número 1207\nEncontré un número par 1208\nEncontré un número 1209\nEncontré un número par 1210\nEncontré un número 1211\nEncontré un número par 1212\nEncontré un número 1213\nEncontré un número par 1214\nEncontré un número 1215\nEncontré un número par 1216\nEncontré un número 1217\nEncontré un número par 1218\nEncontré un número 1219\nEncontré un número par 1220\nEncontré un número 1221\nEncontré un número par 1222\nEncontré un número 1223\nEncontré un número par 1224\nEncontré un número 1225\nEncontré un número par 1226\nEncontré un número 1227\nEncontré un número par 1228\nEncontré un número 1229\nEncontré un número par 1230\nEncontré un número 1231\nEncontré un número par 1232\nEncontré un número 1233\nEncontré un número par 1234\nEncontré un número 1235\nEncontré un número par 1236\nEncontré un número 1237\nEncontré un número par 1238\nEncontré un número 1239\nEncontré un número par 1240\nEncontré un número 1241\nEncontré un número par 1242\nEncontré un número 1243\nEncontré un número par 1244\nEncontré un número 1245\nEncontré un número par 1246\nEncontré un número 1247\nEncontré un número par 1248\nEncontré un número 1249\nEncontré un número par 1250\nEncontré un número 1251\nEncontré un número par 1252\nEncontré un número 1253\nEncontré un número par 1254\nEncontré un número 1255\nEncontré un número par 1256\nEncontré un número 1257\nEncontré un número par 1258\nEncontré un número 1259\nEncontré un número par 1260\nEncontré un número 1261\nEncontré un número par 1262\nEncontré un número 1263\nEncontré un número par 1264\nEncontré un número 1265\nEncontré un número par 1266\nEncontré un número 1267\nEncontré un número par 1268\nEncontré un número 1269\nEncontré un número par 1270\nEncontré un número 1271\nEncontré un número par 1272\nEncontré un número 1273\nEncontré un número par 1274\nEncontré un número 1275\nEncontré un número par 1276\nEncontré un número 1277\nEncontré un número par 1278\nEncontré un número 1279\nEncontré un número par 1280\nEncontré un número 1281\nEncontré un número par 1282\nEncontré un número 1283\nEncontré un número par 1284\nEncontré un número 1285\nEncontré un número par 1286\nEncontré un número 1287\nEncontré un número par 1288\nEncontré un número 1289\nEncontré un número par 1290\nEncontré un número 1291\nEncontré un número par 1292\nEncontré un número 1293\nEncontré un número par 1294\nEncontré un número 1295\nEncontré un número par 1296\nEncontré un número 1297\nEncontré un número par 1298\nEncontré un número 1299\nEncontré un número par 1300\nEncontré un número 1301\nEncontré un número par 1302\nEncontré un número 1303\nEncontré un número par 1304\nEncontré un número 1305\nEncontré un número par 1306\nEncontré un número 1307\nEncontré un número par 1308\nEncontré un número 1309\nEncontré un número par 1310\nEncontré un número 1311\nEncontré un número par 1312\nEncontré un número 1313\nEncontré un número par 1314\nEncontré un número 1315\nEncontré un número par 1316\nEncontré un número 1317\nEncontré un número par 1318\nEncontré un número 1319\nEncontré un número par 1320\nEncontré un número 1321\nEncontré un número par 1322\nEncontré un número 1323\nEncontré un número par 1324\nEncontré un número 1325\nEncontré un número par 1326\nEncontré un número 1327\nEncontré un número par 1328\nEncontré un número 1329\nEncontré un número par 1330\nEncontré un número 1331\nEncontré un número par 1332\nEncontré un número 1333\nEncontré un número par 1334\nEncontré un número 1335\nEncontré un número par 1336\nEncontré un número 1337\nEncontré un número par 1338\nEncontré un número 1339\nEncontré un número par 1340\nEncontré un número 1341\nEncontré un número par 1342\nEncontré un número 1343\nEncontré un número par 1344\nEncontré un número 1345\n",
          "name": "stdout"
        },
        {
          "output_type": "stream",
          "text": "Encontré un número par 1346\nEncontré un número 1347\nEncontré un número par 1348\nEncontré un número 1349\nEncontré un número par 1350\nEncontré un número 1351\nEncontré un número par 1352\nEncontré un número 1353\nEncontré un número par 1354\nEncontré un número 1355\nEncontré un número par 1356\nEncontré un número 1357\nEncontré un número par 1358\nEncontré un número 1359\nEncontré un número par 1360\nEncontré un número 1361\nEncontré un número par 1362\nEncontré un número 1363\nEncontré un número par 1364\nEncontré un número 1365\nEncontré un número par 1366\nEncontré un número 1367\nEncontré un número par 1368\nEncontré un número 1369\nEncontré un número par 1370\nEncontré un número 1371\nEncontré un número par 1372\nEncontré un número 1373\nEncontré un número par 1374\nEncontré un número 1375\nEncontré un número par 1376\nEncontré un número 1377\nEncontré un número par 1378\nEncontré un número 1379\nEncontré un número par 1380\nEncontré un número 1381\nEncontré un número par 1382\nEncontré un número 1383\nEncontré un número par 1384\nEncontré un número 1385\nEncontré un número par 1386\nEncontré un número 1387\nEncontré un número par 1388\nEncontré un número 1389\nEncontré un número par 1390\nEncontré un número 1391\nEncontré un número par 1392\nEncontré un número 1393\nEncontré un número par 1394\nEncontré un número 1395\nEncontré un número par 1396\nEncontré un número 1397\nEncontré un número par 1398\nEncontré un número 1399\nEncontré un número par 1400\nEncontré un número 1401\nEncontré un número par 1402\nEncontré un número 1403\nEncontré un número par 1404\nEncontré un número 1405\nEncontré un número par 1406\nEncontré un número 1407\nEncontré un número par 1408\nEncontré un número 1409\nEncontré un número par 1410\nEncontré un número 1411\nEncontré un número par 1412\nEncontré un número 1413\nEncontré un número par 1414\nEncontré un número 1415\nEncontré un número par 1416\nEncontré un número 1417\nEncontré un número par 1418\nEncontré un número 1419\nEncontré un número par 1420\nEncontré un número 1421\nEncontré un número par 1422\nEncontré un número 1423\nEncontré un número par 1424\nEncontré un número 1425\nEncontré un número par 1426\nEncontré un número 1427\nEncontré un número par 1428\nEncontré un número 1429\nEncontré un número par 1430\nEncontré un número 1431\nEncontré un número par 1432\nEncontré un número 1433\nEncontré un número par 1434\nEncontré un número 1435\nEncontré un número par 1436\nEncontré un número 1437\nEncontré un número par 1438\nEncontré un número 1439\nEncontré un número par 1440\nEncontré un número 1441\nEncontré un número par 1442\nEncontré un número 1443\nEncontré un número par 1444\nEncontré un número 1445\nEncontré un número par 1446\nEncontré un número 1447\nEncontré un número par 1448\nEncontré un número 1449\nEncontré un número par 1450\nEncontré un número 1451\nEncontré un número par 1452\nEncontré un número 1453\nEncontré un número par 1454\nEncontré un número 1455\nEncontré un número par 1456\nEncontré un número 1457\nEncontré un número par 1458\nEncontré un número 1459\nEncontré un número par 1460\nEncontré un número 1461\nEncontré un número par 1462\nEncontré un número 1463\nEncontré un número par 1464\nEncontré un número 1465\nEncontré un número par 1466\nEncontré un número 1467\nEncontré un número par 1468\nEncontré un número 1469\nEncontré un número par 1470\nEncontré un número 1471\nEncontré un número par 1472\nEncontré un número 1473\nEncontré un número par 1474\nEncontré un número 1475\nEncontré un número par 1476\nEncontré un número 1477\nEncontré un número par 1478\nEncontré un número 1479\nEncontré un número par 1480\nEncontré un número 1481\nEncontré un número par 1482\nEncontré un número 1483\nEncontré un número par 1484\nEncontré un número 1485\nEncontré un número par 1486\nEncontré un número 1487\nEncontré un número par 1488\nEncontré un número 1489\nEncontré un número par 1490\nEncontré un número 1491\nEncontré un número par 1492\nEncontré un número 1493\nEncontré un número par 1494\nEncontré un número 1495\nEncontré un número par 1496\nEncontré un número 1497\nEncontré un número par 1498\nEncontré un número 1499\nEncontré un número par 1500\nEncontré un número 1501\nEncontré un número par 1502\nEncontré un número 1503\nEncontré un número par 1504\nEncontré un número 1505\nEncontré un número par 1506\nEncontré un número 1507\nEncontré un número par 1508\nEncontré un número 1509\nEncontré un número par 1510\nEncontré un número 1511\nEncontré un número par 1512\nEncontré un número 1513\nEncontré un número par 1514\nEncontré un número 1515\nEncontré un número par 1516\nEncontré un número 1517\nEncontré un número par 1518\nEncontré un número 1519\nEncontré un número par 1520\nEncontré un número 1521\nEncontré un número par 1522\nEncontré un número 1523\nEncontré un número par 1524\nEncontré un número 1525\nEncontré un número par 1526\nEncontré un número 1527\nEncontré un número par 1528\nEncontré un número 1529\nEncontré un número par 1530\nEncontré un número 1531\nEncontré un número par 1532\nEncontré un número 1533\nEncontré un número par 1534\nEncontré un número 1535\nEncontré un número par 1536\nEncontré un número 1537\nEncontré un número par 1538\nEncontré un número 1539\nEncontré un número par 1540\nEncontré un número 1541\nEncontré un número par 1542\nEncontré un número 1543\nEncontré un número par 1544\nEncontré un número 1545\nEncontré un número par 1546\nEncontré un número 1547\nEncontré un número par 1548\nEncontré un número 1549\nEncontré un número par 1550\nEncontré un número 1551\nEncontré un número par 1552\nEncontré un número 1553\nEncontré un número par 1554\nEncontré un número 1555\nEncontré un número par 1556\nEncontré un número 1557\nEncontré un número par 1558\nEncontré un número 1559\nEncontré un número par 1560\nEncontré un número 1561\nEncontré un número par 1562\nEncontré un número 1563\nEncontré un número par 1564\nEncontré un número 1565\nEncontré un número par 1566\nEncontré un número 1567\nEncontré un número par 1568\nEncontré un número 1569\nEncontré un número par 1570\nEncontré un número 1571\nEncontré un número par 1572\nEncontré un número 1573\nEncontré un número par 1574\nEncontré un número 1575\nEncontré un número par 1576\nEncontré un número 1577\nEncontré un número par 1578\nEncontré un número 1579\nEncontré un número par 1580\nEncontré un número 1581\nEncontré un número par 1582\nEncontré un número 1583\nEncontré un número par 1584\nEncontré un número 1585\nEncontré un número par 1586\nEncontré un número 1587\nEncontré un número par 1588\nEncontré un número 1589\nEncontré un número par 1590\nEncontré un número 1591\nEncontré un número par 1592\nEncontré un número 1593\nEncontré un número par 1594\nEncontré un número 1595\nEncontré un número par 1596\nEncontré un número 1597\nEncontré un número par 1598\nEncontré un número 1599\nEncontré un número par 1600\nEncontré un número 1601\nEncontré un número par 1602\nEncontré un número 1603\nEncontré un número par 1604\nEncontré un número 1605\nEncontré un número par 1606\nEncontré un número 1607\nEncontré un número par 1608\nEncontré un número 1609\nEncontré un número par 1610\nEncontré un número 1611\nEncontré un número par 1612\nEncontré un número 1613\nEncontré un número par 1614\nEncontré un número 1615\nEncontré un número par 1616\nEncontré un número 1617\nEncontré un número par 1618\nEncontré un número 1619\nEncontré un número par 1620\nEncontré un número 1621\nEncontré un número par 1622\nEncontré un número 1623\nEncontré un número par 1624\nEncontré un número 1625\nEncontré un número par 1626\nEncontré un número 1627\nEncontré un número par 1628\nEncontré un número 1629\nEncontré un número par 1630\nEncontré un número 1631\nEncontré un número par 1632\nEncontré un número 1633\nEncontré un número par 1634\nEncontré un número 1635\nEncontré un número par 1636\nEncontré un número 1637\nEncontré un número par 1638\nEncontré un número 1639\nEncontré un número par 1640\nEncontré un número 1641\nEncontré un número par 1642\nEncontré un número 1643\nEncontré un número par 1644\nEncontré un número 1645\nEncontré un número par 1646\nEncontré un número 1647\nEncontré un número par 1648\nEncontré un número 1649\nEncontré un número par 1650\nEncontré un número 1651\nEncontré un número par 1652\nEncontré un número 1653\nEncontré un número par 1654\nEncontré un número 1655\nEncontré un número par 1656\nEncontré un número 1657\nEncontré un número par 1658\nEncontré un número 1659\nEncontré un número par 1660\nEncontré un número 1661\nEncontré un número par 1662\nEncontré un número 1663\nEncontré un número par 1664\nEncontré un número 1665\nEncontré un número par 1666\nEncontré un número 1667\nEncontré un número par 1668\nEncontré un número 1669\nEncontré un número par 1670\nEncontré un número 1671\nEncontré un número par 1672\nEncontré un número 1673\nEncontré un número par 1674\nEncontré un número 1675\nEncontré un número par 1676\nEncontré un número 1677\nEncontré un número par 1678\nEncontré un número 1679\nEncontré un número par 1680\nEncontré un número 1681\nEncontré un número par 1682\nEncontré un número 1683\nEncontré un número par 1684\nEncontré un número 1685\nEncontré un número par 1686\nEncontré un número 1687\nEncontré un número par 1688\nEncontré un número 1689\nEncontré un número par 1690\nEncontré un número 1691\nEncontré un número par 1692\nEncontré un número 1693\nEncontré un número par 1694\nEncontré un número 1695\nEncontré un número par 1696\nEncontré un número 1697\nEncontré un número par 1698\nEncontré un número 1699\nEncontré un número par 1700\nEncontré un número 1701\nEncontré un número par 1702\nEncontré un número 1703\nEncontré un número par 1704\nEncontré un número 1705\nEncontré un número par 1706\nEncontré un número 1707\nEncontré un número par 1708\nEncontré un número 1709\nEncontré un número par 1710\nEncontré un número 1711\nEncontré un número par 1712\nEncontré un número 1713\nEncontré un número par 1714\nEncontré un número 1715\nEncontré un número par 1716\nEncontré un número 1717\nEncontré un número par 1718\nEncontré un número 1719\nEncontré un número par 1720\nEncontré un número 1721\nEncontré un número par 1722\nEncontré un número 1723\nEncontré un número par 1724\nEncontré un número 1725\nEncontré un número par 1726\nEncontré un número 1727\nEncontré un número par 1728\nEncontré un número 1729\nEncontré un número par 1730\nEncontré un número 1731\nEncontré un número par 1732\nEncontré un número 1733\nEncontré un número par 1734\nEncontré un número 1735\nEncontré un número par 1736\nEncontré un número 1737\nEncontré un número par 1738\nEncontré un número 1739\nEncontré un número par 1740\nEncontré un número 1741\nEncontré un número par 1742\nEncontré un número 1743\nEncontré un número par 1744\nEncontré un número 1745\nEncontré un número par 1746\nEncontré un número 1747\nEncontré un número par 1748\nEncontré un número 1749\nEncontré un número par 1750\nEncontré un número 1751\nEncontré un número par 1752\nEncontré un número 1753\nEncontré un número par 1754\nEncontré un número 1755\nEncontré un número par 1756\nEncontré un número 1757\nEncontré un número par 1758\nEncontré un número 1759\nEncontré un número par 1760\nEncontré un número 1761\nEncontré un número par 1762\nEncontré un número 1763\nEncontré un número par 1764\n",
          "name": "stdout"
        }
      ]
    },
    {
      "metadata": {
        "id": "poI8TuEfhcSo",
        "colab_type": "code",
        "colab": {},
        "trusted": false
      },
      "cell_type": "markdown",
      "source": "<hr>\n<h2 style=\"color:#30B2FA\">La sentencia pass</h2>\n<p>La sentencia pass no hace nada. Se puede usar cuando una sentencia es requerida por la sintáxis pero el programa no\nrequiere ninguna acción. Por ejemplo:</p>"
    },
    {
      "metadata": {
        "id": "AyWUFgXghcK1",
        "colab_type": "code",
        "colab": {
          "base_uri": "https://localhost:8080/",
          "height": 191
        },
        "outputId": "74ba0a3a-95fc-4efe-f528-c5d43ed2a14d",
        "trusted": true
      },
      "cell_type": "code",
      "source": "while True:\n  pass # Espera ocupada hasta una interrupción de teclado (Ctrl+C)",
      "execution_count": 274,
      "outputs": [
        {
          "output_type": "error",
          "ename": "KeyboardInterrupt",
          "evalue": "",
          "traceback": [
            "\u001b[0;31m---------------------------------------------------------------------------\u001b[0m",
            "\u001b[0;31mKeyboardInterrupt\u001b[0m                         Traceback (most recent call last)",
            "\u001b[0;32m<ipython-input-274-67fc8011846c>\u001b[0m in \u001b[0;36m<module>\u001b[0;34m\u001b[0m\n\u001b[1;32m      1\u001b[0m \u001b[0;32mwhile\u001b[0m \u001b[0;32mTrue\u001b[0m\u001b[0;34m:\u001b[0m\u001b[0;34m\u001b[0m\u001b[0m\n\u001b[0;32m----> 2\u001b[0;31m   \u001b[0;32mpass\u001b[0m \u001b[0;31m# Espera ocupada hasta una interrupción de teclado (Ctrl+C)\u001b[0m\u001b[0;34m\u001b[0m\u001b[0m\n\u001b[0m",
            "\u001b[0;31mKeyboardInterrupt\u001b[0m: "
          ]
        }
      ]
    },
    {
      "metadata": {
        "id": "zAM7bFCshcHu",
        "colab_type": "code",
        "colab": {},
        "trusted": false
      },
      "cell_type": "markdown",
      "source": "<p>Se usa normalmente para crear clases en su mínima expresión:</p>"
    },
    {
      "metadata": {
        "id": "HlxhL4zXhcFW",
        "colab_type": "code",
        "colab": {},
        "trusted": true
      },
      "cell_type": "code",
      "source": "class MyEmptyClass:\n  pass\n",
      "execution_count": null,
      "outputs": []
    },
    {
      "metadata": {
        "id": "51s71-zohcCF",
        "colab_type": "code",
        "colab": {},
        "trusted": false
      },
      "cell_type": "markdown",
      "source": "<p>Otro lugar donde se puede usar pass es como una marca de lugar para una función o un cuerpo condicional cuando estás\ntrabajando en código nuevo, lo cual te permite pensar a un nivel de abstracción mayor. El pass se ignora silenciosamente:</p>"
    },
    {
      "metadata": {
        "id": "e8Nv6K4khb-M",
        "colab_type": "code",
        "colab": {},
        "trusted": true
      },
      "cell_type": "code",
      "source": "def initlog(*args):\n  pass # Acordate de implementar esto!",
      "execution_count": null,
      "outputs": []
    },
    {
      "metadata": {
        "id": "HbjFYrXcf9o2",
        "colab_type": "code",
        "colab": {},
        "trusted": false
      },
      "cell_type": "markdown",
      "source": "<hr>\n<h2 style=\"color:#30B2FA\">Definiendo funciones </h2>\n<p>Podemos crear una función que escriba la serie de Fibonacci hasta un límite determinado:</p>"
    },
    {
      "metadata": {
        "id": "X2NSOmDKjckh",
        "colab_type": "code",
        "colab": {
          "base_uri": "https://localhost:8080/",
          "height": 35
        },
        "outputId": "ad4243ef-ca3a-490c-c9eb-1d1c62ee3e6b",
        "trusted": true
      },
      "cell_type": "code",
      "source": "def fib(n): # escribe la serie de Fibonacci hasta n\n  \"\"\"Escribe la serie de Fibonacci hasta n.\"\"\"\n  a, b = 0, 1\n  while a < n:\n    print(a, end=' ')\n    a, b = b, a+b\n  print()\n# Ahora llamamos a la funcion que acabamos de definir:\nfib(2030)",
      "execution_count": 275,
      "outputs": [
        {
          "output_type": "stream",
          "text": "0 1 1 2 3 5 8 13 21 34 55 89 144 233 377 610 987 1597 \n",
          "name": "stdout"
        }
      ]
    },
    {
      "metadata": {
        "id": "pkTYQsUxjciL",
        "colab_type": "code",
        "colab": {
          "base_uri": "https://localhost:8080/",
          "height": 35
        },
        "outputId": "ff141801-5fd6-4546-86bd-ee71bf13f13c",
        "trusted": true
      },
      "cell_type": "code",
      "source": "fib\nf = fib\nf(125)",
      "execution_count": 276,
      "outputs": [
        {
          "output_type": "stream",
          "text": "0 1 1 2 3 5 8 13 21 34 55 89 \n",
          "name": "stdout"
        }
      ]
    },
    {
      "metadata": {
        "id": "-xYKT_Fkjcf0",
        "colab_type": "code",
        "colab": {},
        "trusted": false
      },
      "cell_type": "markdown",
      "source": "<p>Viniendo de otros lenguajes, podemos objetar que fib no es una función, sino un procedimiento, porque no devuelve un valor.\nEntonces, técnicamente hablando, los procedimientos sí retornan un valor, aunque uno aburrido. Este valor se llama None. </p>"
    },
    {
      "metadata": {
        "id": "uJq44P4Ojcdh",
        "colab_type": "code",
        "colab": {
          "base_uri": "https://localhost:8080/",
          "height": 72
        },
        "outputId": "00fa30f5-3af2-409d-df54-b8e8884ac1a5",
        "trusted": true
      },
      "cell_type": "code",
      "source": "fib(0)\nprint(fib(0))\n",
      "execution_count": 277,
      "outputs": [
        {
          "output_type": "stream",
          "text": "\n\nNone\n",
          "name": "stdout"
        }
      ]
    },
    {
      "metadata": {
        "id": "Ga13aIM8jcax",
        "colab_type": "code",
        "colab": {
          "base_uri": "https://localhost:8080/",
          "height": 136
        },
        "outputId": "2c5bddc3-5ff9-45a9-8bc5-88f959d00b86",
        "trusted": false
      },
      "cell_type": "markdown",
      "source": "<p>Es simple escribir una función que retorne una lista con los números de la serie de Fibonacci en lugar de imprimirlos:</p>"
    },
    {
      "metadata": {
        "id": "Ubh9i23RjcXv",
        "colab_type": "code",
        "colab": {
          "base_uri": "https://localhost:8080/",
          "height": 35
        },
        "outputId": "d25cbb2c-dea4-43c0-8026-ea92b6dfaf24",
        "trusted": true
      },
      "cell_type": "code",
      "source": "def fib2(n): # devuelve la serie de Fibonacci hasta n\n  \"\"\"Devuelve una lista conteniendo la serie de Fibonacci hasta n.\"\"\"\n  result = []\n  a, b = 0, 1\n  while a < n:\n    result.append(a) # ver abajo\n    a, b = b, a+b\n  return result\nf100 = fib2(150) # llamarla\nf100 # escribir el resultado\n",
      "execution_count": 278,
      "outputs": [
        {
          "output_type": "execute_result",
          "execution_count": 278,
          "data": {
            "text/plain": "[0, 1, 1, 2, 3, 5, 8, 13, 21, 34, 55, 89, 144]"
          },
          "metadata": {}
        }
      ]
    },
    {
      "metadata": {
        "id": "D9EfLe1FjcUd",
        "colab_type": "code",
        "colab": {},
        "trusted": false
      },
      "cell_type": "markdown",
      "source": "<p>Este ejemplo, como es usual, demuestra algunas características más de Python:</p>"
    },
    {
      "metadata": {},
      "cell_type": "markdown",
      "source": "* La sentencia return devuelve un valor en una función. return sin una expresión como argumento retorna None. Si\nse alcanza el final de una función, también se retorna None.\n* La sentencia result.append(a) llama a un método del objeto lista result. Un método es una función que\n'pertenece' a un objeto y se nombra obj.methodname, dónde obj es algún objeto (puede ser una expresión), y\nmethodname es el nombre del método que está definido por el tipo del objeto. "
    },
    {
      "metadata": {
        "id": "jDB31vcYjcRg",
        "colab_type": "code",
        "colab": {},
        "trusted": false
      },
      "cell_type": "markdown",
      "source": "<hr>\n<h2 style=\"color:#30B2FA\">Más sobre definición de funciones</h2>\n<p>También es posible definir funciones con un número variable de argumentos. Hay tres formas que pueden ser combinadas.</p>\n<h2>Argumentos con valores por omisión</h2>\n<p>La forma más útil es especificar un valor por omisión para uno o más argumentos. Esto crea una función que puede ser\nllamada con menos argumentos que los que permite. Por ejemplo:\n</p>"
    },
    {
      "metadata": {
        "id": "TjJjZl1EjcOv",
        "colab_type": "code",
        "colab": {},
        "trusted": true
      },
      "cell_type": "code",
      "source": "def pedir_confirmacion(prompt, reintentos=4, queja='Si o no, por favor!'):\n  while True:\n    ok = input(prompt)\n    if ok in ('s', 'S', 'si', 'Si', 'SI'):\n      return True\n    if ok in ('n', 'no', 'No', 'NO'):\n      return False\n    reintentos = reintentos - 1\n    if reintentos < 0:\n      raise IOError('usuario duro')\n    print(queja)",
      "execution_count": 279,
      "outputs": []
    },
    {
      "metadata": {},
      "cell_type": "markdown",
      "source": "<p>El ejemplo también introduce la palabra reservada in, la cual prueba si una secuencia contiene o no un determinado\nvalor.\nLos valores por omisión son evaluados en el momento de la definición de la función, en el ámbito de la definición, entonces:\n</p>"
    },
    {
      "metadata": {
        "id": "FgFIVU4UjcFX",
        "colab_type": "code",
        "colab": {
          "base_uri": "https://localhost:8080/",
          "height": 35
        },
        "outputId": "f11d8d88-95fa-4fd9-e54c-16c9a22eee45",
        "trusted": true
      },
      "cell_type": "code",
      "source": "i = 6\ndef f(arg=i):\n print(arg)\ni = 7\nf()\n",
      "execution_count": 280,
      "outputs": [
        {
          "output_type": "stream",
          "text": "6\n",
          "name": "stdout"
        }
      ]
    },
    {
      "metadata": {
        "id": "BAWhPgoYk1wv",
        "colab_type": "code",
        "colab": {},
        "trusted": false
      },
      "cell_type": "markdown",
      "source": "<p>El valor por omisión es evaluado solo una vez. Existe una diferencia cuando el valor por omisión\nes un objeto mutable como una lista, diccionario, o instancia de la mayoría de las clases.</p>"
    },
    {
      "metadata": {
        "id": "8JRuio39k1to",
        "colab_type": "code",
        "colab": {
          "base_uri": "https://localhost:8080/",
          "height": 72
        },
        "outputId": "be34c745-4013-40bd-94f4-ca5b95335ca3",
        "trusted": true
      },
      "cell_type": "code",
      "source": "def f(a, L=[]):\n L.append(a)\n return L\nprint(f(1))\nprint(f(2))\nprint(f(3))\n",
      "execution_count": 281,
      "outputs": [
        {
          "output_type": "stream",
          "text": "[1]\n[1, 2]\n[1, 2, 3]\n",
          "name": "stdout"
        }
      ]
    },
    {
      "metadata": {
        "id": "GAhGMEKsk1of",
        "colab_type": "code",
        "colab": {},
        "trusted": false
      },
      "cell_type": "markdown",
      "source": "<hr>\n<h2 style=\"color:#30B2FA\">Palabras claves como argumentos </h2>\n<p>Las funciones también puede ser llamadas usando argumentos de palabras clave de la forma\nkeyword = value. Por ejemplo, la siguiente función:</p>"
    },
    {
      "metadata": {
        "id": "mk7gZ9Kbk1ll",
        "colab_type": "code",
        "colab": {},
        "trusted": true
      },
      "cell_type": "code",
      "source": "def loro(tension, estado='muerto', accion='explotar', tipo='Cotorro'):\n print(\"-- Este loro no va a\", accion, end=' ')\n print(\"si le aplicás\", tension, \"wats.\")\n print(\"-- Gran pico tiene el\", tipo)\n print(\"-- Está\", estado, \"!\")\n",
      "execution_count": 282,
      "outputs": []
    },
    {
      "metadata": {
        "id": "XUR1KUALk1ik",
        "colab_type": "code",
        "colab": {},
        "trusted": false
      },
      "cell_type": "markdown",
      "source": "<p>...acepta un argumento obligatorio (tension) y tres argumentos opcionales (estado, accion, y tipo). Esta función puede\nllamarse de cualquiera de las siguientes maneras:\n</p>"
    },
    {
      "metadata": {
        "id": "UcYQA8J3k1gF",
        "colab_type": "code",
        "colab": {
          "base_uri": "https://localhost:8080/",
          "height": 294
        },
        "outputId": "10158fd7-f471-416d-9f24-cf689587e953",
        "trusted": true
      },
      "cell_type": "code",
      "source": "loro(2000) # 1 argumento posicional\nloro(tension=2000) # 1 argumento nombrado\nloro(tension=2000000, accion='VOOOOOM') # 2 argumentos nombrados\nloro(accion='VOOOOOM', tension=2000000) # 2 argumentos nombrados\nloro('un millón', 'muerto', 'saltar') # 3 args posicionales",
      "execution_count": 283,
      "outputs": [
        {
          "output_type": "stream",
          "text": "-- Este loro no va a explotar si le aplicás 2000 wats.\n-- Gran pico tiene el Cotorro\n-- Está muerto !\n-- Este loro no va a explotar si le aplicás 2000 wats.\n-- Gran pico tiene el Cotorro\n-- Está muerto !\n-- Este loro no va a VOOOOOM si le aplicás 2000000 wats.\n-- Gran pico tiene el Cotorro\n-- Está muerto !\n-- Este loro no va a VOOOOOM si le aplicás 2000000 wats.\n-- Gran pico tiene el Cotorro\n-- Está muerto !\n-- Este loro no va a saltar si le aplicás un millón wats.\n-- Gran pico tiene el Cotorro\n-- Está muerto !\n",
          "name": "stdout"
        }
      ]
    },
    {
      "metadata": {
        "id": "KCT57cbUk1ba",
        "colab_type": "code",
        "colab": {},
        "trusted": false
      },
      "cell_type": "markdown",
      "source": "<p>Cuando un parámetro formal de la forma nombre está presente al final, recibe un diccionario\nconteniendo todos los argumentos nombrados excepto aquellos correspondientes a un parámetro formal.</p>"
    },
    {
      "metadata": {
        "id": "dPWGio4UlYdC",
        "colab_type": "code",
        "colab": {},
        "trusted": true
      },
      "cell_type": "code",
      "source": "def ventadequeso(tipo, *argumentos, **palabrasclaves):\n  print(\"-- ¿Cuenta\", tipo, \"?\")\n  print(\"-- Lo siento, nos quedamos sin\", tipo)\n  for arg in argumentos:\n    print(arg)\n  print(\"-\" * 40)\n  claves = sorted(palabrasclaves.keys())\n  for c in claves:\n    print(c, \":\", palabrasclaves[c])",
      "execution_count": 284,
      "outputs": []
    },
    {
      "metadata": {
        "id": "aAK5sH48lYYS",
        "colab_type": "code",
        "colab": {
          "base_uri": "https://localhost:8080/",
          "height": 165
        },
        "outputId": "831f6150-d12d-4782-afbb-2c376cecaf5d",
        "trusted": true
      },
      "cell_type": "code",
      "source": "ventadequeso(\"Limburger\", \"Es muy seco, sr.\",\n \"Realmente es muy muy seco, sr.\",\n cliente=\"Abraham Flores\",\n vendedor=\"Gerardo Martínez\",\n puesto=\"Venta de Queso Oaxaca\")",
      "execution_count": 285,
      "outputs": [
        {
          "output_type": "stream",
          "text": "-- ¿Cuenta Limburger ?\n-- Lo siento, nos quedamos sin Limburger\nEs muy seco, sr.\nRealmente es muy muy seco, sr.\n----------------------------------------\ncliente : Abraham Flores\npuesto : Venta de Queso Oaxaca\nvendedor : Gerardo Martínez\n",
          "name": "stdout"
        }
      ]
    },
    {
      "metadata": {
        "id": "2YnIsOCNlYV9",
        "colab_type": "code",
        "colab": {},
        "trusted": false
      },
      "cell_type": "markdown",
      "source": "<hr>\n<h2 style=\"color:#30B2FA\">Listas de argumentos arbitrarios </h2>\n<p>Finalmente, la opción menos frecuentemente usada es especificar que una función puede ser llamada con un número\narbitrario de argumentos. Estos argumentos serán organizados en una tupla. Antes del número\nvariable de argumentos, cero o más argumentos normales pueden estar presentes.:\n</p>"
    },
    {
      "metadata": {
        "id": "4G6F4SlhlYRK",
        "colab_type": "code",
        "colab": {},
        "trusted": true
      },
      "cell_type": "code",
      "source": "def muchos_items(archivo, separador, *args):\n archivo.write(separador.join(args))\n",
      "execution_count": 286,
      "outputs": []
    },
    {
      "metadata": {
        "id": "CaMb51vXl9Cg",
        "colab_type": "code",
        "colab": {},
        "trusted": false
      },
      "cell_type": "markdown",
      "source": "<p>Normalmente estos argumentos de cantidad variables son los últimos en la lista de parámetros formales, porque toman todo\nel remanente de argumentos que se pasan a la función. Cualquier parámetro que suceda luego del *args será 'sólo\nnombrado', o sea que sólo se pueden usar como nombrados y no posicionales.:</p>"
    },
    {
      "metadata": {
        "id": "-NDmcpMHmAV4",
        "colab_type": "code",
        "colab": {},
        "trusted": true
      },
      "cell_type": "code",
      "source": "def concatenar(*args, sep=\"/\"):\n  return sep.join(args)\n",
      "execution_count": 287,
      "outputs": []
    },
    {
      "metadata": {
        "id": "GtDmh2-jmApV",
        "colab_type": "code",
        "colab": {
          "base_uri": "https://localhost:8080/",
          "height": 36
        },
        "outputId": "dd102a47-7f76-4d8c-e1d7-098f08fbab5c",
        "trusted": true
      },
      "cell_type": "code",
      "source": "concatenar(\"jupiter\", \"tierra\", \"neptuno\")",
      "execution_count": 288,
      "outputs": [
        {
          "output_type": "execute_result",
          "execution_count": 288,
          "data": {
            "text/plain": "'jupiter/tierra/neptuno'"
          },
          "metadata": {}
        }
      ]
    },
    {
      "metadata": {
        "id": "asqUekwcmAzG",
        "colab_type": "code",
        "colab": {
          "base_uri": "https://localhost:8080/",
          "height": 36
        },
        "outputId": "0785c74c-efdb-4eb9-be37-bfc5899a6d91",
        "trusted": true
      },
      "cell_type": "code",
      "source": "concatenar(\"jupiter\", \"tierra\", \"neptuno\", sep=\".\")",
      "execution_count": 289,
      "outputs": [
        {
          "output_type": "execute_result",
          "execution_count": 289,
          "data": {
            "text/plain": "'jupiter.tierra.neptuno'"
          },
          "metadata": {}
        }
      ]
    },
    {
      "metadata": {
        "id": "6El9TsF5mR3O",
        "colab_type": "code",
        "colab": {},
        "trusted": false
      },
      "cell_type": "markdown",
      "source": "<hr>\n<h2 style=\"color:#30B2FA\">Desempaquetando una lista de argumentos</h2>\n<p>La situación inversa ocurre cuando los argumentos ya están en una lista o tupla pero necesitan ser desempaquetados para\nllamar a una función que requiere argumentos posicionales separados. </p>"
    },
    {
      "metadata": {
        "id": "bE349DQ7mU2Q",
        "colab_type": "code",
        "colab": {
          "base_uri": "https://localhost:8080/",
          "height": 35
        },
        "outputId": "bdc673e2-e79e-4776-863f-bfd2feed0d81",
        "trusted": true
      },
      "cell_type": "code",
      "source": "list(range(6, 12)) # llamada normal con argumentos separados",
      "execution_count": 290,
      "outputs": [
        {
          "output_type": "execute_result",
          "execution_count": 290,
          "data": {
            "text/plain": "[6, 7, 8, 9, 10, 11]"
          },
          "metadata": {}
        }
      ]
    },
    {
      "metadata": {
        "id": "ZdzypkVVmcMR",
        "colab_type": "code",
        "colab": {
          "base_uri": "https://localhost:8080/",
          "height": 35
        },
        "outputId": "4bc1d0ff-c828-4a15-de31-78f3ff6976ff",
        "trusted": true
      },
      "cell_type": "code",
      "source": "args = [6, 12]\nlist(range(*args)) # llamada con argumentos desempaquetados de la lista\n",
      "execution_count": 291,
      "outputs": [
        {
          "output_type": "execute_result",
          "execution_count": 291,
          "data": {
            "text/plain": "[6, 7, 8, 9, 10, 11]"
          },
          "metadata": {}
        }
      ]
    },
    {
      "metadata": {
        "id": "z_WZVB4umcH7",
        "colab_type": "code",
        "colab": {},
        "trusted": false
      },
      "cell_type": "markdown",
      "source": "<p>Del mismo modo, los diccionarios pueden entregar argumentos nombrados con el operador **::</p>"
    },
    {
      "metadata": {
        "id": "6OytQT-vmUwT",
        "colab_type": "code",
        "colab": {
          "base_uri": "https://localhost:8080/",
          "height": 35
        },
        "outputId": "0d355762-68fe-4305-e935-4b561bddf074",
        "trusted": true
      },
      "cell_type": "code",
      "source": "def loro(tension, estado='rostizado', accion='explotar'):\n  print(\"-- Este loro no va a\", accion, end=' ')\n  print(\"si le aplicás\", tension, \"wats.\", end=' ')\n  print(\"Está\", estado, \"!\")\nd = {\"tension\": \"un mil\", \"estado\": \"acabado\",\n\"accion\": \"VOLAR\"}\nloro(**d)",
      "execution_count": 292,
      "outputs": [
        {
          "output_type": "stream",
          "text": "-- Este loro no va a VOLAR si le aplicás un mil wats. Está acabado !\n",
          "name": "stdout"
        }
      ]
    },
    {
      "metadata": {
        "trusted": true,
        "id": "ZcQo7h-6YnxC",
        "colab_type": "code",
        "colab": {}
      },
      "cell_type": "code",
      "source": "",
      "execution_count": null,
      "outputs": []
    }
  ],
  "metadata": {
    "kernelspec": {
      "name": "python36",
      "display_name": "Python 3.6",
      "language": "python"
    },
    "language_info": {
      "mimetype": "text/x-python",
      "nbconvert_exporter": "python",
      "name": "python",
      "pygments_lexer": "ipython3",
      "version": "3.6.6",
      "file_extension": ".py",
      "codemirror_mode": {
        "version": 3,
        "name": "ipython"
      }
    },
    "colab": {
      "name": "T.Tutorial de Markdown (2).ipynb",
      "provenance": [],
      "collapsed_sections": []
    }
  },
  "nbformat": 4,
  "nbformat_minor": 1
}