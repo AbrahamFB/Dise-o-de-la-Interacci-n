{
 "cells": [
  {
   "cell_type": "code",
   "execution_count": 32,
   "metadata": {},
   "outputs": [
    {
     "output_type": "stream",
     "name": "stdout",
     "text": [
      "--------------------------------------------------------------------------------\n................................................................................\nx=                                   Hola Mundo                                   \n................................................................................\n--------------------------------------------------------------------------------\n"
     ]
    }
   ],
   "source": [
    "def decorador(funcion):\n",
    "    print(80*\"-\")\n",
    "    print(80*\".\")\n",
    "    funcion()\n",
    "    print(80*\".\")\n",
    "    print(80*\"-\")\n",
    "    \n",
    "def ejemplo():\n",
    "    x = \"Hola Mundo\"\n",
    "    print(f\"{x=:^80}\")\n",
    "    \n",
    "decorador = decorador(ejemplo)"
   ]
  },
  {
   "source": [],
   "cell_type": "code",
   "metadata": {},
   "execution_count": null,
   "outputs": []
  },
  {
   "cell_type": "code",
   "execution_count": 33,
   "metadata": {},
   "outputs": [
    {
     "output_type": "stream",
     "name": "stdout",
     "text": [
      "--------------------------------------------------------------------------------\n********************************************************************************\n                                   Hola Mundo                                   \n********************************************************************************\n--------------------------------------------------------------------------------\n--------------------------------------------------------------------------------\n********************************************************************************\n                                                                           Adios\n********************************************************************************\n--------------------------------------------------------------------------------\n"
     ]
    }
   ],
   "source": [
    "def decorador(funcion):\n",
    "    print(80*\"-\")\n",
    "    print(80*\"*\")\n",
    "    funcion()\n",
    "    print(80*\"*\")\n",
    "    print(80*\"-\")\n",
    "    \n",
    "@decorador\n",
    "def ejemplo():\n",
    "    x = \"Hola Mundo\"\n",
    "    print(f\"{x:^80}\")\n",
    "\n",
    "@decorador\n",
    "def ejemplo2():\n",
    "    y = \"Adios\"\n",
    "    print(f\"{y:>80}\")"
   ]
  },
  {
   "cell_type": "code",
   "execution_count": 34,
   "metadata": {},
   "outputs": [
    {
     "output_type": "stream",
     "name": "stdout",
     "text": [
      "Coordenada(x=1.2, y=3.2)\n"
     ]
    }
   ],
   "source": [
    "from dataclasses import make_dataclass\n",
    "\n",
    "Coordenada = make_dataclass('Coordenada',['x','y'])\n",
    "p1 = Coordenada(1.2,3.2)\n",
    "print(p1)"
   ]
  },
  {
   "cell_type": "code",
   "execution_count": 35,
   "metadata": {},
   "outputs": [
    {
     "output_type": "stream",
     "name": "stdout",
     "text": [
      "Punto(x=1.2, y=2.1)\nPunto(x=9.8, y=2.1)\n"
     ]
    }
   ],
   "source": [
    "from dataclasses import dataclass\n",
    "\n",
    "def decorador(funcion):\n",
    "    print(80*\"-\")\n",
    "    funcion()\n",
    "    print(80*\"-\")\n",
    "    \n",
    "@dataclass\n",
    "class Punto:\n",
    "    x: float\n",
    "    y: float\n",
    "        \n",
    "a1 = Punto(1.2,2.1)\n",
    "print(a1)\n",
    "a1.x = 9.8\n",
    "print(a1)"
   ]
  },
  {
   "cell_type": "code",
   "execution_count": 36,
   "metadata": {},
   "outputs": [
    {
     "output_type": "stream",
     "name": "stdout",
     "text": [
      "--------------------------------------------------------------------------------\nPunto(x=1, y=2)\n--------------------------------------------------------------------------------\n"
     ]
    }
   ],
   "source": [
    "\n",
    "def decorador(funcion):\n",
    "    print(80*\"-\")\n",
    "    funcion()\n",
    "    print(80*\"-\")\n",
    "\n",
    "@decorador\n",
    "class Muestra:\n",
    "    def __init__(self):\n",
    "        print(Punto(1,2))\n",
    "\n"
   ]
  },
  {
   "cell_type": "code",
   "execution_count": 37,
   "metadata": {},
   "outputs": [
    {
     "output_type": "stream",
     "name": "stdout",
     "text": [
      "Point(x=1.5, y=2.5, z=0.0)\n"
     ]
    }
   ],
   "source": [
    "from dataclasses import dataclass\n",
    "@dataclass\n",
    "class Point:\n",
    "    x: float\n",
    "    y: float\n",
    "    z: float = 0.0\n",
    "\n",
    "p = Point(1.5, 2.5)\n",
    "print(p)   # produces \"Point(x=1.5, y=2.5, z=0.0)\""
   ]
  }
 ],
 "metadata": {
  "kernelspec": {
   "name": "Python 3.9.0 64-bit",
   "display_name": "Python 3.9.0 64-bit",
   "metadata": {
    "interpreter": {
     "hash": "38740d3277777e2cd7c6c2cc9d8addf5118fdf3f82b1b39231fd12aeac8aee8b"
    }
   }
  },
  "language_info": {
   "codemirror_mode": {
    "name": "ipython",
    "version": 3
   },
   "file_extension": ".py",
   "mimetype": "text/x-python",
   "name": "python",
   "nbconvert_exporter": "python",
   "pygments_lexer": "ipython3",
   "version": "3.9.0-final"
  }
 },
 "nbformat": 4,
 "nbformat_minor": 4
}